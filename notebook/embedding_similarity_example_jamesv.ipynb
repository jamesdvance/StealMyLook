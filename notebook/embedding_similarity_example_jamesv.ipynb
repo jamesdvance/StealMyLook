{
 "cells": [
  {
   "cell_type": "code",
   "execution_count": 6,
   "metadata": {},
   "outputs": [],
   "source": [
    "import pandas as pd \n",
    "import tensorflow as tf \n",
    "import boto3"
   ]
  },
  {
   "cell_type": "markdown",
   "metadata": {},
   "source": [
    "https://www.kaggle.com/code/quadeer15sh/visually-similar-product-recommendation"
   ]
  },
  {
   "cell_type": "code",
   "execution_count": null,
   "metadata": {},
   "outputs": [],
   "source": [
    "datagen = ImageDataGenerator(rescale=1/255.)\n",
    "\n",
    "train_generator = datagen.flow_from_dataframe(dataframe=train,\n",
    "                                             target_size=(256,256),\n",
    "                                             x_col='filename',\n",
    "                                             class_mode=None,\n",
    "                                             batch_size=32,\n",
    "                                             shuffle=False,\n",
    "                                             classes=['images'])\n",
    "\n",
    "val_generator = datagen.flow_from_dataframe(dataframe=val,\n",
    "                                             target_size=(256,256),\n",
    "                                             x_col='filename',\n",
    "                                             class_mode=None,\n",
    "                                             batch_size=32,\n",
    "                                             shuffle=False,\n",
    "                                             classes=['images'])"
   ]
  },
  {
   "cell_type": "code",
   "execution_count": null,
   "metadata": {},
   "outputs": [],
   "source": [
    "base_model = VGG16(include_top=False,input_shape=(256,256,3))\n",
    "\n",
    "model = Sequential()\n",
    "for layer in base_model.layers:\n",
    "    model.add(layer)\n",
    "model.add(GlobalAveragePooling2D())\n",
    "model.summary()"
   ]
  }
 ],
 "metadata": {
  "kernelspec": {
   "display_name": "tf_env",
   "language": "python",
   "name": "python3"
  },
  "language_info": {
   "codemirror_mode": {
    "name": "ipython",
    "version": 3
   },
   "file_extension": ".py",
   "mimetype": "text/x-python",
   "name": "python",
   "nbconvert_exporter": "python",
   "pygments_lexer": "ipython3",
   "version": "3.9.0"
  }
 },
 "nbformat": 4,
 "nbformat_minor": 2
}

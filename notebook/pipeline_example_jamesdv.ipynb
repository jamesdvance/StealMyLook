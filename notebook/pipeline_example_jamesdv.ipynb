{
 "cells": [
  {
   "cell_type": "code",
   "execution_count": 1,
   "metadata": {},
   "outputs": [],
   "source": [
    "import pandas as pd \n",
    "import numpy as np\n",
    "import boto3 \n",
    "import psycopg2\n",
    "from PIL import Image"
   ]
  },
  {
   "cell_type": "code",
   "execution_count": 2,
   "metadata": {},
   "outputs": [],
   "source": [
    "import requests"
   ]
  },
  {
   "cell_type": "code",
   "execution_count": 3,
   "metadata": {},
   "outputs": [
    {
     "name": "stderr",
     "output_type": "stream",
     "text": [
      "/home/james/anaconda3/envs/matchmylook_env/lib/python3.11/site-packages/tqdm/auto.py:21: TqdmWarning: IProgress not found. Please update jupyter and ipywidgets. See https://ipywidgets.readthedocs.io/en/stable/user_install.html\n",
      "  from .autonotebook import tqdm as notebook_tqdm\n"
     ]
    },
    {
     "name": "stdout",
     "output_type": "stream",
     "text": [
      "Loading function\n"
     ]
    },
    {
     "name": "stderr",
     "output_type": "stream",
     "text": [
      "/home/james/anaconda3/envs/matchmylook_env/lib/python3.11/site-packages/transformers/models/segformer/image_processing_segformer.py:99: FutureWarning: The `reduce_labels` parameter is deprecated and will be removed in a future version. Please use `do_reduce_labels` instead.\n",
      "  warnings.warn(\n",
      "/home/james/anaconda3/envs/matchmylook_env/lib/python3.11/site-packages/torchvision/models/_utils.py:208: UserWarning: The parameter 'pretrained' is deprecated since 0.13 and may be removed in the future, please use 'weights' instead.\n",
      "  warnings.warn(\n",
      "/home/james/anaconda3/envs/matchmylook_env/lib/python3.11/site-packages/torchvision/models/_utils.py:223: UserWarning: Arguments other than a weight enum or `None` for 'weights' are deprecated since 0.13 and may be removed in the future. The current behavior is equivalent to passing `weights=VGG16_Weights.IMAGENET1K_V1`. You can also use `weights=VGG16_Weights.DEFAULT` to get the most up-to-date weights.\n",
      "  warnings.warn(msg)\n"
     ]
    }
   ],
   "source": [
    "import sys \n",
    "sys.path.append(\"../\")\n",
    "from backend.single_category_processor import process_category"
   ]
  },
  {
   "cell_type": "markdown",
   "metadata": {},
   "source": [
    "## Kaggle Clothing Images Dataset Pipeline"
   ]
  },
  {
   "cell_type": "code",
   "execution_count": 4,
   "metadata": {},
   "outputs": [],
   "source": [
    "\n",
    "engine = psycopg2.connect(\n",
    "    database=\"stealmylook\",\n",
    "    user=\"postgres\",\n",
    "    password=\"postgres\",\n",
    "    host=\"stealmylook1.ctjitqpxi57z.us-east-1.rds.amazonaws.com\",\n",
    "    port='5432'\n",
    ")"
   ]
  },
  {
   "cell_type": "code",
   "execution_count": 5,
   "metadata": {},
   "outputs": [],
   "source": [
    "engine.autocommit = True"
   ]
  },
  {
   "cell_type": "code",
   "execution_count": 6,
   "metadata": {},
   "outputs": [],
   "source": [
    "cur = engine.cursor()"
   ]
  },
  {
   "cell_type": "code",
   "execution_count": 7,
   "metadata": {},
   "outputs": [],
   "source": [
    "#cur.execute(\"CREATE EXTENSION vector;\")"
   ]
  },
  {
   "cell_type": "code",
   "execution_count": 8,
   "metadata": {},
   "outputs": [],
   "source": [
    "# cur.execute(\"\"\"\n",
    "#         drop table tops;\"\"\")"
   ]
  },
  {
   "cell_type": "code",
   "execution_count": 9,
   "metadata": {},
   "outputs": [],
   "source": [
    "# cur.execute(\"\"\"\n",
    "#         CREATE TABLE tops (\n",
    "#             id bigserial PRIMARY KEY, \n",
    "#             img_embedding vector(1363),\n",
    "#             orig_link text,\n",
    "#             display_name varchar(400),\n",
    "#             price real,\n",
    "#             gender varchar(20),\n",
    "#             type varchar(100)\n",
    "#         );\"\"\")"
   ]
  },
  {
   "cell_type": "code",
   "execution_count": 10,
   "metadata": {},
   "outputs": [],
   "source": [
    "# cur.execute(\"\"\"\n",
    "#         CREATE TABLE tops (\n",
    "#             id bigserial PRIMARY KEY, \n",
    "#             img_embedding vector(4096),\n",
    "#             orig_link text,\n",
    "#             display_name varchar(400),\n",
    "#             price real,\n",
    "#             type varchar(100)\n",
    "#         );\"\"\")"
   ]
  },
  {
   "cell_type": "code",
   "execution_count": 11,
   "metadata": {},
   "outputs": [],
   "source": [
    "# cur.execute(\"\"\"\n",
    "#         delete from tops;\n",
    "#         \"\"\")"
   ]
  },
  {
   "cell_type": "code",
   "execution_count": 12,
   "metadata": {},
   "outputs": [],
   "source": [
    "#cur.execute(\"CREATE INDEX ON tops USING hnsw (img_embedding vector_cosine_ops);\")"
   ]
  },
  {
   "cell_type": "code",
   "execution_count": 13,
   "metadata": {},
   "outputs": [],
   "source": [
    "DATA_DIR = \"/mnt/c/Users/james/Downloads/kaggle_clothing/fashion-dataset/\""
   ]
  },
  {
   "cell_type": "code",
   "execution_count": 14,
   "metadata": {},
   "outputs": [],
   "source": [
    "images_df = pd.read_csv(DATA_DIR+\"images.csv\")"
   ]
  },
  {
   "cell_type": "code",
   "execution_count": 15,
   "metadata": {},
   "outputs": [],
   "source": [
    "styles_df = pd.read_csv(DATA_DIR+\"styles.csv\",\n",
    "                        on_bad_lines=\"skip\",\n",
    "                         #error_bad_lines=False\n",
    "                         )"
   ]
  },
  {
   "cell_type": "code",
   "execution_count": 16,
   "metadata": {},
   "outputs": [
    {
     "data": {
      "text/html": [
       "<div>\n",
       "<style scoped>\n",
       "    .dataframe tbody tr th:only-of-type {\n",
       "        vertical-align: middle;\n",
       "    }\n",
       "\n",
       "    .dataframe tbody tr th {\n",
       "        vertical-align: top;\n",
       "    }\n",
       "\n",
       "    .dataframe thead th {\n",
       "        text-align: right;\n",
       "    }\n",
       "</style>\n",
       "<table border=\"1\" class=\"dataframe\">\n",
       "  <thead>\n",
       "    <tr style=\"text-align: right;\">\n",
       "      <th></th>\n",
       "      <th>filename</th>\n",
       "      <th>link</th>\n",
       "    </tr>\n",
       "  </thead>\n",
       "  <tbody>\n",
       "    <tr>\n",
       "      <th>0</th>\n",
       "      <td>15970.jpg</td>\n",
       "      <td>http://assets.myntassets.com/v1/images/style/p...</td>\n",
       "    </tr>\n",
       "    <tr>\n",
       "      <th>1</th>\n",
       "      <td>39386.jpg</td>\n",
       "      <td>http://assets.myntassets.com/v1/images/style/p...</td>\n",
       "    </tr>\n",
       "    <tr>\n",
       "      <th>2</th>\n",
       "      <td>59263.jpg</td>\n",
       "      <td>http://assets.myntassets.com/v1/images/style/p...</td>\n",
       "    </tr>\n",
       "    <tr>\n",
       "      <th>3</th>\n",
       "      <td>21379.jpg</td>\n",
       "      <td>http://assets.myntassets.com/v1/images/style/p...</td>\n",
       "    </tr>\n",
       "    <tr>\n",
       "      <th>4</th>\n",
       "      <td>53759.jpg</td>\n",
       "      <td>http://assets.myntassets.com/v1/images/style/p...</td>\n",
       "    </tr>\n",
       "  </tbody>\n",
       "</table>\n",
       "</div>"
      ],
      "text/plain": [
       "    filename                                               link\n",
       "0  15970.jpg  http://assets.myntassets.com/v1/images/style/p...\n",
       "1  39386.jpg  http://assets.myntassets.com/v1/images/style/p...\n",
       "2  59263.jpg  http://assets.myntassets.com/v1/images/style/p...\n",
       "3  21379.jpg  http://assets.myntassets.com/v1/images/style/p...\n",
       "4  53759.jpg  http://assets.myntassets.com/v1/images/style/p..."
      ]
     },
     "execution_count": 16,
     "metadata": {},
     "output_type": "execute_result"
    }
   ],
   "source": [
    "images_df.head()"
   ]
  },
  {
   "cell_type": "code",
   "execution_count": 17,
   "metadata": {},
   "outputs": [],
   "source": [
    "images_df[\"id\"] = images_df[\"filename\"].str.replace(\".jpg\",\"\").astype(int)"
   ]
  },
  {
   "cell_type": "code",
   "execution_count": 18,
   "metadata": {},
   "outputs": [
    {
     "data": {
      "text/plain": [
       "(44424, 10)"
      ]
     },
     "execution_count": 18,
     "metadata": {},
     "output_type": "execute_result"
    }
   ],
   "source": [
    "styles_df.shape"
   ]
  },
  {
   "cell_type": "code",
   "execution_count": 19,
   "metadata": {},
   "outputs": [
    {
     "data": {
      "text/plain": [
       "dtype('int64')"
      ]
     },
     "execution_count": 19,
     "metadata": {},
     "output_type": "execute_result"
    }
   ],
   "source": [
    "styles_df[\"id\"].dtype"
   ]
  },
  {
   "cell_type": "code",
   "execution_count": 20,
   "metadata": {},
   "outputs": [
    {
     "data": {
      "text/html": [
       "<div>\n",
       "<style scoped>\n",
       "    .dataframe tbody tr th:only-of-type {\n",
       "        vertical-align: middle;\n",
       "    }\n",
       "\n",
       "    .dataframe tbody tr th {\n",
       "        vertical-align: top;\n",
       "    }\n",
       "\n",
       "    .dataframe thead th {\n",
       "        text-align: right;\n",
       "    }\n",
       "</style>\n",
       "<table border=\"1\" class=\"dataframe\">\n",
       "  <thead>\n",
       "    <tr style=\"text-align: right;\">\n",
       "      <th></th>\n",
       "      <th>id</th>\n",
       "      <th>gender</th>\n",
       "      <th>masterCategory</th>\n",
       "      <th>subCategory</th>\n",
       "      <th>articleType</th>\n",
       "      <th>baseColour</th>\n",
       "      <th>season</th>\n",
       "      <th>year</th>\n",
       "      <th>usage</th>\n",
       "      <th>productDisplayName</th>\n",
       "    </tr>\n",
       "  </thead>\n",
       "  <tbody>\n",
       "    <tr>\n",
       "      <th>0</th>\n",
       "      <td>15970</td>\n",
       "      <td>Men</td>\n",
       "      <td>Apparel</td>\n",
       "      <td>Topwear</td>\n",
       "      <td>Shirts</td>\n",
       "      <td>Navy Blue</td>\n",
       "      <td>Fall</td>\n",
       "      <td>2011.0</td>\n",
       "      <td>Casual</td>\n",
       "      <td>Turtle Check Men Navy Blue Shirt</td>\n",
       "    </tr>\n",
       "    <tr>\n",
       "      <th>1</th>\n",
       "      <td>39386</td>\n",
       "      <td>Men</td>\n",
       "      <td>Apparel</td>\n",
       "      <td>Bottomwear</td>\n",
       "      <td>Jeans</td>\n",
       "      <td>Blue</td>\n",
       "      <td>Summer</td>\n",
       "      <td>2012.0</td>\n",
       "      <td>Casual</td>\n",
       "      <td>Peter England Men Party Blue Jeans</td>\n",
       "    </tr>\n",
       "    <tr>\n",
       "      <th>2</th>\n",
       "      <td>59263</td>\n",
       "      <td>Women</td>\n",
       "      <td>Accessories</td>\n",
       "      <td>Watches</td>\n",
       "      <td>Watches</td>\n",
       "      <td>Silver</td>\n",
       "      <td>Winter</td>\n",
       "      <td>2016.0</td>\n",
       "      <td>Casual</td>\n",
       "      <td>Titan Women Silver Watch</td>\n",
       "    </tr>\n",
       "    <tr>\n",
       "      <th>3</th>\n",
       "      <td>21379</td>\n",
       "      <td>Men</td>\n",
       "      <td>Apparel</td>\n",
       "      <td>Bottomwear</td>\n",
       "      <td>Track Pants</td>\n",
       "      <td>Black</td>\n",
       "      <td>Fall</td>\n",
       "      <td>2011.0</td>\n",
       "      <td>Casual</td>\n",
       "      <td>Manchester United Men Solid Black Track Pants</td>\n",
       "    </tr>\n",
       "    <tr>\n",
       "      <th>4</th>\n",
       "      <td>53759</td>\n",
       "      <td>Men</td>\n",
       "      <td>Apparel</td>\n",
       "      <td>Topwear</td>\n",
       "      <td>Tshirts</td>\n",
       "      <td>Grey</td>\n",
       "      <td>Summer</td>\n",
       "      <td>2012.0</td>\n",
       "      <td>Casual</td>\n",
       "      <td>Puma Men Grey T-shirt</td>\n",
       "    </tr>\n",
       "  </tbody>\n",
       "</table>\n",
       "</div>"
      ],
      "text/plain": [
       "      id gender masterCategory subCategory  articleType baseColour  season   \n",
       "0  15970    Men        Apparel     Topwear       Shirts  Navy Blue    Fall  \\\n",
       "1  39386    Men        Apparel  Bottomwear        Jeans       Blue  Summer   \n",
       "2  59263  Women    Accessories     Watches      Watches     Silver  Winter   \n",
       "3  21379    Men        Apparel  Bottomwear  Track Pants      Black    Fall   \n",
       "4  53759    Men        Apparel     Topwear      Tshirts       Grey  Summer   \n",
       "\n",
       "     year   usage                             productDisplayName  \n",
       "0  2011.0  Casual               Turtle Check Men Navy Blue Shirt  \n",
       "1  2012.0  Casual             Peter England Men Party Blue Jeans  \n",
       "2  2016.0  Casual                       Titan Women Silver Watch  \n",
       "3  2011.0  Casual  Manchester United Men Solid Black Track Pants  \n",
       "4  2012.0  Casual                          Puma Men Grey T-shirt  "
      ]
     },
     "execution_count": 20,
     "metadata": {},
     "output_type": "execute_result"
    }
   ],
   "source": [
    "styles_df.head()"
   ]
  },
  {
   "cell_type": "code",
   "execution_count": 21,
   "metadata": {},
   "outputs": [],
   "source": [
    "styles_df = styles_df.merge(images_df, on=\"id\")"
   ]
  },
  {
   "cell_type": "code",
   "execution_count": 22,
   "metadata": {},
   "outputs": [
    {
     "data": {
      "text/plain": [
       "(44424, 12)"
      ]
     },
     "execution_count": 22,
     "metadata": {},
     "output_type": "execute_result"
    }
   ],
   "source": [
    "styles_df.shape"
   ]
  },
  {
   "cell_type": "code",
   "execution_count": 23,
   "metadata": {},
   "outputs": [
    {
     "data": {
      "text/plain": [
       "subCategory\n",
       "Topwear                     15402\n",
       "Shoes                        7343\n",
       "Bags                         3055\n",
       "Bottomwear                   2694\n",
       "Watches                      2542\n",
       "Innerwear                    1808\n",
       "Jewellery                    1079\n",
       "Eyewear                      1073\n",
       "Fragrance                    1011\n",
       "Sandal                        963\n",
       "Wallets                       933\n",
       "Flip Flops                    913\n",
       "Belts                         811\n",
       "Socks                         698\n",
       "Lips                          527\n",
       "Dress                         478\n",
       "Loungewear and Nightwear      470\n",
       "Saree                         427\n",
       "Nails                         329\n",
       "Makeup                        307\n",
       "Headwear                      293\n",
       "Ties                          258\n",
       "Accessories                   129\n",
       "Scarves                       118\n",
       "Cufflinks                     108\n",
       "Apparel Set                   106\n",
       "Free Gifts                    104\n",
       "Stoles                         90\n",
       "Skin Care                      77\n",
       "Skin                           69\n",
       "Eyes                           43\n",
       "Mufflers                       38\n",
       "Shoe Accessories               24\n",
       "Sports Equipment               21\n",
       "Gloves                         20\n",
       "Hair                           19\n",
       "Bath and Body                  12\n",
       "Water Bottle                    7\n",
       "Perfumes                        6\n",
       "Umbrellas                       6\n",
       "Beauty Accessories              4\n",
       "Wristbands                      4\n",
       "Sports Accessories              3\n",
       "Home Furnishing                 1\n",
       "Vouchers                        1\n",
       "Name: count, dtype: int64"
      ]
     },
     "execution_count": 23,
     "metadata": {},
     "output_type": "execute_result"
    }
   ],
   "source": [
    "styles_df[\"subCategory\"].value_counts()"
   ]
  },
  {
   "cell_type": "code",
   "execution_count": 24,
   "metadata": {},
   "outputs": [],
   "source": [
    "topwear = styles_df[styles_df[\"subCategory\"]==\"Topwear\"]"
   ]
  },
  {
   "cell_type": "code",
   "execution_count": 25,
   "metadata": {},
   "outputs": [
    {
     "data": {
      "text/plain": [
       "(15402, 12)"
      ]
     },
     "execution_count": 25,
     "metadata": {},
     "output_type": "execute_result"
    }
   ],
   "source": [
    "topwear.shape"
   ]
  },
  {
   "cell_type": "code",
   "execution_count": 26,
   "metadata": {},
   "outputs": [
    {
     "name": "stderr",
     "output_type": "stream",
     "text": [
      "/tmp/ipykernel_20739/2792358604.py:1: SettingWithCopyWarning: \n",
      "A value is trying to be set on a copy of a slice from a DataFrame.\n",
      "Try using .loc[row_indexer,col_indexer] = value instead\n",
      "\n",
      "See the caveats in the documentation: https://pandas.pydata.org/pandas-docs/stable/user_guide/indexing.html#returning-a-view-versus-a-copy\n",
      "  topwear[\"price\"] = np.random.uniform(low=10, high=350, size=(len(topwear),))\n"
     ]
    }
   ],
   "source": [
    "topwear[\"price\"] = np.random.uniform(low=10, high=350, size=(len(topwear),))"
   ]
  },
  {
   "cell_type": "code",
   "execution_count": 27,
   "metadata": {},
   "outputs": [],
   "source": [
    "\n",
    "#             id bigserial PRIMARY KEY, \n",
    "#             img_embedding vector(4096),\n",
    "#             orig_link text,\n",
    "#             display_name varchar(400),\n",
    "#             price real,\n",
    "#             type varchar(100)"
   ]
  },
  {
   "cell_type": "code",
   "execution_count": 28,
   "metadata": {},
   "outputs": [
    {
     "name": "stderr",
     "output_type": "stream",
     "text": [
      "/tmp/ipykernel_20739/3590535080.py:1: SettingWithCopyWarning: \n",
      "A value is trying to be set on a copy of a slice from a DataFrame.\n",
      "Try using .loc[row_indexer,col_indexer] = value instead\n",
      "\n",
      "See the caveats in the documentation: https://pandas.pydata.org/pandas-docs/stable/user_guide/indexing.html#returning-a-view-versus-a-copy\n",
      "  topwear[\"productDisplayName\"] = topwear[\"productDisplayName\"].str.replace(\"'\",\"\")\n"
     ]
    }
   ],
   "source": [
    "topwear[\"productDisplayName\"] = topwear[\"productDisplayName\"].str.replace(\"'\",\"\")"
   ]
  },
  {
   "cell_type": "code",
   "execution_count": 29,
   "metadata": {},
   "outputs": [
    {
     "data": {
      "text/html": [
       "<div>\n",
       "<style scoped>\n",
       "    .dataframe tbody tr th:only-of-type {\n",
       "        vertical-align: middle;\n",
       "    }\n",
       "\n",
       "    .dataframe tbody tr th {\n",
       "        vertical-align: top;\n",
       "    }\n",
       "\n",
       "    .dataframe thead th {\n",
       "        text-align: right;\n",
       "    }\n",
       "</style>\n",
       "<table border=\"1\" class=\"dataframe\">\n",
       "  <thead>\n",
       "    <tr style=\"text-align: right;\">\n",
       "      <th></th>\n",
       "      <th>id</th>\n",
       "      <th>gender</th>\n",
       "      <th>masterCategory</th>\n",
       "      <th>subCategory</th>\n",
       "      <th>articleType</th>\n",
       "      <th>baseColour</th>\n",
       "      <th>season</th>\n",
       "      <th>year</th>\n",
       "      <th>usage</th>\n",
       "      <th>productDisplayName</th>\n",
       "      <th>filename</th>\n",
       "      <th>link</th>\n",
       "      <th>price</th>\n",
       "    </tr>\n",
       "  </thead>\n",
       "  <tbody>\n",
       "    <tr>\n",
       "      <th>0</th>\n",
       "      <td>15970</td>\n",
       "      <td>Men</td>\n",
       "      <td>Apparel</td>\n",
       "      <td>Topwear</td>\n",
       "      <td>Shirts</td>\n",
       "      <td>Navy Blue</td>\n",
       "      <td>Fall</td>\n",
       "      <td>2011.0</td>\n",
       "      <td>Casual</td>\n",
       "      <td>Turtle Check Men Navy Blue Shirt</td>\n",
       "      <td>15970.jpg</td>\n",
       "      <td>http://assets.myntassets.com/v1/images/style/p...</td>\n",
       "      <td>109.118908</td>\n",
       "    </tr>\n",
       "  </tbody>\n",
       "</table>\n",
       "</div>"
      ],
      "text/plain": [
       "      id gender masterCategory subCategory articleType baseColour season   \n",
       "0  15970    Men        Apparel     Topwear      Shirts  Navy Blue   Fall  \\\n",
       "\n",
       "     year   usage                productDisplayName   filename   \n",
       "0  2011.0  Casual  Turtle Check Men Navy Blue Shirt  15970.jpg  \\\n",
       "\n",
       "                                                link       price  \n",
       "0  http://assets.myntassets.com/v1/images/style/p...  109.118908  "
      ]
     },
     "execution_count": 29,
     "metadata": {},
     "output_type": "execute_result"
    }
   ],
   "source": [
    "topwear.head(n=1)"
   ]
  },
  {
   "cell_type": "markdown",
   "metadata": {},
   "source": []
  },
  {
   "cell_type": "code",
   "execution_count": 30,
   "metadata": {},
   "outputs": [
    {
     "name": "stderr",
     "output_type": "stream",
     "text": [
      "/tmp/ipykernel_20739/4065913434.py:1: SettingWithCopyWarning: \n",
      "A value is trying to be set on a copy of a slice from a DataFrame.\n",
      "Try using .loc[row_indexer,col_indexer] = value instead\n",
      "\n",
      "See the caveats in the documentation: https://pandas.pydata.org/pandas-docs/stable/user_guide/indexing.html#returning-a-view-versus-a-copy\n",
      "  topwear[\"articleType\"] = topwear[\"articleType\"].str.replace(\"'\",\"\")\n"
     ]
    }
   ],
   "source": [
    "topwear[\"articleType\"] = topwear[\"articleType\"].str.replace(\"'\",\"\")\n"
   ]
  },
  {
   "cell_type": "code",
   "execution_count": 31,
   "metadata": {},
   "outputs": [],
   "source": [
    "from psycopg2.errors import UniqueViolation"
   ]
  },
  {
   "cell_type": "code",
   "execution_count": 35,
   "metadata": {},
   "outputs": [
    {
     "name": "stdout",
     "output_type": "stream",
     "text": [
      "At index 0\n",
      "At index 30\n",
      "At index 90\n",
      "At index 110\n",
      "At index 140\n"
     ]
    },
    {
     "ename": "KeyboardInterrupt",
     "evalue": "",
     "output_type": "error",
     "traceback": [
      "\u001b[0;31m---------------------------------------------------------------------------\u001b[0m",
      "\u001b[0;31mKeyboardInterrupt\u001b[0m                         Traceback (most recent call last)",
      "Cell \u001b[0;32mIn[35], line 8\u001b[0m\n\u001b[1;32m      2\u001b[0m \u001b[38;5;28;01mif\u001b[39;00m idx \u001b[38;5;241m%\u001b[39m \u001b[38;5;241m10\u001b[39m \u001b[38;5;241m==\u001b[39m \u001b[38;5;241m0\u001b[39m:\n\u001b[1;32m      3\u001b[0m     \u001b[38;5;28mprint\u001b[39m(\u001b[38;5;124mf\u001b[39m\u001b[38;5;124m\"\u001b[39m\u001b[38;5;124mAt index \u001b[39m\u001b[38;5;132;01m{\u001b[39;00midx\u001b[38;5;132;01m}\u001b[39;00m\u001b[38;5;124m\"\u001b[39m)\n\u001b[1;32m      6\u001b[0m embedding \u001b[38;5;241m=\u001b[39m \u001b[38;5;28mstr\u001b[39m(\n\u001b[1;32m      7\u001b[0m     \u001b[38;5;28mlist\u001b[39m(\n\u001b[0;32m----> 8\u001b[0m         process_category(Image\u001b[38;5;241m.\u001b[39mopen(requests\u001b[38;5;241m.\u001b[39mget(row[\u001b[38;5;124m\"\u001b[39m\u001b[38;5;124mlink\u001b[39m\u001b[38;5;124m\"\u001b[39m], stream\u001b[38;5;241m=\u001b[39m\u001b[38;5;28;01mTrue\u001b[39;00m)\u001b[38;5;241m.\u001b[39mraw),\u001b[38;5;124m\"\u001b[39m\u001b[38;5;124mtops\u001b[39m\u001b[38;5;124m\"\u001b[39m)\n\u001b[1;32m      9\u001b[0m     )\n\u001b[1;32m     10\u001b[0m )\n\u001b[1;32m     11\u001b[0m topwear\u001b[38;5;241m.\u001b[39mat[idx, \u001b[38;5;124m\"\u001b[39m\u001b[38;5;124membedding\u001b[39m\u001b[38;5;124m\"\u001b[39m] \u001b[38;5;241m=\u001b[39m embedding \n\u001b[1;32m     12\u001b[0m \u001b[38;5;28;01mtry\u001b[39;00m:\n",
      "File \u001b[0;32m~/StealMyLook/notebook/../backend/single_category_processor.py:32\u001b[0m, in \u001b[0;36mprocess_category\u001b[0;34m(image, category)\u001b[0m\n\u001b[1;32m     27\u001b[0m \u001b[38;5;28;01mdef\u001b[39;00m \u001b[38;5;21mprocess_category\u001b[39m(image, category):\n\u001b[1;32m     28\u001b[0m     \u001b[38;5;66;03m#print(\"Received event: \" + json.dumps(event, indent=2))\u001b[39;00m\n\u001b[1;32m     29\u001b[0m \n\u001b[1;32m     30\u001b[0m     \u001b[38;5;66;03m# Segment \u001b[39;00m\n\u001b[1;32m     31\u001b[0m     inputs \u001b[38;5;241m=\u001b[39m processor(images\u001b[38;5;241m=\u001b[39mimage, return_tensors\u001b[38;5;241m=\u001b[39m\u001b[38;5;124m\"\u001b[39m\u001b[38;5;124mpt\u001b[39m\u001b[38;5;124m\"\u001b[39m)\n\u001b[0;32m---> 32\u001b[0m     outputs \u001b[38;5;241m=\u001b[39m model(\u001b[38;5;241m*\u001b[39m\u001b[38;5;241m*\u001b[39minputs)\n\u001b[1;32m     33\u001b[0m     logits \u001b[38;5;241m=\u001b[39m outputs\u001b[38;5;241m.\u001b[39mlogits\u001b[38;5;241m.\u001b[39mcpu()\n\u001b[1;32m     34\u001b[0m     upsampled_logits \u001b[38;5;241m=\u001b[39m nn\u001b[38;5;241m.\u001b[39mfunctional\u001b[38;5;241m.\u001b[39minterpolate(\n\u001b[1;32m     35\u001b[0m         logits,\n\u001b[1;32m     36\u001b[0m         size\u001b[38;5;241m=\u001b[39mimage\u001b[38;5;241m.\u001b[39msize[::\u001b[38;5;241m-\u001b[39m\u001b[38;5;241m1\u001b[39m],\n\u001b[1;32m     37\u001b[0m         mode\u001b[38;5;241m=\u001b[39m\u001b[38;5;124m\"\u001b[39m\u001b[38;5;124mbilinear\u001b[39m\u001b[38;5;124m\"\u001b[39m,\n\u001b[1;32m     38\u001b[0m         align_corners\u001b[38;5;241m=\u001b[39m\u001b[38;5;28;01mFalse\u001b[39;00m,\n\u001b[1;32m     39\u001b[0m     )   \n",
      "File \u001b[0;32m~/anaconda3/envs/matchmylook_env/lib/python3.11/site-packages/torch/nn/modules/module.py:1501\u001b[0m, in \u001b[0;36mModule._call_impl\u001b[0;34m(self, *args, **kwargs)\u001b[0m\n\u001b[1;32m   1496\u001b[0m \u001b[38;5;66;03m# If we don't have any hooks, we want to skip the rest of the logic in\u001b[39;00m\n\u001b[1;32m   1497\u001b[0m \u001b[38;5;66;03m# this function, and just call forward.\u001b[39;00m\n\u001b[1;32m   1498\u001b[0m \u001b[38;5;28;01mif\u001b[39;00m \u001b[38;5;129;01mnot\u001b[39;00m (\u001b[38;5;28mself\u001b[39m\u001b[38;5;241m.\u001b[39m_backward_hooks \u001b[38;5;129;01mor\u001b[39;00m \u001b[38;5;28mself\u001b[39m\u001b[38;5;241m.\u001b[39m_backward_pre_hooks \u001b[38;5;129;01mor\u001b[39;00m \u001b[38;5;28mself\u001b[39m\u001b[38;5;241m.\u001b[39m_forward_hooks \u001b[38;5;129;01mor\u001b[39;00m \u001b[38;5;28mself\u001b[39m\u001b[38;5;241m.\u001b[39m_forward_pre_hooks\n\u001b[1;32m   1499\u001b[0m         \u001b[38;5;129;01mor\u001b[39;00m _global_backward_pre_hooks \u001b[38;5;129;01mor\u001b[39;00m _global_backward_hooks\n\u001b[1;32m   1500\u001b[0m         \u001b[38;5;129;01mor\u001b[39;00m _global_forward_hooks \u001b[38;5;129;01mor\u001b[39;00m _global_forward_pre_hooks):\n\u001b[0;32m-> 1501\u001b[0m     \u001b[38;5;28;01mreturn\u001b[39;00m forward_call(\u001b[38;5;241m*\u001b[39margs, \u001b[38;5;241m*\u001b[39m\u001b[38;5;241m*\u001b[39mkwargs)\n\u001b[1;32m   1502\u001b[0m \u001b[38;5;66;03m# Do not call functions when jit is used\u001b[39;00m\n\u001b[1;32m   1503\u001b[0m full_backward_hooks, non_full_backward_hooks \u001b[38;5;241m=\u001b[39m [], []\n",
      "File \u001b[0;32m~/anaconda3/envs/matchmylook_env/lib/python3.11/site-packages/transformers/models/segformer/modeling_segformer.py:793\u001b[0m, in \u001b[0;36mSegformerForSemanticSegmentation.forward\u001b[0;34m(self, pixel_values, labels, output_attentions, output_hidden_states, return_dict)\u001b[0m\n\u001b[1;32m    788\u001b[0m return_dict \u001b[38;5;241m=\u001b[39m return_dict \u001b[38;5;28;01mif\u001b[39;00m return_dict \u001b[38;5;129;01mis\u001b[39;00m \u001b[38;5;129;01mnot\u001b[39;00m \u001b[38;5;28;01mNone\u001b[39;00m \u001b[38;5;28;01melse\u001b[39;00m \u001b[38;5;28mself\u001b[39m\u001b[38;5;241m.\u001b[39mconfig\u001b[38;5;241m.\u001b[39muse_return_dict\n\u001b[1;32m    789\u001b[0m output_hidden_states \u001b[38;5;241m=\u001b[39m (\n\u001b[1;32m    790\u001b[0m     output_hidden_states \u001b[38;5;28;01mif\u001b[39;00m output_hidden_states \u001b[38;5;129;01mis\u001b[39;00m \u001b[38;5;129;01mnot\u001b[39;00m \u001b[38;5;28;01mNone\u001b[39;00m \u001b[38;5;28;01melse\u001b[39;00m \u001b[38;5;28mself\u001b[39m\u001b[38;5;241m.\u001b[39mconfig\u001b[38;5;241m.\u001b[39moutput_hidden_states\n\u001b[1;32m    791\u001b[0m )\n\u001b[0;32m--> 793\u001b[0m outputs \u001b[38;5;241m=\u001b[39m \u001b[38;5;28mself\u001b[39m\u001b[38;5;241m.\u001b[39msegformer(\n\u001b[1;32m    794\u001b[0m     pixel_values,\n\u001b[1;32m    795\u001b[0m     output_attentions\u001b[38;5;241m=\u001b[39moutput_attentions,\n\u001b[1;32m    796\u001b[0m     output_hidden_states\u001b[38;5;241m=\u001b[39m\u001b[38;5;28;01mTrue\u001b[39;00m,  \u001b[38;5;66;03m# we need the intermediate hidden states\u001b[39;00m\n\u001b[1;32m    797\u001b[0m     return_dict\u001b[38;5;241m=\u001b[39mreturn_dict,\n\u001b[1;32m    798\u001b[0m )\n\u001b[1;32m    800\u001b[0m encoder_hidden_states \u001b[38;5;241m=\u001b[39m outputs\u001b[38;5;241m.\u001b[39mhidden_states \u001b[38;5;28;01mif\u001b[39;00m return_dict \u001b[38;5;28;01melse\u001b[39;00m outputs[\u001b[38;5;241m1\u001b[39m]\n\u001b[1;32m    802\u001b[0m logits \u001b[38;5;241m=\u001b[39m \u001b[38;5;28mself\u001b[39m\u001b[38;5;241m.\u001b[39mdecode_head(encoder_hidden_states)\n",
      "File \u001b[0;32m~/anaconda3/envs/matchmylook_env/lib/python3.11/site-packages/torch/nn/modules/module.py:1501\u001b[0m, in \u001b[0;36mModule._call_impl\u001b[0;34m(self, *args, **kwargs)\u001b[0m\n\u001b[1;32m   1496\u001b[0m \u001b[38;5;66;03m# If we don't have any hooks, we want to skip the rest of the logic in\u001b[39;00m\n\u001b[1;32m   1497\u001b[0m \u001b[38;5;66;03m# this function, and just call forward.\u001b[39;00m\n\u001b[1;32m   1498\u001b[0m \u001b[38;5;28;01mif\u001b[39;00m \u001b[38;5;129;01mnot\u001b[39;00m (\u001b[38;5;28mself\u001b[39m\u001b[38;5;241m.\u001b[39m_backward_hooks \u001b[38;5;129;01mor\u001b[39;00m \u001b[38;5;28mself\u001b[39m\u001b[38;5;241m.\u001b[39m_backward_pre_hooks \u001b[38;5;129;01mor\u001b[39;00m \u001b[38;5;28mself\u001b[39m\u001b[38;5;241m.\u001b[39m_forward_hooks \u001b[38;5;129;01mor\u001b[39;00m \u001b[38;5;28mself\u001b[39m\u001b[38;5;241m.\u001b[39m_forward_pre_hooks\n\u001b[1;32m   1499\u001b[0m         \u001b[38;5;129;01mor\u001b[39;00m _global_backward_pre_hooks \u001b[38;5;129;01mor\u001b[39;00m _global_backward_hooks\n\u001b[1;32m   1500\u001b[0m         \u001b[38;5;129;01mor\u001b[39;00m _global_forward_hooks \u001b[38;5;129;01mor\u001b[39;00m _global_forward_pre_hooks):\n\u001b[0;32m-> 1501\u001b[0m     \u001b[38;5;28;01mreturn\u001b[39;00m forward_call(\u001b[38;5;241m*\u001b[39margs, \u001b[38;5;241m*\u001b[39m\u001b[38;5;241m*\u001b[39mkwargs)\n\u001b[1;32m   1502\u001b[0m \u001b[38;5;66;03m# Do not call functions when jit is used\u001b[39;00m\n\u001b[1;32m   1503\u001b[0m full_backward_hooks, non_full_backward_hooks \u001b[38;5;241m=\u001b[39m [], []\n",
      "File \u001b[0;32m~/anaconda3/envs/matchmylook_env/lib/python3.11/site-packages/transformers/models/segformer/modeling_segformer.py:550\u001b[0m, in \u001b[0;36mSegformerModel.forward\u001b[0;34m(self, pixel_values, output_attentions, output_hidden_states, return_dict)\u001b[0m\n\u001b[1;32m    545\u001b[0m output_hidden_states \u001b[38;5;241m=\u001b[39m (\n\u001b[1;32m    546\u001b[0m     output_hidden_states \u001b[38;5;28;01mif\u001b[39;00m output_hidden_states \u001b[38;5;129;01mis\u001b[39;00m \u001b[38;5;129;01mnot\u001b[39;00m \u001b[38;5;28;01mNone\u001b[39;00m \u001b[38;5;28;01melse\u001b[39;00m \u001b[38;5;28mself\u001b[39m\u001b[38;5;241m.\u001b[39mconfig\u001b[38;5;241m.\u001b[39moutput_hidden_states\n\u001b[1;32m    547\u001b[0m )\n\u001b[1;32m    548\u001b[0m return_dict \u001b[38;5;241m=\u001b[39m return_dict \u001b[38;5;28;01mif\u001b[39;00m return_dict \u001b[38;5;129;01mis\u001b[39;00m \u001b[38;5;129;01mnot\u001b[39;00m \u001b[38;5;28;01mNone\u001b[39;00m \u001b[38;5;28;01melse\u001b[39;00m \u001b[38;5;28mself\u001b[39m\u001b[38;5;241m.\u001b[39mconfig\u001b[38;5;241m.\u001b[39muse_return_dict\n\u001b[0;32m--> 550\u001b[0m encoder_outputs \u001b[38;5;241m=\u001b[39m \u001b[38;5;28mself\u001b[39m\u001b[38;5;241m.\u001b[39mencoder(\n\u001b[1;32m    551\u001b[0m     pixel_values,\n\u001b[1;32m    552\u001b[0m     output_attentions\u001b[38;5;241m=\u001b[39moutput_attentions,\n\u001b[1;32m    553\u001b[0m     output_hidden_states\u001b[38;5;241m=\u001b[39moutput_hidden_states,\n\u001b[1;32m    554\u001b[0m     return_dict\u001b[38;5;241m=\u001b[39mreturn_dict,\n\u001b[1;32m    555\u001b[0m )\n\u001b[1;32m    556\u001b[0m sequence_output \u001b[38;5;241m=\u001b[39m encoder_outputs[\u001b[38;5;241m0\u001b[39m]\n\u001b[1;32m    558\u001b[0m \u001b[38;5;28;01mif\u001b[39;00m \u001b[38;5;129;01mnot\u001b[39;00m return_dict:\n",
      "File \u001b[0;32m~/anaconda3/envs/matchmylook_env/lib/python3.11/site-packages/torch/nn/modules/module.py:1501\u001b[0m, in \u001b[0;36mModule._call_impl\u001b[0;34m(self, *args, **kwargs)\u001b[0m\n\u001b[1;32m   1496\u001b[0m \u001b[38;5;66;03m# If we don't have any hooks, we want to skip the rest of the logic in\u001b[39;00m\n\u001b[1;32m   1497\u001b[0m \u001b[38;5;66;03m# this function, and just call forward.\u001b[39;00m\n\u001b[1;32m   1498\u001b[0m \u001b[38;5;28;01mif\u001b[39;00m \u001b[38;5;129;01mnot\u001b[39;00m (\u001b[38;5;28mself\u001b[39m\u001b[38;5;241m.\u001b[39m_backward_hooks \u001b[38;5;129;01mor\u001b[39;00m \u001b[38;5;28mself\u001b[39m\u001b[38;5;241m.\u001b[39m_backward_pre_hooks \u001b[38;5;129;01mor\u001b[39;00m \u001b[38;5;28mself\u001b[39m\u001b[38;5;241m.\u001b[39m_forward_hooks \u001b[38;5;129;01mor\u001b[39;00m \u001b[38;5;28mself\u001b[39m\u001b[38;5;241m.\u001b[39m_forward_pre_hooks\n\u001b[1;32m   1499\u001b[0m         \u001b[38;5;129;01mor\u001b[39;00m _global_backward_pre_hooks \u001b[38;5;129;01mor\u001b[39;00m _global_backward_hooks\n\u001b[1;32m   1500\u001b[0m         \u001b[38;5;129;01mor\u001b[39;00m _global_forward_hooks \u001b[38;5;129;01mor\u001b[39;00m _global_forward_pre_hooks):\n\u001b[0;32m-> 1501\u001b[0m     \u001b[38;5;28;01mreturn\u001b[39;00m forward_call(\u001b[38;5;241m*\u001b[39margs, \u001b[38;5;241m*\u001b[39m\u001b[38;5;241m*\u001b[39mkwargs)\n\u001b[1;32m   1502\u001b[0m \u001b[38;5;66;03m# Do not call functions when jit is used\u001b[39;00m\n\u001b[1;32m   1503\u001b[0m full_backward_hooks, non_full_backward_hooks \u001b[38;5;241m=\u001b[39m [], []\n",
      "File \u001b[0;32m~/anaconda3/envs/matchmylook_env/lib/python3.11/site-packages/transformers/models/segformer/modeling_segformer.py:427\u001b[0m, in \u001b[0;36mSegformerEncoder.forward\u001b[0;34m(self, pixel_values, output_attentions, output_hidden_states, return_dict)\u001b[0m\n\u001b[1;32m    425\u001b[0m \u001b[38;5;66;03m# second, send embeddings through blocks\u001b[39;00m\n\u001b[1;32m    426\u001b[0m \u001b[38;5;28;01mfor\u001b[39;00m i, blk \u001b[38;5;129;01min\u001b[39;00m \u001b[38;5;28menumerate\u001b[39m(block_layer):\n\u001b[0;32m--> 427\u001b[0m     layer_outputs \u001b[38;5;241m=\u001b[39m blk(hidden_states, height, width, output_attentions)\n\u001b[1;32m    428\u001b[0m     hidden_states \u001b[38;5;241m=\u001b[39m layer_outputs[\u001b[38;5;241m0\u001b[39m]\n\u001b[1;32m    429\u001b[0m     \u001b[38;5;28;01mif\u001b[39;00m output_attentions:\n",
      "File \u001b[0;32m~/anaconda3/envs/matchmylook_env/lib/python3.11/site-packages/torch/nn/modules/module.py:1501\u001b[0m, in \u001b[0;36mModule._call_impl\u001b[0;34m(self, *args, **kwargs)\u001b[0m\n\u001b[1;32m   1496\u001b[0m \u001b[38;5;66;03m# If we don't have any hooks, we want to skip the rest of the logic in\u001b[39;00m\n\u001b[1;32m   1497\u001b[0m \u001b[38;5;66;03m# this function, and just call forward.\u001b[39;00m\n\u001b[1;32m   1498\u001b[0m \u001b[38;5;28;01mif\u001b[39;00m \u001b[38;5;129;01mnot\u001b[39;00m (\u001b[38;5;28mself\u001b[39m\u001b[38;5;241m.\u001b[39m_backward_hooks \u001b[38;5;129;01mor\u001b[39;00m \u001b[38;5;28mself\u001b[39m\u001b[38;5;241m.\u001b[39m_backward_pre_hooks \u001b[38;5;129;01mor\u001b[39;00m \u001b[38;5;28mself\u001b[39m\u001b[38;5;241m.\u001b[39m_forward_hooks \u001b[38;5;129;01mor\u001b[39;00m \u001b[38;5;28mself\u001b[39m\u001b[38;5;241m.\u001b[39m_forward_pre_hooks\n\u001b[1;32m   1499\u001b[0m         \u001b[38;5;129;01mor\u001b[39;00m _global_backward_pre_hooks \u001b[38;5;129;01mor\u001b[39;00m _global_backward_hooks\n\u001b[1;32m   1500\u001b[0m         \u001b[38;5;129;01mor\u001b[39;00m _global_forward_hooks \u001b[38;5;129;01mor\u001b[39;00m _global_forward_pre_hooks):\n\u001b[0;32m-> 1501\u001b[0m     \u001b[38;5;28;01mreturn\u001b[39;00m forward_call(\u001b[38;5;241m*\u001b[39margs, \u001b[38;5;241m*\u001b[39m\u001b[38;5;241m*\u001b[39mkwargs)\n\u001b[1;32m   1502\u001b[0m \u001b[38;5;66;03m# Do not call functions when jit is used\u001b[39;00m\n\u001b[1;32m   1503\u001b[0m full_backward_hooks, non_full_backward_hooks \u001b[38;5;241m=\u001b[39m [], []\n",
      "File \u001b[0;32m~/anaconda3/envs/matchmylook_env/lib/python3.11/site-packages/transformers/models/segformer/modeling_segformer.py:334\u001b[0m, in \u001b[0;36mSegformerLayer.forward\u001b[0;34m(self, hidden_states, height, width, output_attentions)\u001b[0m\n\u001b[1;32m    333\u001b[0m \u001b[38;5;28;01mdef\u001b[39;00m \u001b[38;5;21mforward\u001b[39m(\u001b[38;5;28mself\u001b[39m, hidden_states, height, width, output_attentions\u001b[38;5;241m=\u001b[39m\u001b[38;5;28;01mFalse\u001b[39;00m):\n\u001b[0;32m--> 334\u001b[0m     self_attention_outputs \u001b[38;5;241m=\u001b[39m \u001b[38;5;28mself\u001b[39m\u001b[38;5;241m.\u001b[39mattention(\n\u001b[1;32m    335\u001b[0m         \u001b[38;5;28mself\u001b[39m\u001b[38;5;241m.\u001b[39mlayer_norm_1(hidden_states),  \u001b[38;5;66;03m# in Segformer, layernorm is applied before self-attention\u001b[39;00m\n\u001b[1;32m    336\u001b[0m         height,\n\u001b[1;32m    337\u001b[0m         width,\n\u001b[1;32m    338\u001b[0m         output_attentions\u001b[38;5;241m=\u001b[39moutput_attentions,\n\u001b[1;32m    339\u001b[0m     )\n\u001b[1;32m    341\u001b[0m     attention_output \u001b[38;5;241m=\u001b[39m self_attention_outputs[\u001b[38;5;241m0\u001b[39m]\n\u001b[1;32m    342\u001b[0m     outputs \u001b[38;5;241m=\u001b[39m self_attention_outputs[\u001b[38;5;241m1\u001b[39m:]  \u001b[38;5;66;03m# add self attentions if we output attention weights\u001b[39;00m\n",
      "File \u001b[0;32m~/anaconda3/envs/matchmylook_env/lib/python3.11/site-packages/torch/nn/modules/module.py:1501\u001b[0m, in \u001b[0;36mModule._call_impl\u001b[0;34m(self, *args, **kwargs)\u001b[0m\n\u001b[1;32m   1496\u001b[0m \u001b[38;5;66;03m# If we don't have any hooks, we want to skip the rest of the logic in\u001b[39;00m\n\u001b[1;32m   1497\u001b[0m \u001b[38;5;66;03m# this function, and just call forward.\u001b[39;00m\n\u001b[1;32m   1498\u001b[0m \u001b[38;5;28;01mif\u001b[39;00m \u001b[38;5;129;01mnot\u001b[39;00m (\u001b[38;5;28mself\u001b[39m\u001b[38;5;241m.\u001b[39m_backward_hooks \u001b[38;5;129;01mor\u001b[39;00m \u001b[38;5;28mself\u001b[39m\u001b[38;5;241m.\u001b[39m_backward_pre_hooks \u001b[38;5;129;01mor\u001b[39;00m \u001b[38;5;28mself\u001b[39m\u001b[38;5;241m.\u001b[39m_forward_hooks \u001b[38;5;129;01mor\u001b[39;00m \u001b[38;5;28mself\u001b[39m\u001b[38;5;241m.\u001b[39m_forward_pre_hooks\n\u001b[1;32m   1499\u001b[0m         \u001b[38;5;129;01mor\u001b[39;00m _global_backward_pre_hooks \u001b[38;5;129;01mor\u001b[39;00m _global_backward_hooks\n\u001b[1;32m   1500\u001b[0m         \u001b[38;5;129;01mor\u001b[39;00m _global_forward_hooks \u001b[38;5;129;01mor\u001b[39;00m _global_forward_pre_hooks):\n\u001b[0;32m-> 1501\u001b[0m     \u001b[38;5;28;01mreturn\u001b[39;00m forward_call(\u001b[38;5;241m*\u001b[39margs, \u001b[38;5;241m*\u001b[39m\u001b[38;5;241m*\u001b[39mkwargs)\n\u001b[1;32m   1502\u001b[0m \u001b[38;5;66;03m# Do not call functions when jit is used\u001b[39;00m\n\u001b[1;32m   1503\u001b[0m full_backward_hooks, non_full_backward_hooks \u001b[38;5;241m=\u001b[39m [], []\n",
      "File \u001b[0;32m~/anaconda3/envs/matchmylook_env/lib/python3.11/site-packages/transformers/models/segformer/modeling_segformer.py:272\u001b[0m, in \u001b[0;36mSegformerAttention.forward\u001b[0;34m(self, hidden_states, height, width, output_attentions)\u001b[0m\n\u001b[1;32m    271\u001b[0m \u001b[38;5;28;01mdef\u001b[39;00m \u001b[38;5;21mforward\u001b[39m(\u001b[38;5;28mself\u001b[39m, hidden_states, height, width, output_attentions\u001b[38;5;241m=\u001b[39m\u001b[38;5;28;01mFalse\u001b[39;00m):\n\u001b[0;32m--> 272\u001b[0m     self_outputs \u001b[38;5;241m=\u001b[39m \u001b[38;5;28mself\u001b[39m\u001b[38;5;241m.\u001b[39mself(hidden_states, height, width, output_attentions)\n\u001b[1;32m    274\u001b[0m     attention_output \u001b[38;5;241m=\u001b[39m \u001b[38;5;28mself\u001b[39m\u001b[38;5;241m.\u001b[39moutput(self_outputs[\u001b[38;5;241m0\u001b[39m], hidden_states)\n\u001b[1;32m    275\u001b[0m     outputs \u001b[38;5;241m=\u001b[39m (attention_output,) \u001b[38;5;241m+\u001b[39m self_outputs[\u001b[38;5;241m1\u001b[39m:]  \u001b[38;5;66;03m# add attentions if we output them\u001b[39;00m\n",
      "File \u001b[0;32m~/anaconda3/envs/matchmylook_env/lib/python3.11/site-packages/torch/nn/modules/module.py:1501\u001b[0m, in \u001b[0;36mModule._call_impl\u001b[0;34m(self, *args, **kwargs)\u001b[0m\n\u001b[1;32m   1496\u001b[0m \u001b[38;5;66;03m# If we don't have any hooks, we want to skip the rest of the logic in\u001b[39;00m\n\u001b[1;32m   1497\u001b[0m \u001b[38;5;66;03m# this function, and just call forward.\u001b[39;00m\n\u001b[1;32m   1498\u001b[0m \u001b[38;5;28;01mif\u001b[39;00m \u001b[38;5;129;01mnot\u001b[39;00m (\u001b[38;5;28mself\u001b[39m\u001b[38;5;241m.\u001b[39m_backward_hooks \u001b[38;5;129;01mor\u001b[39;00m \u001b[38;5;28mself\u001b[39m\u001b[38;5;241m.\u001b[39m_backward_pre_hooks \u001b[38;5;129;01mor\u001b[39;00m \u001b[38;5;28mself\u001b[39m\u001b[38;5;241m.\u001b[39m_forward_hooks \u001b[38;5;129;01mor\u001b[39;00m \u001b[38;5;28mself\u001b[39m\u001b[38;5;241m.\u001b[39m_forward_pre_hooks\n\u001b[1;32m   1499\u001b[0m         \u001b[38;5;129;01mor\u001b[39;00m _global_backward_pre_hooks \u001b[38;5;129;01mor\u001b[39;00m _global_backward_hooks\n\u001b[1;32m   1500\u001b[0m         \u001b[38;5;129;01mor\u001b[39;00m _global_forward_hooks \u001b[38;5;129;01mor\u001b[39;00m _global_forward_pre_hooks):\n\u001b[0;32m-> 1501\u001b[0m     \u001b[38;5;28;01mreturn\u001b[39;00m forward_call(\u001b[38;5;241m*\u001b[39margs, \u001b[38;5;241m*\u001b[39m\u001b[38;5;241m*\u001b[39mkwargs)\n\u001b[1;32m   1502\u001b[0m \u001b[38;5;66;03m# Do not call functions when jit is used\u001b[39;00m\n\u001b[1;32m   1503\u001b[0m full_backward_hooks, non_full_backward_hooks \u001b[38;5;241m=\u001b[39m [], []\n",
      "File \u001b[0;32m~/anaconda3/envs/matchmylook_env/lib/python3.11/site-packages/transformers/models/segformer/modeling_segformer.py:212\u001b[0m, in \u001b[0;36mSegformerEfficientSelfAttention.forward\u001b[0;34m(self, hidden_states, height, width, output_attentions)\u001b[0m\n\u001b[1;32m    209\u001b[0m attention_scores \u001b[38;5;241m=\u001b[39m attention_scores \u001b[38;5;241m/\u001b[39m math\u001b[38;5;241m.\u001b[39msqrt(\u001b[38;5;28mself\u001b[39m\u001b[38;5;241m.\u001b[39mattention_head_size)\n\u001b[1;32m    211\u001b[0m \u001b[38;5;66;03m# Normalize the attention scores to probabilities.\u001b[39;00m\n\u001b[0;32m--> 212\u001b[0m attention_probs \u001b[38;5;241m=\u001b[39m nn\u001b[38;5;241m.\u001b[39mfunctional\u001b[38;5;241m.\u001b[39msoftmax(attention_scores, dim\u001b[38;5;241m=\u001b[39m\u001b[38;5;241m-\u001b[39m\u001b[38;5;241m1\u001b[39m)\n\u001b[1;32m    214\u001b[0m \u001b[38;5;66;03m# This is actually dropping out entire tokens to attend to, which might\u001b[39;00m\n\u001b[1;32m    215\u001b[0m \u001b[38;5;66;03m# seem a bit unusual, but is taken from the original Transformer paper.\u001b[39;00m\n\u001b[1;32m    216\u001b[0m attention_probs \u001b[38;5;241m=\u001b[39m \u001b[38;5;28mself\u001b[39m\u001b[38;5;241m.\u001b[39mdropout(attention_probs)\n",
      "File \u001b[0;32m~/anaconda3/envs/matchmylook_env/lib/python3.11/site-packages/torch/nn/functional.py:1843\u001b[0m, in \u001b[0;36msoftmax\u001b[0;34m(input, dim, _stacklevel, dtype)\u001b[0m\n\u001b[1;32m   1841\u001b[0m     dim \u001b[38;5;241m=\u001b[39m _get_softmax_dim(\u001b[38;5;124m\"\u001b[39m\u001b[38;5;124msoftmax\u001b[39m\u001b[38;5;124m\"\u001b[39m, \u001b[38;5;28minput\u001b[39m\u001b[38;5;241m.\u001b[39mdim(), _stacklevel)\n\u001b[1;32m   1842\u001b[0m \u001b[38;5;28;01mif\u001b[39;00m dtype \u001b[38;5;129;01mis\u001b[39;00m \u001b[38;5;28;01mNone\u001b[39;00m:\n\u001b[0;32m-> 1843\u001b[0m     ret \u001b[38;5;241m=\u001b[39m \u001b[38;5;28minput\u001b[39m\u001b[38;5;241m.\u001b[39msoftmax(dim)\n\u001b[1;32m   1844\u001b[0m \u001b[38;5;28;01melse\u001b[39;00m:\n\u001b[1;32m   1845\u001b[0m     ret \u001b[38;5;241m=\u001b[39m \u001b[38;5;28minput\u001b[39m\u001b[38;5;241m.\u001b[39msoftmax(dim, dtype\u001b[38;5;241m=\u001b[39mdtype)\n",
      "\u001b[0;31mKeyboardInterrupt\u001b[0m: "
     ]
    }
   ],
   "source": [
    "\n",
    "for idx, row in topwear.head(n=100).iterrows():\n",
    "    if idx % 10 == 0:\n",
    "        print(f\"At index {idx}\")\n",
    "        \n",
    "\n",
    "    embedding = str(\n",
    "        list(\n",
    "            process_category(Image.open(requests.get(row[\"link\"], stream=True).raw),\"tops\")\n",
    "        )\n",
    "    )\n",
    "    topwear.at[idx, \"embedding\"] = embedding \n",
    "    try:\n",
    "        cur.execute(f\"\"\"\n",
    "            INSERT INTO tops (id,img_embedding,orig_link,display_name,price, gender, type  ) \n",
    "                    VALUES ({row['id']},'{embedding}', '{row['link']}', '{row['productDisplayName'].replace(\"'\",\"\")}', {row['price']}, '{row['gender']}', '{row['articleType']}')\n",
    "                ; \n",
    "                    \"\"\")\n",
    "    except UniqueViolation:\n",
    "        print(f\"Skipping {row['id']}\")\n",
    "\n"
   ]
  },
  {
   "cell_type": "code",
   "execution_count": 36,
   "metadata": {},
   "outputs": [],
   "source": [
    "# topwear_full = topwear.copy()\n",
    "# topwear = topwear.iloc[:idx,:]"
   ]
  },
  {
   "cell_type": "code",
   "execution_count": 37,
   "metadata": {},
   "outputs": [],
   "source": [
    "# topwear[\"embedding\"].isnull().sum()"
   ]
  },
  {
   "cell_type": "code",
   "execution_count": 38,
   "metadata": {},
   "outputs": [],
   "source": [
    "\n",
    "#             id bigserial PRIMARY KEY, \n",
    "#             img_embedding vector(4096),\n",
    "#             orig_link text,\n",
    "#             display_name varchar(400),\n",
    "#             price real,\n",
    "#             type varchar(100)"
   ]
  },
  {
   "cell_type": "code",
   "execution_count": 39,
   "metadata": {},
   "outputs": [
    {
     "data": {
      "text/html": [
       "<div>\n",
       "<style scoped>\n",
       "    .dataframe tbody tr th:only-of-type {\n",
       "        vertical-align: middle;\n",
       "    }\n",
       "\n",
       "    .dataframe tbody tr th {\n",
       "        vertical-align: top;\n",
       "    }\n",
       "\n",
       "    .dataframe thead th {\n",
       "        text-align: right;\n",
       "    }\n",
       "</style>\n",
       "<table border=\"1\" class=\"dataframe\">\n",
       "  <thead>\n",
       "    <tr style=\"text-align: right;\">\n",
       "      <th></th>\n",
       "      <th>id</th>\n",
       "      <th>gender</th>\n",
       "      <th>masterCategory</th>\n",
       "      <th>subCategory</th>\n",
       "      <th>articleType</th>\n",
       "      <th>baseColour</th>\n",
       "      <th>season</th>\n",
       "      <th>year</th>\n",
       "      <th>usage</th>\n",
       "      <th>productDisplayName</th>\n",
       "      <th>filename</th>\n",
       "      <th>link</th>\n",
       "    </tr>\n",
       "  </thead>\n",
       "  <tbody>\n",
       "    <tr>\n",
       "      <th>0</th>\n",
       "      <td>15970</td>\n",
       "      <td>Men</td>\n",
       "      <td>Apparel</td>\n",
       "      <td>Topwear</td>\n",
       "      <td>Shirts</td>\n",
       "      <td>Navy Blue</td>\n",
       "      <td>Fall</td>\n",
       "      <td>2011.0</td>\n",
       "      <td>Casual</td>\n",
       "      <td>Turtle Check Men Navy Blue Shirt</td>\n",
       "      <td>15970.jpg</td>\n",
       "      <td>http://assets.myntassets.com/v1/images/style/p...</td>\n",
       "    </tr>\n",
       "    <tr>\n",
       "      <th>1</th>\n",
       "      <td>39386</td>\n",
       "      <td>Men</td>\n",
       "      <td>Apparel</td>\n",
       "      <td>Bottomwear</td>\n",
       "      <td>Jeans</td>\n",
       "      <td>Blue</td>\n",
       "      <td>Summer</td>\n",
       "      <td>2012.0</td>\n",
       "      <td>Casual</td>\n",
       "      <td>Peter England Men Party Blue Jeans</td>\n",
       "      <td>39386.jpg</td>\n",
       "      <td>http://assets.myntassets.com/v1/images/style/p...</td>\n",
       "    </tr>\n",
       "    <tr>\n",
       "      <th>2</th>\n",
       "      <td>59263</td>\n",
       "      <td>Women</td>\n",
       "      <td>Accessories</td>\n",
       "      <td>Watches</td>\n",
       "      <td>Watches</td>\n",
       "      <td>Silver</td>\n",
       "      <td>Winter</td>\n",
       "      <td>2016.0</td>\n",
       "      <td>Casual</td>\n",
       "      <td>Titan Women Silver Watch</td>\n",
       "      <td>59263.jpg</td>\n",
       "      <td>http://assets.myntassets.com/v1/images/style/p...</td>\n",
       "    </tr>\n",
       "    <tr>\n",
       "      <th>3</th>\n",
       "      <td>21379</td>\n",
       "      <td>Men</td>\n",
       "      <td>Apparel</td>\n",
       "      <td>Bottomwear</td>\n",
       "      <td>Track Pants</td>\n",
       "      <td>Black</td>\n",
       "      <td>Fall</td>\n",
       "      <td>2011.0</td>\n",
       "      <td>Casual</td>\n",
       "      <td>Manchester United Men Solid Black Track Pants</td>\n",
       "      <td>21379.jpg</td>\n",
       "      <td>http://assets.myntassets.com/v1/images/style/p...</td>\n",
       "    </tr>\n",
       "    <tr>\n",
       "      <th>4</th>\n",
       "      <td>53759</td>\n",
       "      <td>Men</td>\n",
       "      <td>Apparel</td>\n",
       "      <td>Topwear</td>\n",
       "      <td>Tshirts</td>\n",
       "      <td>Grey</td>\n",
       "      <td>Summer</td>\n",
       "      <td>2012.0</td>\n",
       "      <td>Casual</td>\n",
       "      <td>Puma Men Grey T-shirt</td>\n",
       "      <td>53759.jpg</td>\n",
       "      <td>http://assets.myntassets.com/v1/images/style/p...</td>\n",
       "    </tr>\n",
       "  </tbody>\n",
       "</table>\n",
       "</div>"
      ],
      "text/plain": [
       "      id gender masterCategory subCategory  articleType baseColour  season   \n",
       "0  15970    Men        Apparel     Topwear       Shirts  Navy Blue    Fall  \\\n",
       "1  39386    Men        Apparel  Bottomwear        Jeans       Blue  Summer   \n",
       "2  59263  Women    Accessories     Watches      Watches     Silver  Winter   \n",
       "3  21379    Men        Apparel  Bottomwear  Track Pants      Black    Fall   \n",
       "4  53759    Men        Apparel     Topwear      Tshirts       Grey  Summer   \n",
       "\n",
       "     year   usage                             productDisplayName   filename   \n",
       "0  2011.0  Casual               Turtle Check Men Navy Blue Shirt  15970.jpg  \\\n",
       "1  2012.0  Casual             Peter England Men Party Blue Jeans  39386.jpg   \n",
       "2  2016.0  Casual                       Titan Women Silver Watch  59263.jpg   \n",
       "3  2011.0  Casual  Manchester United Men Solid Black Track Pants  21379.jpg   \n",
       "4  2012.0  Casual                          Puma Men Grey T-shirt  53759.jpg   \n",
       "\n",
       "                                                link  \n",
       "0  http://assets.myntassets.com/v1/images/style/p...  \n",
       "1  http://assets.myntassets.com/v1/images/style/p...  \n",
       "2  http://assets.myntassets.com/v1/images/style/p...  \n",
       "3  http://assets.myntassets.com/v1/images/style/p...  \n",
       "4  http://assets.myntassets.com/v1/images/style/p...  "
      ]
     },
     "execution_count": 39,
     "metadata": {},
     "output_type": "execute_result"
    }
   ],
   "source": [
    "styles_df.head()"
   ]
  },
  {
   "cell_type": "code",
   "execution_count": 40,
   "metadata": {},
   "outputs": [],
   "source": [
    "top_wear_write = topwear.rename(columns={\n",
    "        \"embedding\":\"img_embedding\",\n",
    "        \"link\": \"orig_link\",\n",
    "        \"productDisplayName\": \"display_name\",\n",
    "        \"articleType\":\"type\",\n",
    "})"
   ]
  },
  {
   "cell_type": "code",
   "execution_count": 41,
   "metadata": {},
   "outputs": [
    {
     "data": {
      "text/plain": [
       "array(['id', 'gender', 'masterCategory', 'subCategory', 'type',\n",
       "       'baseColour', 'season', 'year', 'usage', 'display_name',\n",
       "       'filename', 'orig_link', 'price', 'img_embedding'], dtype=object)"
      ]
     },
     "execution_count": 41,
     "metadata": {},
     "output_type": "execute_result"
    }
   ],
   "source": [
    "top_wear_write.columns.values"
   ]
  },
  {
   "cell_type": "code",
   "execution_count": 42,
   "metadata": {},
   "outputs": [],
   "source": [
    "top_wear_write = top_wear_write[[\"id\",\"img_embedding\",\"orig_link\",\"display_name\",\"type\"]]"
   ]
  },
  {
   "cell_type": "code",
   "execution_count": 43,
   "metadata": {},
   "outputs": [],
   "source": [
    "top_wear_write[\"price\"] =  np.random.uniform(low=10, high=350, size=(len(top_wear_write),))"
   ]
  },
  {
   "cell_type": "code",
   "execution_count": 44,
   "metadata": {},
   "outputs": [
    {
     "data": {
      "text/html": [
       "<div>\n",
       "<style scoped>\n",
       "    .dataframe tbody tr th:only-of-type {\n",
       "        vertical-align: middle;\n",
       "    }\n",
       "\n",
       "    .dataframe tbody tr th {\n",
       "        vertical-align: top;\n",
       "    }\n",
       "\n",
       "    .dataframe thead th {\n",
       "        text-align: right;\n",
       "    }\n",
       "</style>\n",
       "<table border=\"1\" class=\"dataframe\">\n",
       "  <thead>\n",
       "    <tr style=\"text-align: right;\">\n",
       "      <th></th>\n",
       "      <th>id</th>\n",
       "      <th>img_embedding</th>\n",
       "      <th>orig_link</th>\n",
       "      <th>display_name</th>\n",
       "      <th>type</th>\n",
       "      <th>price</th>\n",
       "    </tr>\n",
       "  </thead>\n",
       "  <tbody>\n",
       "    <tr>\n",
       "      <th>0</th>\n",
       "      <td>15970</td>\n",
       "      <td>[0.0, 0.0, 0.0, 0.028015241, 0.029914685, 0.04...</td>\n",
       "      <td>http://assets.myntassets.com/v1/images/style/p...</td>\n",
       "      <td>Turtle Check Men Navy Blue Shirt</td>\n",
       "      <td>Shirts</td>\n",
       "      <td>120.275414</td>\n",
       "    </tr>\n",
       "    <tr>\n",
       "      <th>4</th>\n",
       "      <td>53759</td>\n",
       "      <td>[0.01979104, 0.0, 0.0, 0.0, 0.0, 0.15128762, 0...</td>\n",
       "      <td>http://assets.myntassets.com/v1/images/style/p...</td>\n",
       "      <td>Puma Men Grey T-shirt</td>\n",
       "      <td>Tshirts</td>\n",
       "      <td>251.377247</td>\n",
       "    </tr>\n",
       "    <tr>\n",
       "      <th>5</th>\n",
       "      <td>1855</td>\n",
       "      <td>[0.008573473, 0.0, 0.0, 0.0, 0.0, 0.0, 0.14840...</td>\n",
       "      <td>http://assets.myntassets.com/v1/images/style/p...</td>\n",
       "      <td>Inkfruit Mens Chain Reaction T-shirt</td>\n",
       "      <td>Tshirts</td>\n",
       "      <td>16.747254</td>\n",
       "    </tr>\n",
       "    <tr>\n",
       "      <th>6</th>\n",
       "      <td>30805</td>\n",
       "      <td>[0.017392058, 0.0, 0.0, 0.0, 0.0, 0.0, 0.0, 0....</td>\n",
       "      <td>http://assets.myntassets.com/v1/images/style/p...</td>\n",
       "      <td>Fabindia Men Striped Green Shirt</td>\n",
       "      <td>Shirts</td>\n",
       "      <td>326.427963</td>\n",
       "    </tr>\n",
       "    <tr>\n",
       "      <th>7</th>\n",
       "      <td>26960</td>\n",
       "      <td>[0.07342745, 0.07342745, 0.0, 0.09598945, 0.09...</td>\n",
       "      <td>http://assets.myntassets.com/v1/images/style/p...</td>\n",
       "      <td>Jealous 21 Women Purple Shirt</td>\n",
       "      <td>Shirts</td>\n",
       "      <td>142.150173</td>\n",
       "    </tr>\n",
       "  </tbody>\n",
       "</table>\n",
       "</div>"
      ],
      "text/plain": [
       "      id                                      img_embedding   \n",
       "0  15970  [0.0, 0.0, 0.0, 0.028015241, 0.029914685, 0.04...  \\\n",
       "4  53759  [0.01979104, 0.0, 0.0, 0.0, 0.0, 0.15128762, 0...   \n",
       "5   1855  [0.008573473, 0.0, 0.0, 0.0, 0.0, 0.0, 0.14840...   \n",
       "6  30805  [0.017392058, 0.0, 0.0, 0.0, 0.0, 0.0, 0.0, 0....   \n",
       "7  26960  [0.07342745, 0.07342745, 0.0, 0.09598945, 0.09...   \n",
       "\n",
       "                                           orig_link   \n",
       "0  http://assets.myntassets.com/v1/images/style/p...  \\\n",
       "4  http://assets.myntassets.com/v1/images/style/p...   \n",
       "5  http://assets.myntassets.com/v1/images/style/p...   \n",
       "6  http://assets.myntassets.com/v1/images/style/p...   \n",
       "7  http://assets.myntassets.com/v1/images/style/p...   \n",
       "\n",
       "                           display_name     type       price  \n",
       "0      Turtle Check Men Navy Blue Shirt   Shirts  120.275414  \n",
       "4                 Puma Men Grey T-shirt  Tshirts  251.377247  \n",
       "5  Inkfruit Mens Chain Reaction T-shirt  Tshirts   16.747254  \n",
       "6      Fabindia Men Striped Green Shirt   Shirts  326.427963  \n",
       "7         Jealous 21 Women Purple Shirt   Shirts  142.150173  "
      ]
     },
     "execution_count": 44,
     "metadata": {},
     "output_type": "execute_result"
    }
   ],
   "source": [
    "top_wear_write.head()"
   ]
  },
  {
   "cell_type": "code",
   "execution_count": 45,
   "metadata": {},
   "outputs": [],
   "source": [
    "#top_wear_write.to_sql(name=\"tops\", con=engine, schema=\"stealmylook\", index=False)"
   ]
  },
  {
   "cell_type": "code",
   "execution_count": 46,
   "metadata": {},
   "outputs": [],
   "source": [
    "embed = topwear.at[0, \"embedding\"]"
   ]
  },
  {
   "cell_type": "code",
   "execution_count": 51,
   "metadata": {},
   "outputs": [
    {
     "data": {
      "text/plain": [
       "'http://assets.myntassets.com/v1/images/style/properties/7a5b82d1372a7a5c6de67ae7a314fd91_images.jpg'"
      ]
     },
     "execution_count": 51,
     "metadata": {},
     "output_type": "execute_result"
    }
   ],
   "source": [
    "topwear.at[0, \"link\"]"
   ]
  },
  {
   "cell_type": "code",
   "execution_count": 47,
   "metadata": {},
   "outputs": [
    {
     "data": {
      "text/plain": [
       "'[0.0, 0.0, 0.0, 0.028015241, 0.029914685, 0.048263725, 0.020248484, 0.01834904, 0.0, 0.0, 0.0, 0.0, 0.0, 0.0, 0.0, 0.0, 0.12699981, 0.12699981, 0.12699981, 0.0, 0.0, 0.0, 0.0, 0.0, 0.0, 0.0, 0.07013689, 0.07013689, 0.07013689, 0.0, 0.0, 0.0, 0.031455338, 0.031455338, 0.0, 0.14540485, 0.14540485, 0.14540485, 0.054689165, 0.19757934, 0.19757934, 0.14289017, 0.0, 0.049925976, 0.049925976, 0.049925976, 0.17903484, 0.17903484, 0.032934643, 0.032934643, 0.0, 0.072525315, 0.072525315, 0.072525315, 0.0, 0.0, 0.0, 0.0, 0.0, 0.0, 0.0, 0.020653345, 0.020653345, 0.020653345, 0.0, 0.0, 0.089422084, 0.089422084, 0.089422084, 0.0, 0.11426213, 0.11426213, 0.07904747, 0.0, 0.0, 0.0, 0.0, 0.0, 0.0, 0.0867334, 0.09901153, 0.012278135, 0.012278135, 0.0, 0.24806525, 0.24806525, 0.24806525, 0.0, 0.0, 0.0, 0.0, 0.0, 0.0, 0.0, 0.0, 0.0, 0.25978154, 0.25978154, 0.0, 0.0, 0.10573134, 0.10573134, 0.10573134, 0.0, 0.0, 0.0, 0.0, 0.025514802, 0.025514802, 0.025514802, 0.0, 0.0, 0.0, 0.0, 0.0, 0.0, 0.12547094, 0.12547094, 0.21629359, 0.09082265, 0.1208418, 0.030019147, 0.030019147, 0.0, 0.0, 0.0, 0.0, 0.0, 0.05862476, 0.05862476, 0.05862476, 0.11438189, 0.11438189, 0.043223523, 0.0, 0.17403325, 0.3734036, 0.3734036, 0.19937037, 0.0, 0.0, 0.13412026, 0.6218238, 0.48770356, 0.07543671, 0.07543671, 0.07543671, 0.0, 0.0, 0.041931678, 0.041931678, 0.041931678, 0.08571178, 0.08571178, 0.08571178, 0.0, 0.35287455, 0.35287455, 0.0, 0.0, 0.0, 0.0, 0.0, 0.0, 0.22179602, 0.22179602, 0.06279972, 0.06279972, 0.06279972, 0.02924512, 0.02924512, 0.0, 0.19474852, 0.19474852, 0.19474852, 0.0, 0.0, 0.0, 0.0, 0.0, 0.0, 0.0, 0.0, 0.0, 0.1571086, 0.1571086, 0.1571086, 0.2265661, 0.2265661, 0.1536129, 0.0, 0.0, 0.0, 0.0, 0.0, 0.0, 0.0, 0.0, 0.016977562, 0.016977562, 0.016977562, 0.0, 0.28142446, 0.5270889, 0.5270889, 0.24566442, 0.0, 0.0, 0.0, 0.43823597, 0.5280699, 0.41161436, 0.18258856, 0.19179834, 0.19179834, 0.29888892, 0.19984517, 0.0, 0.0, 0.0, 0.0, 0.0, 0.0, 0.0, 0.10623067, 0.10623067, 0.007445478, 0.007445478, 0.007445478, 0.0, 0.0, 0.0, 0.0042008716, 0.0042008716, 0.0042008716, 0.0, 0.0, 0.18893442, 0.18893442, 0.29899913, 0.11006473, 0.11006473, 0.0, 0.0, 0.24586695, 0.24586695, 0.27797914, 0.032112196, 0.032112196, 0.087746486, 0.087746486, 0.087746486, 0.09319986, 0.09319986, 0.09319986, 0.0, 0.0, 0.0, 0.06910176, 0.26093698, 0.26093698, 0.19183521, 0.24661095, 0.24661095, 0.2541783, 0.109166585, 0.109166585, 0.0, 0.0, 0.0, 0.0, 0.0, 0.0, 0.0, 0.0, 0.0, 0.0, 0.0, 0.0, 0.023725389, 0.023725389, 0.031660296, 0.007934906, 0.0, 0.0, 0.0, 0.0, 0.0, 0.0, 0.0, 0.0, 0.0, 0.0, 0.057625826, 0.40421027, 0.46506894, 0.21538383, 0.16509752, 0.04661301, 0.3127906, 0.2661776, 0.2661776, 0.05713344, 0.05713344, 0.0, 0.0, 0.0, 0.0, 0.06413479, 0.06413479, 0.18705216, 0.18705216, 0.18705216, 0.03874959, 0.2846648, 0.6088768, 0.43972144, 0.32421204, 0.0, 0.0, 0.0, 0.0, 0.01641915, 0.01641915, 0.0, 0.0048710974, 0.3249523, 0.32008117, 0.461982, 0.3574465, 0.071334474, 0.013864386, 0.020657403, 0.31264618, 0.648509, 0.80891186, 0.41555607, 0.1810602, 0.0, 0.20133172, 0.40816295, 0.40816295, 0.20683122, 0.0, 0.0, 0.0, 0.0, 0.0, 0.06341137, 0.06341137, 0.06341137, 0.0, 0.0, 0.034831278, 0.034831278, 0.034831278, 0.0023334865, 0.0023334865, 0.0, 0.14630228, 0.14630228, 0.14630228, 0.0, 0.0, 0.21431392, 0.21431392, 0.2451307, 0.030816775, 0.030816775, 0.0, 0.0, 0.0, 0.0, 0.0, 0.0, 0.0, 0.0, 0.0, 0.0, 0.0, 0.0, 0.0, 0.0, 0.08624982, 0.08624982, 0.0, 0.0, 0.0, 0.19057402, 0.19057402, 0.19057402, 0.0, 0.0, 0.0, 0.11768127, 0.12493186, 0.12493186, 0.007250581, 0.07462187, 0.07462187, 0.07462187, 0.107128814, 0.107128814, 0.19410506, 0.086976245, 0.086976245, 0.0, 0.0, 0.0, 0.07208916, 0.07208916, 0.060240302, 0.09151903, 0.09151903, 0.029155422, 0.10611929, 0.10611929, 0.07696387, 0.0, 0.018346816, 0.018346816, 0.0, 0.035768587, 0.035768587, 0.0, 0.0, 0.0, 0.0, 0.0, 0.064629614, 0.064629614, 0.0, 0.0, 0.0, 0.0, 0.0, 0.0, 0.0, 0.0, 0.0, 0.0, 0.0, 0.054054443, 0.054054443, 0.08069649, 0.07976557, 0.07976557, 0.053123526, 0.0, 0.0, 0.0, 0.0, 0.0, 0.084948525, 0.084948525, 0.084948525, 0.0, 0.0, 0.0, 0.0, 0.0, 0.0, 0.0, 0.0, 0.0, 0.0, 0.0, 0.028178412, 0.028178412, 0.0028945503, 0.0028945503, 0.0, 0.0, 0.05657626, 0.05657626, 0.05657626, 0.0, 0.0, 0.0, 0.0, 0.0, 0.0, 0.0, 0.0, 0.07259481, 0.07259481, 0.07259481, 0.0, 0.0, 0.0, 0.0, 0.0, 0.0, 0.0, 0.0, 0.0, 0.0, 0.0, 0.0, 0.0, 0.0, 0.0, 0.0, 0.0, 0.0, 0.0, 0.0, 0.08063471, 0.08063471, 0.08063471, 0.0, 0.0, 0.0, 0.0, 0.0, 0.0, 0.0, 0.0, 0.0, 0.17758043, 0.24906687, 0.4003731, 0.15130621, 0.36061224, 0.20930603, 0.0, 0.0, 0.1486773, 0.1486773, 0.1486773, 0.0, 0.0, 0.4171806, 0.4171806, 0.4171806, 0.0, 0.0, 0.0, 0.06452206, 0.06452206, 0.06452206, 0.00661498, 0.011059262, 0.011059262, 0.0044442825, 0.0, 0.0, 0.0, 0.0, 0.0, 0.0, 0.0, 0.0, 0.0, 0.0, 0.0, 0.0, 0.0, 0.043058794, 0.15204686, 0.10898807, 0.0, 0.0, 0.18914169, 0.18914169, 0.1356658, 0.20762502, 0.2809756, 0.29332554, 0.01234994, 0.01234994, 0.0, 0.0, 0.0, 0.38771942, 0.38771942, 0.28685087, 0.1489277, 0.06905872, 0.06905872, 0.0, 0.0, 0.0, 0.06618823, 0.06618823, 0.19161958, 0.19161958, 0.19161958, 0.0, 0.0, 0.0, 0.0, 0.0, 0.0, 0.24902676, 0.24902676, 0.0, 0.0, 0.0058816806, 0.0058816806, 0.0058816806, 0.37599292, 0.5676013, 0.5676013, 0.19160837, 0.0, 0.0, 0.117733665, 0.21765879, 0.3700106, 0.25227693, 0.0, 0.0, 0.0, 0.0, 0.0, 0.3541628, 0.3541628, 0.3541628, 0.04664207, 0.04664207, 0.0, 0.0, 0.19772032, 0.19772032, 0.0, 0.0, 0.0, 0.0, 0.115428515, 0.18747208, 0.07204357, 0.07204357, 0.111065716, 0.15692261, 0.15692261, 0.0, 0.0, 0.0, 0.0, 0.020113006, 0.020113006, 0.020113006, 0.0, 0.0, 0.0, 0.0, 0.0, 0.0, 0.0, 0.0, 0.0, 0.0, 0.11355497, 0.11355497, 0.13282105, 0.046822123, 0.0, 0.0, 0.0, 0.0, 0.0, 0.0, 0.1839507, 0.1839507, 0.022593103, 0.022593103, 0.022593103, 0.0, 0.0, 0.06405383, 0.06405383, 0.0, 0.19643605, 0.19643605, 0.19643605, 0.0, 0.0, 0.15900324, 0.15900324, 0.16784772, 0.16784772, 0.012030229, 0.012030229, 0.02435159, 0.06364395, 0.051322587, 0.0, 0.20408484, 0.20408484, 0.14208381, 0.08424835, 0.08424835, 0.08424835, 0.0, 0.0, 0.0, 0.0, 0.11450371, 0.11450371, 0.0, 0.0, 0.0057993457, 0.0057993457, 0.0057993457, 0.052160375, 0.11159848, 0.11159848, 0.0594381, 0.0, 0.0, 0.0, 0.0, 0.0, 0.1301627, 0.1301627, 0.0, 0.0, 0.0, 0.0, 0.0, 0.0, 0.04484181, 0.20380203, 0.20380203, 0.0, 0.0, 0.0, 0.0, 0.10980339, 0.10980339, 0.10980339, 0.080267675, 0.080267675, 0.080267675, 0.0, 0.0, 0.1358271, 0.1358271, 0.18434905, 0.13776094, 0.13776094, 0.08923899, 0.0, 0.0, 0.10418032, 0.22285582, 0.23348963, 0.111455135, 0.19695093, 0.0854958, 0.4179935, 0.49377486, 0.49377486, 0.3743787, 0.2499579, 0.2499579, 0.019738624, 0.019738624, 0.0, 0.0, 0.0, 0.22082235, 0.27078676, 0.27078676, 0.049964417, 0.0, 0.0, 0.0, 0.22359438, 0.2497461, 0.2497461, 0.026151713, 0.0, 0.0, 0.0, 0.0, 0.0, 0.0, 0.0, 0.05004972, 0.05004972, 0.05004972, 0.23671325, 0.23671325, 0.0, 0.0, 0.0, 0.0, 0.0013981648, 0.0013981648, 0.0013981648, 0.0, 0.0, 0.0, 0.19388232, 0.19388232, 0.0, 0.0, 0.0, 0.05772873, 0.05772873, 0.17042407, 0.11269534, 0.11269534, 0.10348301, 0.10348301, 0.10348301, 0.0, 0.0, 0.0, 0.0, 0.0, 0.0, 0.0, 0.0, 0.23209086, 0.34815225, 0.34815225, 0.39134386, 0.5685993, 0.5685993, 0.14053233, 0.28618538, 0.28618538, 0.0, 0.0, 0.0, 0.020240678, 0.020240678, 0.0, 0.0, 0.0, 0.0, 0.0, 0.0, 0.0, 0.0, 0.0, 0.18547335, 0.6149024, 0.6149024, 0.32762784, 0.3562329, 0.146371, 0.0, 0.0, 0.0, 0.0480478, 0.0480478, 0.0480478, 0.0, 0.0, 0.0032704454, 0.0032704454, 0.0032704454, 0.14589547, 0.14589547, 0.34546652, 0.19957104, 0.10908436, 0.13512328, 0.13512328, 0.38903078, 0.31557992, 0.31557992, 0.06167243, 0.0, 0.0, 0.0, 0.043823227, 0.043823227, 0.043823227, 0.0, 0.0, 0.0, 0.0, 0.3730925, 0.3730925, 0.5033635, 0.4292527, 0.4292527, 0.29898176, 0.12732401, 0.12732401, 0.04559578, 0.04559578, 0.0, 0.0, 0.0, 0.32093897, 0.32093897, 0.32093897, 0.10469365, 0.10469365, 0.0, 0.0, 0.0, 0.0, 0.0, 0.46840262, 0.46840262, 0.0, 0.0, 0.0, 0.0, 0.11823803, 0.11823803, 0.11823803, 0.2308359, 0.41684592, 0.41684592, 0.18601002, 0.041022778, 0.17146593, 0.34583884, 0.30481607, 0.116706565, 0.0498916, 0.11011568, 0.19068508, 0.0805694, 0.0, 0.11350585, 0.11350585, 0.11350585, 0.0, 0.0, 0.15988936, 0.23090729, 0.26268613, 0.18207183, 0.111053914, 0.05165351, 0.0, 0.016110484, 0.016110484, 0.016110484, 0.0, 0.0, 0.0, 0.0, 0.17982063, 0.17982063, 0.17982063, 0.0, 0.0, 0.0, 0.06752673, 0.06752673, 0.06752673, 0.0, 0.21463595, 0.21463595, 0.21463595, 0.0, 0.0, 0.0, 0.0, 0.040965576, 0.040965576, 0.0, 0.0, 0.06150035, 0.06150035, 0.18516892, 0.12366857, 0.0, 0.0, 0.0, 0.142565, 0.142565, 0.23005658, 0.087491594, 0.087491594, 0.0, 0.0, 0.0, 0.11558895, 0.1455482, 0.1455482, 0.029959252, 0.0, 0.0, 0.0, 0.20070317, 0.2168647, 0.26223046, 0.10901961, 0.092858076, 0.14311475, 0.14311475, 0.14311475, 0.013573305, 0.013573305, 0.013573305, 0.0, 0.0, 0.0, 0.0, 0.0, 0.048643433, 0.1468449, 0.09820146, 0.0, 0.0, 0.21261917, 0.21261917, 0.28921843, 0.28921843, 0.28921843, 0.025334591, 0.025334591, 0.025334591, 0.0, 0.0, 0.0, 0.17941096, 0.17941096, 0.12179738, 0.0, 0.0, 0.0, 0.0, 0.0, 0.0, 0.0, 0.0, 0.0, 0.014285221, 0.014285221, 0.014285221, 0.0, 0.0, 0.07118748, 0.07118748, 0.008611843, 0.008611843, 0.008611843, 0.06520259, 0.06520259, 0.0, 0.0, 0.0, 0.0, 0.0, 0.0, 0.13622065, 0.13622065, 0.13622065, 0.0, 0.0, 0.0, 0.0, 0.03444147, 0.03444147, 0.03444147, 0.0, 0.0, 0.049628485, 0.11849031, 0.11849031, 0.06886183, 0.0096921455, 0.0096921455, 0.0, 0.04086202, 0.04086202, 0.1429252, 0.20758665, 0.20292486, 0.1605479, 0.055024438, 0.055024438, 0.0, 0.0, 0.0, 0.0, 0.16668059, 0.40889204, 0.4674795, 0.3374167, 0.09520526, 0.036617808, 0.027753592, 0.027753592, 0.0, 0.0, 0.032179333, 0.032179333, 0.032179333, 0.0669693, 0.0669693, 0.0, 0.0, 0.25794065, 0.25794065, 0.25794065, 0.0, 0.0, 0.0, 0.0, 0.0, 0.0, 0.0, 0.0077391537, 0.0077391537, 0.0077391537, 0.0, 0.0, 0.0, 0.0, 0.0, 0.0, 0.0, 0.0035099061, 0.0035099061, 0.0035099061, 0.041433856, 0.041433856, 0.041433856, 0.0, 0.0, 0.0, 0.0, 0.090654284, 0.090654284, 0.0, 0.0, 0.11559176, 0.11559176, 0.0, 0.0014801323, 0.0014801323, 0.0, 0.0, 0.18455331, 0.18455331, 0.18455331, 0.0, 0.11001769, 0.11001769, 0.0, 0.0, 0.0, 0.0, 0.0, 0.0, 0.10926045, 0.11617049, 0.11617049, 0.006910043, 0.073137164, 0.073137164, 0.4480662, 0.38012755, 0.005198517, 0.005198517, 0.0, 0.0, 0.0618246, 0.0618246, 0.0618246, 0.11649731, 0.11649731, 0.0, 0.109182954, 0.109182954, 0.0, 0.0, 0.0, 0.18047847, 0.18047847, 0.18047847, 0.0, 0.0, 0.0, 0.0, 0.0, 0.26180017, 0.4555317, 0.4555317, 0.18178755, 0.18178755, 0.18178755, 0.0, 0.0, 0.0, 0.23434572, 0.23434572, 0.26658437, 0.057350893, 0.057350893, 0.0, 0.0, 0.0, 0.03709999, 0.0986538, 0.19214423, 0.13059042, 0.18537675, 0.05478633, 0.089070916, 0.034284584, 0.0, 0.0, 0.0, 0.0, 0.0, 0.0, 0.0, 0.060630295, 0.060630295, 0.28327113, 0.27388528, 0.27388528, 0.0, 0.0023206233, 0.0023206233, 0.0, 0.0, 0.09667604, 0.10695143, 0.07109144, 0.09486981, 0.09486981, 0.03405376, 0.16675796, 0.16675796, 0.16675796, 0.0, 0.07958055, 0.07958055, 0.07958055, 0.0, 0.0, 0.12554054, 0.12554054, 0.20031244, 0.07477189, 0.07477189, 0.0, 0.0, 0.0, 0.0, 0.034194365, 0.034194365, 0.1305736, 0.1305736, 0.13686046, 0.0062868535, 0.1188525, 0.1188525, 0.33899388, 0.22014138, 0.0, 0.0, 0.0, 0.0, 0.0, 0.3661438, 0.3661438, 0.0, 0.0, 0.03420202, 0.03420202, 0.43903178, 0.40482977, 0.40482977, 0.12769441, 0.12769441, 0.13910034, 0.07487414, 0.07487414, 0.0, 0.059130367, 0.07603407, 0.44005692, 0.44005692, 0.23103206, 0.07037902, 0.0, 0.0, 0.0, 0.0, 0.0, 0.0016452521, 0.0016452521, 0.0016452521, 0.0, 0.0, 0.0, 0.24874881, 0.24874881, 0.6551813, 0.6185282, 0.16771509, 0.16771509, 0.0, 0.0, 0.0, 0.0, 0.0, 0.0, 0.0, 0.0, 0.0, 0.0, 0.0, 0.0, 0.0, 0.0, 0.020120166, 0.31140643, 0.29128626, 0.37966967, 0.08838341, 0.08838341, 0.0, 0.0064637046, 0.1659807, 0.15951699, 0.0, 0.0, 0.0, 0.062146917, 0.062146917, 0.062146917, 0.0, 0.0, 0.0, 0.0, 0.0, 0.07472032, 0.07472032, 0.07472032, 0.009043209, 0.10787035, 0.10787035, 0.0, 0.31529686, 0.31529686, 0.31529686, 0.10175643, 0.10175643, 0.0, 0.22737065, 0.22737065, 0.22737065, 0.0, 0.20400962, 0.2092355, 0.35621125, 0.15220162, 0.0, 0.0, 0.0, 0.0, 0.0, 0.0, 0.0, 0.0, 0.0]'"
      ]
     },
     "execution_count": 47,
     "metadata": {},
     "output_type": "execute_result"
    }
   ],
   "source": [
    "embed"
   ]
  },
  {
   "cell_type": "code",
   "execution_count": 61,
   "metadata": {},
   "outputs": [],
   "source": [
    "res = cur.execute(f\"\"\"\n",
    "    SELECT * FROM tops where gender = 'Men' ORDER BY img_embedding <-> '{embed}' LIMIT 2 OFFSET 1;\n",
    "\"\"\")"
   ]
  },
  {
   "cell_type": "code",
   "execution_count": 62,
   "metadata": {},
   "outputs": [
    {
     "data": {
      "text/plain": [
       "[(13419,\n",
       "  '[0.07730843,0,0,0,0,0,0.08358083,0.08358083,0,0,0,0,0,0,0,0,0,0,0,0,0.07541144,0.07541144,0.19147195,0.19147195,0.19147195,0.009672292,0.009672292,0.011809888,0.11016326,0.11016326,0.121299595,0.03696567,0.15840381,0.14512989,0.121438146,0,0.072391145,0.072391145,0.072391145,0.03357729,0.03357729,0.03357729,0.02262308,0.02262308,0.2435765,0.22095342,0.22095342,0,0.12899001,0.12899001,0.23384398,0.10485397,0,0,0,0,0,0,0,0.09737571,0.09737571,0.26389384,0.32953298,0.32953298,0.16301487,0,0,0,0,0,0,0,0.10872521,0.10872521,0.10872521,0,0,0,0,0,0,0,0,0,0.05308269,0.05308269,0.13785905,0.08477635,0.08477635,0,0,0,0,0,0.0479469,0.0479469,0.2907375,0.24279061,0,0,0,0,0,0,0.003765339,0.09892071,0.09515537,0.09515537,0,0,0,0,0,0,0,0,0.19640543,0.23647648,0.35245845,0.11598197,0.11598197,0.025920467,0.025920467,0.21616478,0.19024432,0,0,0,0.11771461,0.11771461,0.11771461,0.16817875,0.16817875,0,0,0,0.27114934,0.27114934,0.27114934,0,0,0,0,0,0,0,0,0,0,0,0,0,0,0,0,0,0.14007397,0.14007397,0,0,0,0,0,0,0,0,0,0,0,0,0,0,0,0,0,0.13731617,0.13731617,0,0,0,0,0,0,0,0.011893125,0.011893125,0.011893125,0.3305825,0.3305825,0,0,0,0.04419531,0.04419531,0,0,0.08217,0.08217,0.22070727,0.13853726,0.13853726,0,0,0.067617424,0.067617424,0.067617424,0.20767128,0.20767128,0.28671923,0.07904794,0.07904794,0,0.08009817,0.08009817,0.08009817,0,0.002565328,0.002565328,0.41649094,0.5987693,0.5987693,0.18484366,0,0,0,0.048199315,0.10194625,0.10194625,0.05374694,0,0,0.07369563,0.10507643,0.18187912,0.18187912,0.15049832,0,0.092695795,0.092695795,0.092695795,0,0,0,0,0.34960356,0.46129373,0.46129373,0,0.018822325,0.018822325,0.019840391,0.001018066,0.11198002,0.11096196,0.11096196,0,0,0,0,0.086645514,0.086645514,0.086645514,0.09331856,0.14423245,0.050913885,0.121211536,0.08556147,0.015263815,0.084439695,0.069175884,0.06937781,0.00020192703,0.06563628,0.15048534,0.15048534,0,0,0,0,0,0,0.025747411,0.025747411,0.025747411,0,0,0,0,0,0,0.16133213,0.16299869,0.16299869,0,0.16174373,0.16174373,0.16174373,0,0,0,0,0,0,0,0,0,0,0.052821442,0.08591887,0.08591887,0.13773176,0.35126618,0.35126618,0.2135344,0.0762241,0.0762241,0.0762241,0,0.20972703,0.20972703,0.20972703,0,0,0,0.35167283,0.35167283,0.65564924,0.30397642,0.2660026,0,0,0,0.0271194,0.5232906,0.7659622,0.74402165,0.25404152,0.13029161,0.13029161,0.18345505,0.17765668,0.26204744,0.08439075,0.08439075,0.014407187,0.014407187,0,0,0.11562594,0.11562594,0,0,0.034832094,0.034832094,0,0.040029015,0.13366708,0.09363807,0.01142736,0.29419336,0.41186205,0.11766868,0,0,0,0,0,0,0,0,0,0,0,0,0.118021116,0.118021116,0,0,0,0.04495205,0.04495205,0.04495205,0,0.18504146,0.18504146,0.04847771,0,0,0.16911012,0.16911012,0.023085458,0,0,0.061914213,0.061914213,0.060846135,0.060846135,0.057672527,0.028457448,0.028457448,0,0,0.0065520164,0.0065520164,0,0,0,0,0,0,0,0,0.088870995,0.088870995,0.014019626,0.03188232,0.03188232,0.048881497,0.016999178,0.059865244,0.059865244,0,0.0612365,0.0612365,0,0,0,0,0,0,0,0,0,0,0,0,0,0,0,0,0,0,0.27007884,0.27007884,0.19500887,0.07319165,0.07319165,0,0,0,0.122201286,0.122201286,0.122201286,0,0,0,0,0.0033732736,0.036300693,0.036300693,0.03292742,0,0,0,0.0039380584,0.0039380584,0.06145215,0.05751409,0,0,0,0,0,0.08650069,0.08650069,0.27231592,0.18581522,0.3313165,0.14550129,0,0.024700085,0.07993918,0.07993918,0,0.093791254,0.093791254,0.093791254,0,0,0,0,0,0,0,0,0,0.20845997,0.20845997,0.20845997,0,0,0,0,0,0,0,0.046120584,0.046120584,0.4328771,0.3867565,0,0.17618573,0.17618573,0.17618573,0.12286207,0.21376666,0.21264534,0.0909046,0,0,0,0.17942575,0.17942575,0.4418609,0.35219163,0.08975645,0,0,0,0,0,0,0.20576048,0.2912968,0.2912968,0.08553633,0,0,0.042968072,0.042968072,0.042968072,0.01590776,0.021276591,0.021276591,0.0053688306,0.06675333,0.06675333,0,0,0,0,0,0,0,0,0,0.070149906,0.070149906,0.070149906,0.07271331,0.07271331,0.03438677,0.03438677,0.047146253,0.012759486,0,0.1212139,0.19025049,0.21408053,0.023830041,0.023830041,0,0,0,0.022205204,0.022205204,0.1575066,0.1353014,0,0,0,0,0,0,0.039076325,0.22188246,0.39032993,0.39032993,0.07260124,0,0,0,0,0.00731308,0.00731308,0.00731308,0,0,0,0,0,0.23695754,0.4032078,0.4032078,0.16625027,0,0,0,0,0.22470969,0.22470969,0,0,0,0,0,0.13942093,0.13942093,0.13942093,0,0,0,0.073455945,0.073455945,0.073455945,0,0,0.5952424,0.5952424,0.6450339,0.20452997,0.42708465,0.3563503,0.2723462,0.142088,0.15181106,0.0097230645,0.0097230645,0,0,0.03430183,0.03430183,0.03430183,0.19465196,0.19465196,0.19465196,0,0,0,0,0,0,0,0,0,0,0.20763583,0.2947573,0.2947573,0.12467259,0.170654,0.170654,0.1331029,0.071821645,0.071821645,0.071821645,0.084426135,0.32447892,0.32447892,0.24005279,0.2563617,0.32999194,0.3467407,0.32084078,0.32084078,0.30409202,0.12041248,0.12041248,0.27854055,0.15812807,0,0.014563873,0.014563873,0.09415674,0.09415674,0.09415674,0,0,0.06267066,0.07225949,0.07225949,0.023017287,0.023017287,0.023017287,0,0,0,0,0,0,0.12931436,0.12931436,0,0,0,0.18481149,0.18481149,0.18481149,0,0,0,0.056602824,0.056602824,0.036715105,0.036715105,0.036715105,0,0,0,0.033354588,0.033354588,0.033354588,0,0.26854193,0.26854193,0,0,0.022694768,0.022694768,0,0,0,0,0,0,0,0,0.17537206,0.21254934,0.21254934,0,0,0,0,0.15606204,0.22448212,0.21703339,0.11809446,0.13142703,0.13142703,0.08191879,0.08191879,0.03926658,0.026670415,0.026670415,0.026670415,0,0,0,0,0.12355244,0.12355244,0,0,0,0,0,0,0,0.22845471,0.25852382,0.25852382,0.030069102,0.08913047,0.08913047,0.08913047,0,0,0.041145027,0.041145027,0.1393974,0.09825237,0.09825237,0,0,0,0,0,0,0,0.17936666,0.22094944,0.22094944,0,0.42811647,0.42811647,0,0,0.25609088,0.25609088,0.35542414,0.099333264,0.099333264,0,0,0,0,0,0,0,0,0,0,0,0.12792894,0.12792894,0.12792894,0.6089709,0.6089709,0.6089709,0.18056582,0.18056582,0.12649378,0.12649378,0.12649378,0.0057285214,0.0057285214,0,0.16924669,0.22146742,0.22146742,0.22774579,0.17552505,0.11342576,0,0,0,0,0.0015995093,0.0015995093,0.11212996,0.11212996,0.18137483,0.06924488,0,0,0,0,0.095892996,0.10634699,0.10634699,0,0,0.06762998,0.06762998,0.06762998,0,0,0.06544353,0.0853063,0.0853063,0.30446312,0.30446312,0.3372184,0.032755278,0.032755278,0,0.24451612,0.405074,0.405074,0.1605579,0.16918314,0.16918314,0.16918314,0,0,0.002471257,0.41473338,0.41473338,0.4287662,0.016504072,0.03243193,0.015927859,0,0,0,0,0,0,0,0,0,0,0.22122444,0.22122444,0.1543519,0.0030858498,0.0030858498,0.0030858498,0,0.65195817,0.65195817,0.012555143,0,0,0,0.008840626,0.008840626,0,0.22291318,0.48557526,0.40192658,0.26266208,0,0.21227646,0.21227646,0.21227646,0.019747205,0.019747205,0.019747205,0.16902658,0.16902658,0,0.04435351,0.04435351,0.04435351,0,0,0.14732216,0.14732216,0.07810343,0.07469317,0.07469317,0.034221172,0,0,0,0,0,0,0.068455905,0.068455905,0.068455905,0,0,0.008626215,0.008626215,0.008626215,0.06284282,0.06284282,0.06284282,0,0,0.017259594,0.017259594,0.13539486,0.118135266,0.118135266,0,0,0,0.22118567,0.34165686,0.34165686,0.36513394,0.33890083,0.09423812,0.09423812,0,0,0.20580451,0.42022294,0.46197137,0.09282562,0.041748423,0,0,0,0.007782342,0.12107471,0.316746,0.30896366,0.1956713,0.04722372,0.04722372,0.26601705,0.27256653,0.124637485,0.006549484,0,0.021712758,0.021712758,0.097466506,0.102576524,0.102576524,0.026822776,0.02545173,0.02545173,0,0,0,0,0,0.22349903,0.22349903,0.22349903,0.25032943,0.25032943,0,0,0,0,0,0,0,0,0,0.107039124,0.107039124,0.015033435,0,0,0.14750448,0.14750448,0,0.01625669,0.01625669,0,0,0.27738687,0.3572708,0.3572708,0.079883926,0,0,0,0.09996279,0.09996279,0.09996279,0,0,0,0,0,0,0,0.078602105,0.108481415,0.108481415,0.029879307,0,0,0,0,0,0,0,0,0,0.024058633,0.024058633,0.024058633,0,0,0,0.050927404,0.050927404,0.1369868,0.0860594,0,0,0,0.017610673,0.017610673,0.017610673,0,0,0,0.07970674,0.12153305,0.12153305,0.041826308,0,0.04028719,0.04028719,0.14091642,0.10062923,0,0,0,0,0.026037326,0.026037326,0,0,0.032571875,0.034519732,0.034519732,0.0019478556,0,0,0,0,0,0.107481174,0.14859241,0.10654104,0.10654104,0.06542979,0,0,0,0,0,0,0,0,0.09464076,0.09464076,0.09464076,0,0,0,0.07970181,0.07970181,0.08641897,0.0067171585,0,0,0,0.027012162,0.3990684,0.53473175,0.39153153,0,0.0033039348,0.050415967,0.050415967,0.021314349,0.10263826,0.11086538,0.05367312,0.17852879,0.17852879,0.1658386,0,0,0.05537166,0.1307708,0.1307708,0.075399145,0,0.11762008,0.11762008,0.37167087,0.2540508,0.015858445,0.015858445,0,0,0.24155939,0.24155939,0,0.04290258,0.20995608,0.1670535,0.11286279,0.11286279,0.11286279,0,0.039736588,0.039736588,0.039736588,0,0,0,0,0,0,0.09507508,0.10736864,0.10736864,0.32943618,0.3171426,0.3171426,0,0,0.054430623,0.054430623,0.054430623,0,0,0.039983504,0.039983504,0,0,0,0,0.108238846,0.108238846,0.14244328,0.03420444,0.03420444,0,0,0,0,0,0,0,0.09236859,0.44600844,0.44648746,0.21774474,0.092847615,0,0,0,0.1280127,0.22496296,0.38855994,0.31119686,0.21424662,0,0,0.0642242,0.0642242,0.10042328,0.0775683,0.0775683,0.04136922,0.023009175,0.023009175,0.023009175,0,0,0,0,0,0,0,0,0,0,0,0,0,0,0,0.062160414,0.07455945,0.30709243,0.29469338,0.3623844,0.06769102,0,0,0,0,0.20969859,0.24236679,0.24236679,0.03266821,0,0,0,0.47911596,0.64668566,0.64668566,0.036801424,0.036801424,0.26481286,0.26580757,0.26580757,0.03779613,0,0,0.39629877,0.49407357,0.35879642,0.027079098,0.08693658,0.05985748,0,0,0,0.009414787,0.009414787,0.009414787,0.011459683,0.011459683,0.025255688,0.07362442,0.07362442,0.56758696,0.53069174,0.011473538,0.011473538,0,0,0,0,0,0,0,0,0,0.111222245,0.111222245,0,0,0,0,0.20616613,0.20616613,0.20616613,0.13522506,0.13522506,0.13522506,0.026821172,0.19288269,0.16606152,0.30481872,0.30481872,0,0,0.13855693,0.13855693,0,0.14235719,0.3970968,0.3970968,0,0,0,0,0,0.23494868,0.23494868,0.06682459,0.4237924,0.4558535,0.4558535,0.22206566,0.12317998,0.325107,0.20192704,0.20192704,0,0,0.23393123,0.42135966,0.42135966,0.08298949,0.045911156,0.045911156,0.05777452,0.05777452,0,0,0.049425747,0.049425747,0]',\n",
       "  'http://assets.myntassets.com/v1/images/style/properties/8d7f0bbb0bdefcbcc692bcdf4a6400ee_images.jpg',\n",
       "  'United Colors of Benetton Men Solid Pink Polo T-shirts',\n",
       "  303.54507,\n",
       "  'Men',\n",
       "  'Tshirts'),\n",
       " (9452,\n",
       "  '[0.012117147,0,0,0,0,0.05319121,0.05319121,0.05319121,0,0.068543404,0.068543404,0.068543404,0,0,0,0,0,0.07888767,0.07888767,0.07888767,0,0,0,0,0,0.012358874,0.012358874,0.012358874,0.08894797,0.08894797,0.1132499,0.024301928,0.22917527,0.20487334,0.20487334,0.21338265,0.37365386,0.37365386,0.16677678,0.0065055685,0.0065055685,0,0,0.061553247,0.061553247,0.061553247,0,0,0,0,0.0156234335,0.0156234335,0.085184,0.2900824,0.2900824,0.20489839,0,0.07308141,0.13032067,0.13032067,0.057239257,0,0,0,0,0,0.005020367,0.005020367,0.12019711,0.115176745,0.4149788,0.29980206,0.28597873,0,0.014375125,0.20042077,0.18604565,0.13489407,0.13489407,0.13674222,0.0018481532,0.0018481532,0.3247961,0.3247961,0.42841303,0.10361691,0.10361691,0,0,0.030960921,0.030960921,0,0.21216828,0.21216828,0,0.05749522,0.07619085,0.07619085,0.01869563,0,0.09226228,0.09226228,0.09226228,0,0.024832962,0.024832962,0.024832962,0.004148906,0.004148906,0.004148906,0,0,0,0.20338602,0.20338602,0.20338602,0.1693559,0.20278913,0.20278913,0,0,0.28182712,0.28182712,0.3148409,0.0330138,0,0,0,0,0,0.06378545,0.26475668,0.26475668,0,0,0,0.14480232,0.14480232,0.10937438,0.33114108,0.36329475,0.032153673,0.032153673,0,0,0,0,0,0,0,0,0.11007998,0.11007998,0.11007998,0,0,0,0,0,0.046947565,0.13144559,0.13144559,0.084498025,0,0,0.4032771,0.48718137,0.10563046,0.383606,0.29970172,0.3186156,0.040640045,0.040640045,0,0.4101326,0.70980585,0.78937596,0.2514873,0,0,0,0,0,0,0,0,0.03190837,0.049848326,0.049848326,0.017939955,0,0,0,0,0.016142301,0.016142301,0.016142301,0,0.08514731,0.08514731,0.08514731,0,0,0.2421307,0.2421307,0.2421307,0,0,0.037027612,0.20391263,0.20391263,0.16688502,0,0,0,0,0,0,0.3851989,0.3851989,0.3851989,0,0,0,0.13417853,0.24795693,0.11377839,0.11377839,0,0,0,0,0,0.14199275,0.15406032,0.15406032,0,0.14784583,0.14784583,0.1780605,0.030214671,0.030214671,0.04194779,0.04194779,0.04194779,0,0,0,0,0,0,0.049583144,0.118121825,0.118121825,0.06853868,0,0,0,0,0,0,0,0,0,0,0,0,0,0,0,0,0,0.113026746,0.38022363,0.34831327,0.0326866,0.0326866,0,0,0.18482336,0.18482336,0.2694899,0.08466655,0.08466655,0,0.0018760096,0.0018760096,0.0018760096,0,0.12788382,0.12788382,0.12788382,0,0,0.22122018,0.2578898,0.2578898,0.03666962,0,0.27368543,0.27642387,0.27642387,0.0027384413,0,0,0,0,0,0.05888983,0.05888983,0.20062089,0.20062089,0.2060394,0.0054185055,0.0054185055,0.34213787,0.34213787,0.34213787,0.22735068,0.22735068,0.22735068,0,0.12323193,0.12323193,0.0022220248,0.026153773,0.18217456,0.20766455,0.20766455,0.0010862602,0.0010862602,0.057816748,0.056730486,0.056730486,0,0.09438602,0.09438602,0.09438602,0,0.05204534,0.05204534,0.05204534,0,0.0023227623,0.024261497,0.021938734,0,0,0.29736263,0.29736263,0.19526035,0,0.16524999,0.16524999,0.27506533,0.27506533,0.023906402,0.023906402,0,0.22102764,0.27197692,0.050949275,0.12182688,0.070877604,0.070877604,0,0.054098286,0.054098286,0.028274555,0,0,0,0,0,0,0,0,0,0,0,0,0,0,0.17602806,0.17602806,0,0,0,0.14066213,0.14066213,0.14066213,0,0,0.33135697,0.36505175,0.36505175,0.05798176,0.024287,0.19094807,0.19094807,0.19094807,0.03206171,0.03206171,0.34214658,0.31008485,0.31008485,0,0,0,0,0,0,0,0,0,0.067186885,0.067186885,0.067186885,0,0.022770137,0.022770137,0.022770137,0,0,0,0,0,0.07025602,0.07025602,0.07025602,0,0,0,0,0,0,0,0,0,0,0,0,0,0,0,0.022816893,0.022816893,0.022816893,0,0,0.19102873,0.19102873,0.19102873,0,0,0.013424502,0.022472572,0.022472572,0.030298654,0.07543709,0.07543709,0,0.11523583,0.11523583,0.23079997,0.11556414,0,0.17353642,0.17353642,0,0,0,0.08251043,0.15939906,0.15939906,0.20791239,0.13102376,0.180953,0.04992923,0.14357533,0.11203849,0.05826521,0.05826521,0,0.029250162,0.029250162,0.029250162,0.057444952,0.057444952,0.057444952,0.21804377,0.21804377,0.21804377,0,0,0,0,0,0,0,0,0,0,0,0,0,0,0,0.10353188,0.10353188,0,0,0,0.009510381,0.009510381,0.009510381,0,0,0,0.06152705,0.06152705,0.06152705,0,0,0.15288123,0.15288123,0.0010315161,0.0010315161,0.0010315161,0,0,0,0.12291104,0.12291104,0.12291104,0,0,0,0,0,0,0,0,0,0,0.024277328,0.28952688,0.26524955,0.26524955,0,0.2623329,0.2623329,0,0,0,0,0.124578044,0.124578044,0.124578044,0,0,0,0.07208124,0.1921607,0.1921607,0.120079465,0,0.062752776,0.062752776,0.16473873,0.16473873,0,0,0,0,0,0.2779985,0.2779985,0,0,0,0.014344039,0.014344039,0.014344039,0,0,0.278089,0.278089,0.13924474,0,0,0.09691271,0.09691271,0.09691271,0.18665247,0.18665247,0,0,0.21076567,0.21076567,0.21076567,0.23727226,0.24211027,0.24211027,0.033772558,0.02893455,0,0,0,0.27311096,0.27311096,0,0.028781544,0.028781544,0.028781544,0,0.22212982,0.22212982,0.22212982,0,0,0.058090813,0.058090813,0.058090813,0.17167379,0.17167379,0,0.33795053,0.33795053,0.33795053,0.09600273,0.34947506,0.25347233,0.25347233,0.044300932,0.044300932,0,0,0,0,0.060702447,0.10237014,0.091782644,0.041667692,0,0,0.03726835,0.03726835,0.03726835,0,0,0,0,0,0,0,0,0,0,0,0,0,0,0,0,0,0,0.2013894,0.2013894,0.2013894,0.48822686,0.48822686,0.533566,0.3655864,0.49244463,0.44710547,0.020821454,0.053901613,0.35385364,0.31437007,0.014418025,0.03759092,0.11911304,0.22630608,0.37652737,0.28058723,0,0,0.053129397,0.053129397,0.053129397,0,0,0,0,0.05787027,0.13695246,0.2146359,0.32275575,0.1659901,0,0,0,0,0,0,0.21084297,0.21084297,0.21084297,0,0,0,0,0.28678674,0.32415345,0.32415345,0,0,0,0,0,0,0,0,0,0,0,0.112865046,0.112865046,0.21269754,0.09983249,0.09983249,0,0,0,0,0,0.0922433,0.0922433,0.0922433,0,0,0.01141614,0.01141614,0.01141614,0.28013557,0.28013557,0.28013557,0,0,0,0.24105288,0.51830554,0.51830554,0.45098096,0.45098096,0.29788628,0.069206,0.069206,0,0,0,0,0.056747127,0.056747127,0.056747127,0,0,0,0,0,0,0,0,0,0,0,0,0.0192302,0.0192302,0.27769563,0.25846544,0.25846544,0,0,0,0,0,0,0,0,0,0,0,0,0,0,0.07557004,0.17835131,0.17835131,0.102781266,0.32498696,0.4901669,0.4901669,0.16517994,0.023213133,0.023213133,0.023213133,0,0.06947037,0.06947037,0.06947037,0.27787724,0.39951482,0.35807434,0.18225704,0.06061946,0.08287973,0.023189621,0,0.12276354,0.12276354,0.019024737,0.019024737,0.019024737,0.007123406,0.007123406,0,0.055211984,0.055211984,0,0.26627845,0.26627845,0.26627845,0,0,0.0046316553,0.0046316553,0,0.17666316,0.4528524,0.4528524,0.28705907,0.28705907,0,0,0,0.2095191,0.22258082,0.22258082,0.013061717,0,0,0.062445916,0.062445916,0.062445916,0,0.166535,0.166535,0.166535,0,0,0,0.118730396,0.118730396,0.118730396,0,0,0,0,0,0.09976128,0.09976128,0.09976128,0,0.012233246,0.012233246,0.2208289,0.20859566,0.20859566,0.22284961,0.22284961,0.22284961,0.11089857,0.11089857,0,0.113542005,0.113542005,0.113542005,0,0.2517589,0.3940559,0.3940559,0.20727262,0.064975634,0.04729116,0.074500315,0.074500315,0.074500315,0,0.5567897,0.5567897,0.015054705,0.029835615,0.014780912,0,0,0.006951311,0.006951311,0,0,0.056206174,0.056206174,0,0,0,0.04872339,0.04872339,0.04872339,0,0.0032604225,0.0032604225,0.0032604225,0.049326174,0.049326174,0.049326174,0,0,0.16992716,0.17823954,0.109578826,0.090776786,0.08246441,0.10253997,0.020075561,0.020075561,0,0,0,0,0.19292526,0.19292526,0.3175833,0.12465803,0.12465803,0,0,0.03610968,0.03610968,0.03610968,0.0031495662,0.05529195,0.05529195,0.052142385,0,0,0,0,0,0,0,0.15600145,0.15600145,0,0.07200508,0.12668808,0.054683004,0,0,0,0.13665739,0.27126235,0.13460496,0,0.12574999,0.12574999,0.12574999,0,0.039584856,0.039584856,0,0.07206611,0.07206611,0,0,0.09665227,0.23331036,0.4141169,0.31746462,0.17564747,0.07188216,0.07188216,0.07188216,0.056553803,0.056553803,0.056553803,0,0,0,0,0,0.12752376,0.12752376,0.12752376,0,0,0,0,0,0,0,0,0.04783602,0.04783602,0.04783602,0,0,0,0.035588667,0.035588667,0,0,0.03341185,0.03341185,0.03341185,0,0,0,0,0,0,0,0,0.15946557,0.17976487,0.020299297,0.21447812,0.21447812,0.21447812,0,0,0,0,0,0,0,0.017609661,0.017609661,0.017609661,0,0,0,0,0,0,0,0,0,0,0.101396285,0.101396285,0.1314056,0.03000932,0,0,0,0,0,0.06660491,0.06660491,0.06660491,0.007901824,0.007901824,0.007901824,0,0.06442713,0.06442713,0.06442713,0.042293835,0.042293835,0.042293835,0,0,0,0,0,0,0,0,0,0,0.05842675,0.05842675,0.014333371,0,0.19200076,0.19200076,0.19200076,0.01637888,0.01637888,0.01637888,0,0,0,0.093480736,0.12707037,0.033589635,0.033589635,0,0,0,0,0.018335395,0.018335395,0,0,0,0,0,0,0,0,0,0.07240695,0.3413158,0.3413158,0.26890886,0,0,0.19729704,0.31367946,0.116382405,0.1417774,0.025394998,0.025394998,0.07859936,0.14391568,0.10333609,0.069735974,0.05433266,0.115598515,0.11117887,0.06126586,0,0,0,0,0,0,0,0.0062342836,0.0062342836,0.0062342836,0,0.18768895,0.18768895,0,0,0,0,0.20797996,0.20797996,0,0,0,0,0.18945259,0.18945259,0.18945259,0.06478465,0.06478465,0.07676551,0.13699283,0.18651769,0.049524866,0.049524866,0,0,0.07315098,0.40792394,0.40792394,0.47224438,0.13747142,0.13747142,0.041189928,0.041189928,0.041189928,0,0.08275314,0.08275314,0.08275314,0,0.0009222515,0.0009222515,0.0009222515,0,0,0,0,0,0,0,0,0,0,0,0,0,0,0,0.29300195,0.31810597,0.31810597,0.34690112,0.3217971,0.3217971,0,0,0,0,0.26006877,0.26006877,0.26006877,0,0,0,0,0,0,0.030727124,0.030727124,0.14048919,0.109762065,0.109762065,0,0,0,0,0.0049551204,0.0049551204,0.0049551204,0,0,0,0,0,0,0,0,0,0.10967135,0.31975105,0.31975105,0.2100797,0,0,0,0,0.06989161,0.09319375,0.09319375,0.023302138,0.14183941,0.14183941,0.14183941,0,0.44546077,0.55412865,0.55412865,0,0,0,0,0,0,0.0131449355,0.0131449355,0.23994955,0.45903966,0.45903966,0.51110405,0.29201394,0,0,0,0,0.03957386,0.03957386,0.03957386,0,0,0,0.12722917,0.12722917,0.46819597,0.4334509,0.016766919,0.016766919,0,0,0,0,0,0.05231987,0.05231987,0,0.07959458,0.23338625,0.23338625,0,0,0,0,0,0.20534545,0.28385013,0.117596194,0.117596194,0.039091513,0,0,0.028216083,0.028216083,0.06994365,0.17084885,0.30318114,0.30318114,0.17405985,0,0.16251944,0.16773848,0.16773848,0,0,0,0,0,0,0,0,0.38438436,0.38438436,0.38438436,0.18852744,0.18852744,0.18852744,0.1589368,0.1589368,0.1589368,0,0.112158574,0.112158574,0.112158574,0,0,0.034482013,0.14365755,0.14365755,0,0.26756024,0.26756024,0,0]',\n",
       "  'http://assets.myntassets.com/v1/images/style/properties/5e557eb0be7c6420f7c7a6bbaa432993_images.jpg',\n",
       "  'John Miller Men Stripes White Red Shirts',\n",
       "  282.3591,\n",
       "  'Men',\n",
       "  'Shirts')]"
      ]
     },
     "execution_count": 62,
     "metadata": {},
     "output_type": "execute_result"
    }
   ],
   "source": [
    "cur.fetchall()"
   ]
  },
  {
   "cell_type": "code",
   "execution_count": 104,
   "metadata": {},
   "outputs": [],
   "source": [
    "res = cur.execute(f\"\"\"\n",
    "    SELECT * FROM tops where id = 15970 LIMIT 5;\n",
    "\"\"\")\n",
    "single_img = cur.fetchall()"
   ]
  },
  {
   "cell_type": "code",
   "execution_count": 106,
   "metadata": {},
   "outputs": [
    {
     "data": {
      "text/plain": [
       "'[0,0,0,0,0,0,0,0,0,0,0,0,0,0,0,0,0,0,0,0,0,0,0,0,0,0,0,0.26184884,0,0,0,0,0,0,0,0,0,0.97193104,0,0,0,0,0,0,0,0,0,0,0,0,0,0,0,0,2.1229653,0,0,0,0,0,0,0,0,0,0,0,0,0,0,0,0,0,0,0,0,0,0,0,0,0,0,0,0,0,0.59137726,0,0,0.1492258,0,0,0,0,0,2.8818562,0,0,0,0,0,0,0,0,2.043555,0,0,0,0,0,0,0,0,0.28774095,0,0,0,0,0,0,0,0,0,0,0,0,0.20764849,0,0,0,0,0,0,0,0,0.26542744,0,0,0,0,0,0.7904995,0,0,0,0,0,0,0,0,0,0,0,0.11006073,0,0,0,0,0,0,0,0,0,0,0,0,0,0,2.0296192,0,0,0,0,0,0,0,0,0,0,0.8745702,0,0,0,0,0,0,2.9206114,0,0,0,0,0,0.18601906,0,0,1.4687512,0,0,0,0,0,0,0,0,0,0,0,0,0,0,0.36854905,0,0,0,0,0,0,0.24727002,2.4140925,1.3050505,0,0,0,0,0,0,0,0,0,0,0,0,0,0,0.38103148,0,0,0,0,0.72254086,0,0,0,0,0,0,0,0,0,0,0,0,0,0,0,0,0,0,0,0,0,0,0,0,0,0,0,1.0919883,0,0,0,0,0,0,0,0,0,0,0,0,0,0,0,1.9658463,0,0,0,0,0.9579193,0,0,0.010222502,0,0,0,1.4561223,0,0,0,0.8773639,0,0,0,0,0,0,0,0,0,0,0,0,0,0,0,0,0,0,0,0,0,0,0.055804536,0,0,0,0,0,0,0,0,0,0,0,0,0,0,0.21498035,0,0,0,0,0,0,0,0,2.8320274,0,0,0,0,0,0,0,0.14002988,0,0,1.0478684,0.08475862,0,0,0,0,0,0,0,0,0,0,0,0,0,0,0,0,0,0,0,0,0,0,0,0,0,0,0.10456407,0,0,0,0,0,0,0,0,0,0,0,0,0,0,0.8752485,0,0,0,0,0,0,0,0,0,0,0,0,0.6053617,0,0.16586098,0,0,0,0,0,0,0.14626911,0,3.8409286,0,0,0,0,0,0,0,0.40165818,0,0,0,0,0,0,0,0,0,0,0,0,0,0,0,0,0,0,0,0,0,0,0,0,0,0,0,0,0,0,0,0,0,0,0,0,0,0,0,0,0,0,0,0,0,0,0,0,0.93971026,0,0,0,0.64732146,0,0,0,0,0,0,0,0,0,0,0,0,0,1.8279897,0,0,3.075873,0,0,0,0,0,0,0,0,0,0,0,0,0,0,0,0,0,0,0,0,0,1.1389863,0,0,0,0,0,0,0,0,0,0,0.32770368,0.85498667,0,0,0,0,0,0,0,0,0,0,0,0,0,0,0,0,0,0,0,0,0,0,0,0,0,0,0,0,0,0,0.2600571,0,0,0.29467416,0,0,0,0,0,0,0,0.011618543,0,0,0,0,0.40314007,0,0,0,0,0,0,0,1.5776337,0,0,0,0,0,1.1574559,0,0,0,0.15961327,0,0,0,0,0.2750486,0,0,0,0,0,0,0,1.0459796,0,0,0.7321918,0.8032721,0,0,0,0,0,0,0,0.54475236,0,0,0,0,0,0,0,0,0,0,0,0,0,0,0,0,0,0,0.9556641,0,2.030169,0,0,0,0,0,0,0,0,0,0,0,0,0,0,0,0.677389,0,2.9696007,0,0,0,0,0,0,0,0,0,0,0,0,0,0,0,0,0,0,0,0,1.2013596,0,0,0.93814296,0,0,0,0,0,0,0,0,0,0,0,0,0,0,0,0,0,0,0,0.455644,0,0,0,0,0,0,0,0,0,0.851023,0,0,0,0,0,1.4894121,0,0,0,0,0,0,0,0,0,0,0,0,0,0,0,2.137585,0.49238235,0,0,0,0,0,0,0,0,0,0,0,0,0,0,0,0,0,0,0,0,0,0,1.4436463,0,0,0,0.6638118,0,0,0,0,0,0,0,0,0,0,0,0,0,0,0,1.1259956,0,0,0,0,0,0,0,0,0,0,0,0,0,0,0,0,0,0,0,0,0.25071478,0.6462466,0,0.7422448,0,0,0,0,0,0,0,0,0.288192,0.5283489,0,0,0,0.54860055,0,0,0,0,0,0,0,0,0,0,0,0,0,0,0,0,0,0,0,0,0,0.6607139,0,0,0,0,0,0,0,0,0,0,0,0,0,0,0,0,0,0,0,0,0,0,0,0,0,0,0,0,0,0,0,0,0,0,0,0,0,0,0,0,0,0,0,0,0.79581976,0,0,0,0,0,0,0,0,0.45283136,0,0,0,0,0,0,1.2812091,0,0,0,0,0,0,0.17146125,0,0,0,0,0,0,0,0,0,0,0,0,0,0,0,0,0,0,0,0,0,0,0,0,0,0,0,0,0,0.8545992,0,0,0,0,0,0,0,0,0,0,2.655101,0,0,0,0,0,0,0,0,0,0,0,0,0,0,0,0,1.0075053,0,0,0,0,0,0,0,0,0,0,0.24895568,0,0,0.6683256,0,0,0.37353694,0,0,1.5671734,0,0.3287578,0,0,0,0,0,0,0,0,0.91543496,0,0,0,1.2452301,0,0,0,0,2.4549103,0,0,0,0,0,0,0.7132128,0,0,0,0,0,0,1.2316164,0.09695115,0,0,0,0,0.36077124,0,0,0,0,0,0.061333925,0,0,0,0,0,0,0,0,0,0,0,0,0,0,0,0,0,0,0,0,0,0,0,0,0,0,0,0,0,0,0,2.1379354,0,0,0,0,0,0,0,0,0,0,0,0,0,0,0,0,0,0.053611994,0,0,0,0,0,0,0,0,0,0,0,0,0,0.6724342,0,0,0,0.0027003326,0,0,0,0,0,0,0,0,0,0,0,0,0,0,0,0,0,0,0,0,0,0,0,0,0,0,0,0,0,0,0,0,0,0,0,0,0,0,0,0,0,0,0,0,0,0,0,0,0,0,0,0,0,0,0,0,0,0,0,0,0,0,0,0,0,0,0,0,0,0,0,0,0,0,0,0,0,0,0,0,0,0.5792003,0,0,0,0,0,0,0,0,0,0,0,0,0,0,0,2.2987382,0,0,0,0,0,0,0,0,0.29921353,0,0,0,0,1.2788506,0,0,0,0,0,0,0,0,0,0,0,0.7571451,0,0,0,0,0,0,0.74781406,0,0,0,0,0,0,0,0,0,0,0,0,0,0,0,0,0,0.48108277,0,0,0,0,0,0,0,0,0,0,0,0,0,0,0,0,0,0,0,0,0,0,0,0,0,0,0,0,0,0,0,0,0,0,0,0,0,0,0,0,0,0,0,0,0,0.36054415,0,0,0,0,0,0,0,0,0,0,0,0,0,0,0,0,0,0,0,0,0,0,0,0,0,0,1.0846026,0.27089018,0,0,0,0,0,0,0.5553519,0,0,0,0,0,0,0,0.47226357,0,0,0,1.6005616,0,0,0,0,0,0,0.7658668,0,0,0,1.3412999,0,0,0,0,0,0,0,0,0.13778478,0,0,0,0,0,0,0,0,0,0,0,0,0,0,0,0,0,0,0,0,0,0,0,0,0,0,0,0,0,0,0,0,0,0.011465728,0,0,0,0,0,0,0.33836043,0,0,0,0,0,0.192035,0,0.09956147,0,0,0,0,0,0,0.045754492,0.93168384,0,0,0,0,0,0,0,0,0.5738477,0,0,0,0,0.74414444,0,0,0,0,0,0.71670926,0,0,0,0,0,0,0,0,0,0,0,0,0,0,0,0,0,0,0,0,0,0,0,0,0,0,0,0,0,0,0,0,0,0,0,0,0,0,0,0,0,0.33462948,0,0,0,0,0,0,0,0,0,0,0,0,0,0,1.9062389,0,0,0,0.047195606,0,0,0,0,0,0.38254428,0,0,0,0,0,0,0,0,0,0,0,0,0,0,0,0.11516505,0,1.3803284,0,0,0,0,0,0,1.344419,0,0,0,0.44640732,1.9245908,0,0,0,0,0,0,0,0,0,0,0,0,0,0,0,0,0.059068717,0,0,0,0,0,0,0.8911818,0,0,0,0,0,0,0,0,0,0,1.9152625,0.06044686,0,0,0,0.01748239,0,0,0,0,0,0,0,0,0,0,0,0,0,0,0,0,0,0,0,0,0,0,0,1.3622085,0,0,0.230155,0,0,0,0,0,0,0,0,0,0,0,0,0,0.60688686,0,0,0,0,0.34920612,0,0,0,0,0,0,0,0,0,0,0,0,0,0,0,0,0,0,0,0,0,0,0,0,0,0,0,0,0,3.7912354,0,0,0,0,0.38969576,0,0,0,0,0,0,0,0,0,0,0,0,0,0,0,0,0,0,0,0,0,0,0,0,0,0,0,0,0,0,0,0,0,0,0.5697696,0,0,0,0,0,0,0,0,0.3094103,0,0,0,0,0,0,0,0,0,0,0,0,0,0,0,0,0,0,0,0,0,0,1.4786617,0,0,0,0,0,0,0,0,0,0,0,0,0,0,0,0,0,0,0,0,0,0,1.5930414,0,0,0,0,0,0,0,0,0,0,0,1.2536815,0,0,0.50140804,0,0,0,0,0,0,0,0,0,0,0,0,0,0,0.31388825,0,0,0,0,0,0,1.2518853,0,0,0,0,0,0,0,0,0,0,0,0,0,0.18231197,0.08277446,0,0,0,0,0,0,0,0,0,0,0.5560883,0,0,0.44831455,0.016380623,0,0,0,0,0,0,0,0,0,0,0,0,0,0,1.9736638,0,0,0,0,0,0,0,0,0,0,0,0,0,0,0,0,0,0,0,0.06432329,0,0,0.93708944,0,0,0,0,0,0,0,0,0,0,0,0,0,0,0,0,0,0,0,1.3557465,0,0,0,0,0,0,0,0,0,0,0,4.132948,0,0,0,0,0,0,0,0.18297157,0,0,0,0,0,0,0,0,0,0,0,0.31519744,0.041430376,0,0,0,0.49406525,3.6385667,0,0,0,0,0,0,0,0,0,0,0,0,0,0,0,0,0,0,0,0,0,0,0,0,0,0,0,0,0,0,0,0,0,0,0,0,0,0,0,0,0,0.4301455,0,0,0,0,0,0,0,0,0.7800111,0,0,0,0,0,0.0016454831,0,0,0,1.0056113,0,0,0,0,0,0,0,0,0,0,0,0,0.13309877,0,0,0.11499816,0,0,0,0,0,0,0.21240577,0,0,0,0,0,0,0,0,0,0,0,0,0,0,0,0,0,0,0,0,1.4964855,0,0,0,0,0,0,0,0,1.6566678,0.90492296,0,0,0,0,0,0.14309938,0,0,0,0,0.08940913,0,0,0,0,0,0,0,0,0,0,0,0,0,0,1.4982575,0,0,1.2517283,0,0,0,0,0,0,0,0,0,0,0,0,0,0,0.6926264,0.29123026,0,0,0,0,0,0,1.2578844,0,1.3248678,0,0,0,0,0,0,0,0,0,0,0,0,0.74536484,0,0,0,1.3924598,0,0,0,0,0,0.33089367,0,0.92031485,0,0.06734418,0,0,0,0,0,0,0,0,0,0,0,0.19150677,0,0,0,0,0,0,0,0,0,0,0,0,0,0,0,0,0,0,0.104241595,0,0,0.086749814,0,0,0,0,0,0,0,0,0,0,0,0,0,0,0,0,0,0,0,0,0.40886837,0,0,0,0,0,0,0,0,0,0,0,0,0,0,0,0,1.1686295,0,0,0,0,0,1.3418627,0,0,0,0,0,0,0,0,0.43586522,0,0,0,0,0,0,0,0,2.216367,0,0,0,0,0,0,0,0,0,0,0,0,1.0005804,0,0,0,0,0,0,0,0,0,0,0,0,0,0,0,0.61019015,0,0,0,0,0,0,1.7204033,0,0,0,0,0,0,0,1.3021336,0,0,0,0,0,1.8478739,0,0,0,0,0,0,0,0,0.36546183,0,0,1.2432798,1.5937122,0,0,0,0,0,0,0,0,0,0,0,0,0,0,0,0,0,0,0,0.22811091,0,0,0,0,0,0,0,0,1.00872,0,0,0,0,0,0,0,0,0,0,0,0,0,0,0,0,1.5514612,0.268997,0,0,0,0,0,0,0,0,0,0,0.07038474,0,0,0.14211307,0,0,0,0,0,0,0,0,0,0,0,0,0,0,0,0.08168539,1.955283,0,0,0,0,0,0,0,0,0,1.5224895,0,0,0,0.72039765,0,0,0,0,0,0,0,0.002448678,0,0,0,0,0,0.05541022,0,0.1683195,0,0,0.33368367,0,0,0,0,0,0,0,1.3194106,0,0,0,0,0,0,0,0,0,0,0.12625337,0,0.098664254,0,0,0,0,0,0,0,0,0,0,0.28788972,0,0,0,0,0,0,0,0,0,0,0.5596899,0,0,0,0,0,0,0,0,0,0,0,0,0,0,0,0,0.6073631,0.27722085,0,0,0,0,0,0,0,0,0,0,1.5417719,0,0,1.3421807,0,0,0,1.6480298,0,0,0.028774418,0,0.17800692,0,0,0,0,0,0,0,0,0,0,1.2686028,0,0,0,0,0,0,0,0,0,0,0,0,0,0,0.19200563,0,0,0,1.4935697,0,0,3.1202345,0,0,1.92678,1.6369497,0,0,0,0,0,0,0,0,0,0,0,0,0,0.3043548,0,0,0,0,0,0,0,0,0,1.454736,0,0,0.5369657,0,0,0,1.1204118,0,0,0,0,0,0,0,0,0,0,0,0,0,0,0,0,0,0,0.52974725,0,0,0,0,0,0,0,0,0,0,0,0,0,0,0,0,0,0,0,0,0,0,0,0,0,0,0,0,0,0,0,0,0,0,0,0.49373227,0,0,1.6261235,0,0,0,0,0,0,0,0,0.022187285,0,0,0,0,0,0,0,0,0,0.19535272,0,1.049605,0,0,0,0,0,0,0,1.6070021,0.79743314,0,0,0,0.12791847,0.018472932,0,0,0,0,0,0,0.46689788,0,0,0,0,0,0,0,0,0,0,0,0.9673433,0.36036748,0,0,0,0,0,0,0,0,0,0,0,0,0,0,0,0,0.246948,0.92162794,0,0,0,0,0,0,0,0,0,0,0,0,0,0,0,0,0,0,0,0,0,0.250791,0,0.6011701,0,0,0,0,0,0,0,0,0,0,0,0,0,0,0,0,0,0,0,0,0,0,0,0,0,0,0,0,0,0,0,0,0,0,0,0,1.0162413,0,0,0,0,0,0,0,0,0,0,0,0,0,0,0.8912643,0,0,0,0,0,0,0,0,0,0,0,0,0.18658629,0,0,0.62185144,0,0,0,0,0,0,0.046935536,0,0,0,1.3460323,0,0,0,0,0,0,0,0,0,0.07628039,0.5526464,0,0,0,0,0,0,0,0,0,0,0,0,0.9409816,0,0,0,0,0,0,0,0,0,0,0.86263907,0,0,0,0,0,0,0,0,0,0,0,0,0,0,0,0,0,0,0,0,0,0.74657685,0,0,0,0.19552362,0,0,0,0,0,0,0.19823512,0,0,0,0,0,0,0,0,0.09113613,0,0,0,0,0,0.31877822,0,0,0,0,0,0,0,0,0,0,0,0,0,0.47609037,0.84133756,0,0,0,0,0,0,0,0,0,0,0,0,0,0,0,0,0,0,0,0,0,0,0,0,0,0,1.5997847,0,0,0,0,0.28127158,0,1.0116575,0,0,0,0,0,0,0,0,0,0,0,0,0,0,0,0,0.22764656,0,0,0,0,0,0,0,0,0,0,0,0,0,0,0.6536465,0,0,0,0,0,0,0,0,0,0,0,0.8263642,0,0,0.21640061,0,1.211315,0,0,0,0.20561296,0,0,0,1.9033875,0,0,0.060929395,0,0,0,0,0,0,0,0,0.7966145,0,0,0,0,0,0,0,0,0,0,0,0,0,0,0,0.2154184,0,0,0.18462628,0,0,0,0,0,0,2.138915,0,0,0,0,0,0,0,0,0,0,0,0,0,0,0,0,0.17999229,0,0,0,0,0,0,0,0,0,0,0,0,0,0,0,0,0,0,0,0,0,0,0.88920987,0,0,0,0.7369704,0,0,0,0,0,0,0,0,0,0.80391127,0,0,0,0,0,0.18230042,0,0,0,0,0,0,0,0,0,0,0,0,0,0,0,0,0,0,0,0,0,0,0,0,0,0,0,0.79811215,0,0,0,0,0,0,0,0,0,0,0,0.015401222,1.136707,0,0,0,0,0,0,0,0,0,0,0,0,0,0,0,0,0,0,0,0,1.2786925,0,0,0,0.5749098,0.31285867,0,0,0.55167276,0,0,0,0,0,0,0,0,0,0,0,0,0,0,0,0,0,0,0,0,0,0,1.5357429,0,0,0.11710857,0,0,0,0,0,0,0,0,0,0,0,0,0,0,0,0,0,0,0,0,0,0,0,0,0,0,0,0,0,0,0,0,0,0,1.2339453,0,0,0,0,0,0,0,0,0,0,0,0,0,0,0,0,0,0,0,0,0,0,0,0,0,0,0,0,0,1.360661,0,0,0,0,0,0,0,0,0,0,0,0,0,0,0,0,0,0,0,0,0,0,0,0,0,0,1.5327297,0,0,0,0,0,0,0,0,0,0,0,0,0,0,0,0,0,0,0,0.47341213,0,0,0,0,0,0,0,0,0,0,0.7739316,0,0,0,0,0,0,0,0,0,0,0,0,0,0,0,0,0,0,0,0,0,0,0,0,0,0,0,0,0,0,0,0,0,0,0,0,0,0,0,0,0,0,0,0,0,0.48253086,0,0,0,0,0,0,0,0,0,0,0,0,0,0,0,0,0,0,0,0,0,0,0,0,0.5947206,0,0,0.01464276,0,0,0,0,0,0,0,0,0,0,0,0,0,0,0,0.89295477,0,0,0,0.942488,0,0,0,0,0,0,0,0,0,0,0,0,0,2.2931826,0,0,0,0,0,0,0,0,0,0,0,0,0,0,0,1.3092462,0,0,1.5047001,0.9475497,0,0,0,0,0,0,0,0,0,0,0,0,0,0,0,0,0,0,0,0,0,0,0,0,0,0.08124208,0,0,0,0,0,0,0,0,0,0,0.092783324,0,0,0,0,0,0,0,0,0,0,0,0,0.046071544,0,0,0,0,0,0,0,0,0,0,0,0,0.75437605,0,0,0,0,1.2457284,0,0,0,0,0,0,0,0,0,0,0,0,0,0,0,0,0,0,0,0,0,0.62066376,0,0,0,0,0,0,0,1.6036004,0,0,0,0,0,1.4540993,1.1097602,0,0,0,0,0,0,0,0,0,0,0,0,0,0,0,0,1.7808079,0,0,0,0.07575245,0,0,0,0,0,0,0,0,0,0,0.7038691,0,0,0,0,0.060234465,0,0.33927882,0,0,0,0,0,0,0,0,2.306717,0,0,0,0,0,0,0.3203697,0,0,0,0,0,0,0,0.20395847,0,0,0,0,0,0,0,0,0,0,0,0,0,0,0,0,0,0,0,0,0,0,0,0,0,0.26236415,0,0,0,0,0,0,0,0,0,0,0,0,0.1822752,0,0,0,0,0,0,0,0.6349576,0,0,0,0,0,0,0,0,0,0,0,0,0,0,0,0,0,0,0,0,0.22806199,2.189516,0,0,0,0,0,0,0,0,0,0,0,0,0,0,0,0,0,0,0,0,0,0,0,0.22308475,0,0,0,0,0,0,0,0.2837198,0,0,0,0,0,0,0,0,0,0.18297087,1.089122,0,0,0,0,0,0,0,0,0,0,0.9883518,0,0,0,0,0,0,0,0,0,0,0,0,0,0,0,0,0,0,0,0,0,0,0,0,0,0,0,0,0,0,0,0,0,0,0,0,0,0,0,0,0,0,0,0,0,0,0,0,0,0,0,0,0,0,0,0,0,0,0,0,0,0.53145266,0,0,0.947542,0,0,0,0,0,0,0,0,1.0667409,0,0,0,0,0,0.44814837,0,0,0,0,0,0,0,0,0,0,0,0,0,0,2.6697206,0,0.13549545,0,0.35747653,0,0,0,0,0,0,0,0,0.19009183,0,0,0,0,0,0,0,1.3463972,0,0,0,0,0,0,0,0.10546742,0,0,0,0,0,0,0,0,0.36362046,0,0,0,0,0,0,0,0,0,0,0,0,1.3704854,0,1.8813316,0,0,0.8351586,0,0,0,0,0,0,0.62469167,0,0,0,0,0,0,0,0,0,0,0,0,0,0,0,0,0.047194347,0.40389413,0,0,0,0,0,0,0,0,0,0,0,0,0,0,0,0,0,0,0,0,3.4022362,0,0,0,0,0,0,0,0,0,0,0,0,0,0,0,0,0,0,0,0,0.14921886,0,0,0,0,0,0,0,0,0,0,0,0,0,0,0,0,0.83133197,0,0,0,0,0,0,0,0,0,0.07311507,0,0,0,0,0,0,0,0,0,0,0,0,0,0,0,0,0,0,0,0,0,0,0,0,0,0,0,0,0,0.23434807,0,0.1513758,0,0.22690544,0,0,0,0,0,0,0,0,0,1.1915799,0,1.7187927,0,0,0,0,0,0,0,0,0,0,0,0,0,0,0,0,0,0,0,0,0,0,0,0.40139127,0,0,0,0,0,0,0,0,0.25615263,0,2.5488012,0,0,0,0,0,0,0,0,0,0,0,0,0,0,0,0,0,0,0,0,0.18065012,0,0,0,0.2984498,0,0,0,0.5761268,0,0,0,0,0,0,0,0,0,0,0,0,0,0,0,0,0,0,0,0,0,0,0,0,0,0,0.036518678,0,0,0,0,0,0,0,0.68239677,0,0,0.2397735,0,0,0,0,0,0,0,0,0,0,0,0]'"
      ]
     },
     "execution_count": 106,
     "metadata": {},
     "output_type": "execute_result"
    }
   ],
   "source": [
    "single_img[0][1]"
   ]
  },
  {
   "cell_type": "code",
   "execution_count": 108,
   "metadata": {},
   "outputs": [
    {
     "data": {
      "text/plain": [
       "'[0.0, 0.0, 0.0, 0.0, 0.0, 0.0, 0.0, 0.0, 0.0, 0.0, 0.0, 0.0, 0.0, 0.0, 0.0, 0.0, 0.0, 0.0, 0.0, 0.0, 0.0, 0.0, 0.0, 0.21895203, 0.0, 0.0, 0.0, 0.07247769, 0.0, 0.0, 0.0, 0.0, 0.0, 0.0, 0.8739719, 0.0, 0.0, 0.0, 0.0, 0.0, 0.0, 0.0, 0.0, 0.0, 0.0, 0.0, 0.0, 0.0, 0.0, 0.0, 0.0, 0.0, 0.0, 0.0, 0.0, 0.0, 0.0, 0.0, 0.0, 0.0, 0.36647782, 0.0, 0.0, 0.0, 0.0, 0.0, 0.0, 0.0, 0.0, 0.34360355, 0.0, 0.0, 0.0, 0.8517641, 0.0, 0.0, 0.0, 0.0, 0.0, 0.0, 0.0, 0.0, 0.0, 0.0, 0.0, 0.0, 0.0, 0.0, 0.0, 0.0, 0.0, 0.5496612, 0.0, 0.0, 0.0, 0.0, 0.18139893, 0.0, 0.0, 0.0, 0.37394843, 0.0, 0.0, 0.0, 0.0, 0.0, 0.0, 0.0, 0.0, 0.0, 0.0, 0.0, 0.46111822, 0.0, 0.0, 0.0, 0.0, 0.0, 0.0, 0.0, 0.17040375, 0.0, 0.0, 0.0, 0.0, 0.0, 0.0, 0.0, 0.0, 0.0, 0.0, 0.0, 0.0, 0.0, 0.0, 0.0, 0.0, 0.0, 0.0, 0.0, 0.0, 0.0, 0.0, 0.0, 0.0, 0.0, 0.0, 0.0, 0.0, 0.0, 0.0, 0.0, 0.0, 0.0, 0.0, 0.30511284, 0.0, 0.0, 0.0, 0.0, 0.0, 0.0, 0.0, 0.0, 0.0, 0.0, 2.605698, 0.0, 0.0, 0.0, 0.0, 0.0, 0.0, 0.0, 0.0, 0.54793847, 0.0, 0.75451136, 0.0, 0.0, 0.0, 0.0, 0.0, 0.0, 0.0, 0.0, 0.0, 0.0, 0.0, 0.0, 0.0, 0.0, 0.0, 0.0, 0.0, 0.0, 0.0, 0.0, 0.0, 0.0, 0.0, 0.0, 0.0, 0.0, 0.0, 0.0, 0.0, 0.0, 0.0, 0.0, 0.0, 0.7645476, 0.0, 0.0, 0.0, 0.0, 0.0, 0.86458176, 0.0, 0.0, 0.0, 0.0, 0.0, 0.25958285, 0.0, 0.0, 0.0, 0.0, 0.0, 0.0, 0.0, 0.0, 0.0, 0.0, 0.0, 0.0, 0.0, 0.0, 0.0, 0.0, 0.0, 0.0, 0.10079466, 0.0, 0.56290185, 0.0, 0.0, 0.0, 0.0, 0.0, 0.0, 0.0, 0.6096068, 0.0, 0.0, 0.0, 0.0, 0.0, 0.0, 0.0, 0.0, 0.0, 0.0, 0.0, 0.0, 0.04013136, 0.0, 0.0, 0.0, 0.0, 0.0, 0.0, 0.0, 0.0, 0.0, 0.0, 0.0, 0.0, 0.0, 0.0, 0.0, 1.7947584, 0.0, 0.0, 0.0, 0.0, 0.0, 0.0, 0.0, 1.3878721, 0.0, 0.6364878, 0.0, 1.9745815, 0.0, 0.0, 0.0, 0.0, 0.0, 0.98933214, 0.0, 0.0, 0.0, 0.0, 0.0, 0.0, 0.0, 0.0, 0.0, 0.0, 0.0, 0.0, 0.0, 0.0, 0.0, 0.0, 0.0, 0.19969603, 0.0, 0.0, 0.0, 0.0, 0.0, 0.0, 0.0, 0.0, 0.0, 0.48916513, 0.0, 0.0, 0.0, 0.0, 0.0, 0.0, 0.0, 0.0, 0.0, 0.0, 0.0, 0.0, 0.0, 0.0, 0.0, 0.0, 0.0, 0.0, 0.0, 0.0, 0.10513883, 0.0, 0.0, 0.0, 0.0, 0.0, 0.0, 1.6361388, 0.0, 0.0, 0.0, 0.0, 0.0, 0.0, 0.0, 0.0, 0.0, 0.0, 0.0, 0.0, 0.0, 1.1692857, 0.0, 0.0, 0.0, 0.0, 0.0, 0.0, 0.0, 0.0, 0.0, 0.0, 0.0, 0.0, 0.0, 0.0, 0.0, 0.0, 0.0, 0.0, 0.0, 0.0, 0.0, 0.0, 0.0, 0.0, 0.0, 0.0, 0.078903586, 0.0, 0.0, 0.0, 0.0, 0.0, 0.0, 0.0, 0.0, 0.0, 0.0, 0.0, 0.0, 0.0, 0.0, 0.0, 0.0, 0.43618822, 1.3571502, 0.0, 0.0, 0.0, 0.0, 0.0, 0.0, 0.0, 0.0, 0.0, 0.0, 0.0, 0.029168412, 0.0, 1.3053151, 0.0, 0.4438576, 0.0, 0.0, 0.0, 0.0, 0.0, 0.0, 0.0, 0.0, 0.80067134, 0.0, 0.0, 0.0, 0.0, 0.0, 0.0, 0.0, 0.0, 0.0, 0.0, 0.0, 0.0, 0.0, 0.0, 0.0, 0.0, 0.0, 0.0, 0.0, 0.15529543, 0.0, 0.0, 0.008779809, 1.5629398, 0.0077477545, 0.0, 0.0, 0.0, 0.0, 0.0044831596, 0.0, 0.0, 0.0, 0.0, 0.0, 0.0, 0.0, 0.0, 0.0, 0.0, 0.0, 0.0, 0.0, 0.0, 0.0, 0.0, 0.0, 0.0, 0.0, 0.0, 0.0, 0.0, 0.0, 0.0, 0.0, 0.0, 0.0, 0.76690686, 0.0, 0.0, 0.0, 0.0, 0.0, 0.0, 0.0, 0.084069, 0.0, 0.0, 0.38327432, 0.0, 0.0, 0.0, 0.0, 0.0, 0.0, 0.0, 0.0, 0.0, 0.0, 0.0, 0.3631478, 0.0, 0.0, 0.0, 0.0, 0.6107809, 0.0, 0.0, 0.0, 0.0, 2.1246777, 0.0, 0.0, 0.0, 0.0, 0.0, 0.0, 0.0, 0.0, 0.0, 0.0, 0.0, 0.0, 0.0, 0.0, 0.0, 0.0, 0.0, 0.0, 0.0, 0.0, 0.0, 0.0, 0.0, 0.0, 0.0, 0.0, 0.0, 0.0, 0.32597628, 0.0, 0.0, 0.0, 0.0, 0.0, 0.0, 2.1948776, 1.3264478, 0.34748036, 0.87411034, 0.0, 0.0, 0.0, 0.0, 0.0, 0.0, 0.0, 0.0, 0.0, 0.0, 0.0, 0.49196547, 0.0, 0.0, 0.0, 0.0, 0.51799715, 0.0, 0.0, 1.6818556, 0.0, 0.0, 0.0, 0.0, 0.0, 0.0, 0.0, 0.0, 0.0, 0.0, 0.0, 0.0, 0.0, 0.0, 0.0, 0.0, 0.0, 0.0, 0.0, 0.0, 0.0, 0.0, 0.0, 0.0, 0.0, 0.78782094, 0.0, 0.48760152, 0.0, 0.0, 0.0, 0.0, 0.0, 0.0, 0.0, 0.0, 0.0, 0.0, 0.0, 0.0, 0.0, 0.0, 0.0, 0.0, 0.0, 0.0, 0.0, 0.0, 0.0, 0.0, 0.0, 0.0, 0.0, 0.8220179, 0.0, 0.0, 0.0, 0.0, 0.0, 0.0, 0.0, 0.0, 0.0, 0.0, 0.0, 0.0, 0.0, 0.0, 0.0, 0.0, 2.362653, 0.0, 0.0, 0.0, 0.0, 2.1647782, 0.0, 0.0, 0.0, 0.0, 0.0, 1.0744748, 0.0, 0.0, 0.0, 0.13671525, 0.0, 0.0, 0.0, 0.0, 0.0, 0.09067985, 0.0, 0.0, 0.62789655, 0.0, 0.0, 0.7021503, 0.0, 0.0, 0.0, 0.0, 0.0, 0.0, 0.0, 0.07413227, 0.0, 0.0, 0.0, 0.0, 0.0, 0.0, 0.0, 0.0071163974, 0.0, 0.0, 0.0, 0.0, 0.0, 0.0, 0.4641684, 0.0, 0.0, 0.0, 0.0, 0.0, 0.0, 0.0, 0.0, 0.0, 0.0, 0.0, 0.0, 0.0, 0.0, 0.0, 0.0, 0.0, 0.0, 0.0, 0.0, 0.0, 0.0, 0.0, 0.56996185, 0.0, 0.0, 0.0, 0.0, 0.0, 0.0, 0.0, 0.0, 0.0, 0.0, 0.0, 0.0, 0.0, 0.0, 0.0, 0.0, 0.0, 0.0, 0.0, 0.0, 0.0, 0.0, 0.0, 0.0, 0.0, 0.78232604, 0.0, 0.0, 1.9304603, 0.0, 0.0, 0.0, 1.6154764, 0.0, 0.0, 0.0, 0.0, 0.0, 0.0, 0.0, 0.0, 0.0, 0.0, 0.0, 1.7896827, 0.0, 0.0, 0.0, 0.0, 0.0, 0.0, 0.0, 0.0, 0.0, 0.0, 0.0, 0.0, 0.0, 0.0, 0.0, 0.0, 0.0, 0.0, 0.0, 0.0, 0.0173354, 0.0, 0.0, 0.40039217, 0.0, 0.0, 0.0, 0.0, 0.0, 0.0, 0.0, 0.0, 0.0, 0.0, 0.0, 0.0, 0.0, 0.0, 0.0, 0.0, 0.0, 1.0758786, 0.7276891, 0.0, 0.76508003, 0.0, 0.0, 0.0, 0.0, 0.0, 0.0, 0.0, 0.0, 0.0, 0.0, 0.0, 0.0, 0.0, 0.0, 0.0, 0.0, 0.0, 0.0, 0.0, 0.0, 0.0, 0.0, 0.0, 0.0, 0.0, 1.3657749, 0.0, 0.0, 0.0, 0.0, 0.0, 0.0, 0.0, 0.0, 0.0, 0.0, 0.0, 0.0, 0.0, 0.0, 0.0, 0.0, 0.0, 0.0, 0.0, 0.0, 0.0, 0.0, 0.0, 0.0, 0.0, 0.0, 0.0, 0.5625377, 0.0, 0.0, 0.0, 0.0, 0.0, 0.0, 0.0, 0.0, 1.3134882, 0.0, 0.0, 0.0, 0.0, 0.0, 0.0, 0.0, 0.26071727, 0.0, 0.0, 0.0, 0.0, 0.0, 0.0, 0.0, 0.0, 0.0, 0.0, 0.0, 0.0, 0.0, 0.0, 0.0, 0.0, 0.0, 0.0, 0.0, 0.0, 0.0, 0.0, 0.4119866, 0.0, 0.0, 0.0, 0.0, 0.0, 0.0, 0.0, 0.0, 0.0, 0.42967153, 0.0, 0.0, 0.0, 0.0, 0.0, 0.0, 0.0, 0.0, 0.92000943, 0.0, 0.0, 0.0, 0.5544405, 0.0, 0.0, 0.0, 0.0, 0.0, 0.0, 0.0, 1.2457535, 0.0, 0.0, 1.9052982, 0.0, 0.0, 0.0, 0.0, 0.0, 0.0, 0.0, 3.047065, 0.0, 0.0, 0.0, 0.0, 0.0, 0.0, 0.0, 0.0, 1.3974307, 0.0, 0.0, 0.0, 0.0, 0.0, 0.0, 0.0, 0.0, 0.0, 0.0, 0.0, 0.0, 0.0, 0.0, 1.330858, 1.1270883, 0.0, 0.0, 0.0, 0.0, 0.0, 0.0, 0.0, 0.0, 0.0, 0.0, 0.0, 0.0, 0.0, 0.0, 0.0, 0.0, 0.0, 0.0, 1.8334547, 2.4609199, 0.0, 0.0, 0.0, 0.0, 0.0, 0.0, 0.0, 0.0, 0.0, 1.3404006, 0.0, 0.0, 0.0, 0.0, 0.0, 0.0, 0.0, 0.0, 0.0, 0.0, 0.0, 0.0, 0.0, 0.23658782, 0.0, 0.0, 0.0, 0.0, 0.0, 0.0, 0.0, 0.0, 0.0, 0.0, 0.0, 0.0, 0.0, 0.0, 0.0, 0.0, 0.0, 0.0, 0.0, 0.0, 0.0, 0.038040057, 0.0, 0.0, 0.0, 0.0, 0.0, 0.0, 0.0, 0.0, 0.0, 0.0, 0.0, 0.0, 0.0, 0.0, 0.054402158, 0.0, 0.0, 0.0, 0.0, 0.0, 0.0, 0.0, 0.0, 0.36298913, 0.0, 0.0, 0.0, 0.0, 0.0, 0.0, 0.0, 0.0, 0.0, 0.0, 0.0, 0.40915236, 0.0, 0.0, 0.0, 0.0, 0.0, 0.0, 0.0, 0.0, 0.0, 0.0, 0.0, 0.0, 0.0, 0.0, 0.39208218, 1.6206214, 0.0, 0.0, 0.0, 0.0, 0.0, 0.0, 2.906551, 0.0, 0.0, 0.0, 0.0, 0.0, 0.0, 0.0, 0.0, 0.0, 0.0, 0.0, 0.0, 0.0, 0.0, 0.0, 0.0, 0.0, 0.0, 0.0, 0.0, 0.0, 0.0, 0.0, 0.0, 0.0, 0.0, 0.0, 0.0, 0.0, 0.0, 0.0, 0.0, 0.19776955, 0.0, 0.0, 0.0, 0.0, 0.0, 0.0, 0.0, 0.0, 0.0, 0.0, 0.0, 0.63939905, 0.0, 0.0, 0.0, 0.0, 0.0, 0.0, 0.0, 0.0, 0.0, 0.0, 0.0, 0.0, 0.49894682, 0.0, 0.6678726, 0.0, 0.0, 0.059873052, 0.0, 0.0, 0.0, 0.03791347, 0.0, 0.0, 0.0, 0.0, 0.0, 0.0, 0.0, 2.2293754, 0.0, 0.0, 1.2029786, 0.12424953, 0.37952274, 0.0, 0.6028023, 0.0, 0.0, 0.0, 0.0, 0.0, 0.0, 0.0, 0.0, 1.2355201, 0.0, 0.0, 0.0, 0.0, 0.0, 0.0, 0.0, 0.0, 1.4379405, 0.0, 0.0, 0.0, 0.0, 0.0, 0.0, 0.0, 0.0, 0.0, 0.0, 0.0, 0.0, 0.0, 0.0, 0.0, 0.0, 0.5250235, 0.0, 0.0, 0.0, 0.0, 0.0, 0.0, 0.0, 0.0, 0.0, 0.0, 0.0, 0.0, 0.0, 0.50375426, 0.0, 0.21457793, 0.0, 0.0, 0.0, 0.0, 0.0, 0.4541423, 0.11860092, 0.0, 0.0, 0.0, 0.0, 0.0, 0.0, 0.0, 0.0, 0.0, 0.0, 0.0, 0.0, 0.0, 0.0, 0.0, 0.0, 0.0, 0.0, 0.0, 0.0, 1.116591, 0.0, 0.0, 0.0, 0.0, 0.0, 1.4344001, 0.0, 0.0, 0.0, 0.0, 0.0, 0.0, 0.0, 0.7427421, 0.0, 0.0, 0.0, 0.0, 0.0, 0.0, 0.0, 0.0, 0.0, 0.0, 0.0, 0.0, 0.0, 0.0, 0.0, 0.0, 0.0, 0.0, 0.0, 0.0, 0.0, 0.0, 0.0, 0.0, 0.0, 0.0, 0.0, 0.0, 0.0, 0.0, 0.0, 0.0, 0.0, 0.0, 0.0, 0.0, 0.0, 0.0, 0.0, 0.50692976, 0.0, 0.0, 0.0, 0.0, 0.0, 0.0, 0.0, 0.0, 0.0, 0.0, 0.0, 0.0, 0.0, 0.0, 0.0, 1.3869377, 0.0, 0.0, 0.0, 1.9496255, 0.0, 0.0, 0.0, 0.0, 0.0, 0.0, 0.5468356, 0.0, 0.0, 0.0, 0.0, 0.0, 0.0, 0.0, 0.0, 0.0, 0.0, 0.0, 0.0, 0.33859497, 0.0, 0.0, 0.0, 0.0, 0.0, 0.0, 0.0, 0.0, 0.0, 0.0, 0.0, 0.51222473, 0.0, 0.0, 0.0, 0.0, 0.0, 0.0, 0.0, 0.0, 0.0, 0.0, 0.0, 0.0, 0.0, 0.0, 0.0, 0.49544907, 0.0, 0.0, 0.06676108, 0.0, 0.0, 0.0, 0.0, 0.0, 0.0, 0.0, 0.0, 0.0, 0.75853044, 0.0, 0.0, 0.0, 0.0, 0.0, 0.0, 0.0, 0.0, 0.0, 0.0, 0.0, 0.08932447, 0.0, 0.0, 0.0, 0.0, 0.0, 0.0, 0.0, 0.3149512, 0.0, 0.0, 1.9180337, 0.0, 0.0, 0.0, 0.0, 0.0, 0.0, 0.4275993, 0.0, 0.0, 0.0, 0.0, 0.0, 0.9636006, 0.0, 0.0, 0.0, 0.0, 0.0, 0.052452922, 0.0, 0.0, 0.0, 0.0, 0.0, 0.75486463, 0.0, 0.0, 0.0, 0.0, 0.0, 0.0, 0.0, 0.0, 0.0, 0.0, 0.0, 0.0, 0.0, 0.0, 0.0, 0.0, 0.0, 0.0, 0.0, 0.0, 0.0, 0.0, 0.7208239, 0.0, 0.0, 0.0, 0.0, 0.0, 0.0, 0.0, 0.0, 0.0, 0.0, 0.0, 0.0, 0.0, 0.0, 0.0, 0.0, 0.0, 0.0, 0.0, 0.0, 0.0, 0.0, 0.0, 0.0, 0.0, 0.0, 0.0, 0.0, 0.3073753, 0.0, 0.0, 0.0, 0.0, 0.0, 0.0, 0.0, 0.0, 0.0, 0.0, 0.6622921, 0.0, 0.0, 0.0, 0.0, 0.0, 0.0, 0.0, 0.0, 0.0, 0.0, 0.0, 0.0, 0.0, 0.0, 0.0, 0.0, 0.0, 0.0, 0.1407274, 0.0, 0.41770387, 0.0, 0.0, 0.0, 0.0, 0.0, 0.0, 0.0, 0.0, 0.0, 0.0, 0.21482524, 0.0, 0.0, 1.6112759, 0.0, 0.0, 0.0, 1.286401, 0.0, 0.0, 0.0, 0.0, 0.0, 0.0, 0.5769495, 0.0, 0.0, 0.0, 0.0, 0.0, 0.0, 0.0, 0.0, 0.0, 0.0, 0.0, 0.0, 0.0, 0.0, 0.0, 0.0, 0.0, 0.0, 0.0, 0.0, 0.0, 0.0, 0.0, 0.0, 0.0, 0.0, 0.0, 0.0, 0.0, 0.0, 0.0, 0.0, 0.0, 0.0, 0.0, 0.0, 0.0, 0.0, 1.0346369, 0.0, 0.0, 0.0, 0.0, 0.0, 0.0, 0.0, 0.0, 1.2655721, 0.0, 0.0, 0.0, 0.0, 0.0, 0.0, 0.0, 0.0, 0.37814003, 0.0, 0.0, 0.0, 0.0, 0.0, 0.0, 0.0, 0.0, 0.22202529, 0.0, 0.0, 0.0, 0.0, 0.0, 0.0, 0.0, 0.0, 0.0, 0.0, 1.167955, 0.0, 0.0, 0.0, 0.0, 0.0, 0.0, 0.0, 0.0, 0.0, 0.0, 0.0, 0.0, 0.0, 0.0, 0.0, 0.0, 0.0, 0.0, 0.0, 0.0, 0.0, 0.0, 0.9065285, 0.0, 0.0, 0.0, 0.0, 0.0, 0.0, 0.14881419, 0.0, 0.0, 0.0, 0.0, 0.44891664, 0.0, 0.0, 0.0, 0.0, 0.0, 0.0, 0.0, 0.0, 0.0, 0.0, 0.0, 0.0, 0.24247998, 0.0, 0.0, 0.0, 0.0, 0.0, 0.0, 0.07176244, 1.731294, 0.0, 0.0, 0.0, 0.0, 0.0, 0.0, 0.0, 0.0, 0.0, 0.0, 0.0, 0.0, 0.0, 0.0, 0.0, 0.0, 0.0, 0.0, 0.0, 0.0, 0.0, 0.0, 0.0, 0.0, 0.0, 0.0, 0.0, 0.0, 0.0, 0.0, 0.0, 0.0, 0.0, 0.0, 0.0, 0.0, 0.0, 0.0, 0.0, 0.0, 0.0, 0.0, 0.0, 0.0, 0.0, 0.0, 0.0, 0.0, 0.0, 0.0, 0.0, 0.0, 0.0, 1.1399212, 0.0, 0.0, 0.0, 1.2610297, 0.0, 0.0, 0.0, 0.0, 0.0, 0.0, 0.0, 1.3386514, 0.38624862, 0.0, 0.0, 0.0, 0.0, 0.0, 0.0, 0.0, 0.0, 0.0, 0.0, 0.0, 0.0, 0.0, 0.0, 0.0, 0.0, 0.0, 0.0, 0.0, 0.0, 0.0, 0.0, 0.0, 2.330465, 0.0, 0.0, 0.0, 0.0, 0.0, 0.0, 0.0, 0.0, 0.0, 0.0, 0.0, 0.0, 0.0, 0.42593962, 0.0, 0.0, 0.0, 0.0, 0.0, 0.0, 0.0, 0.0, 0.0, 0.0, 1.0412366, 0.0, 0.0, 0.0, 0.0, 0.8022976, 0.0, 0.0, 0.0, 0.0, 0.0, 0.0, 0.0, 0.0, 0.0, 0.0, 0.0, 0.0, 0.0, 0.0, 1.5918198, 0.0, 0.0, 0.0, 0.19678298, 0.0, 0.0, 0.0, 0.0, 0.0, 0.0, 0.0, 0.0, 0.0, 0.0, 0.0, 0.0, 0.0, 0.0, 0.0, 0.0, 0.0, 1.0498893, 1.7779102, 0.0, 0.0, 0.0, 0.0, 0.0, 0.0, 0.068918206, 0.0, 0.0, 0.0, 0.0, 0.0, 0.0, 0.0, 0.0, 0.0, 0.0, 0.0, 0.37391648, 0.0, 0.0, 0.25985473, 0.0, 0.0, 0.0, 0.0, 0.0, 0.0, 0.0, 0.0, 0.0, 3.270146, 0.0, 0.0, 0.0, 0.0, 0.0, 0.0, 0.0, 0.6035963, 0.0, 0.0, 0.0, 0.0, 1.5110927, 0.0, 0.0, 0.0, 0.0, 0.0, 0.0, 0.0, 0.99540836, 0.0, 0.0, 0.0, 0.0, 1.0229794, 0.0, 0.0, 0.0, 0.0, 0.0, 0.0, 0.0, 0.0, 0.0, 0.0, 0.0, 0.0, 0.0, 0.0, 0.0, 0.0, 0.0, 0.0, 0.0, 0.0, 0.0, 1.9190938, 0.0, 0.0, 0.0, 0.0, 0.0, 0.0, 0.0, 0.0, 0.0, 0.0, 0.0, 0.0, 0.0, 0.0, 0.0, 0.0, 0.0, 0.0, 0.0, 0.0, 0.0, 0.0, 0.0, 0.0, 0.0, 0.0, 0.0, 0.0, 0.17391291, 0.0, 0.4861817, 0.0, 0.0, 0.0, 0.0, 0.0, 0.0, 0.0, 0.2708338, 0.49334228, 0.0, 0.0, 0.0, 0.0, 0.0, 0.0, 0.0, 0.0, 0.0, 0.0, 0.0, 1.4929689, 0.0, 0.0, 0.85647327, 0.0, 0.0, 0.0, 0.42014766, 0.0, 0.0, 0.0, 0.0, 0.0, 0.0, 0.0, 0.0, 0.0, 0.0, 0.0, 1.3694934, 2.210066, 0.0, 0.0, 0.0, 0.0, 0.0, 0.16248308, 0.0, 0.0, 1.2941543, 0.0, 0.0, 0.0, 0.0, 0.0, 1.3600732, 0.0, 0.0, 0.0, 0.31849658, 0.0, 0.0, 0.0, 0.0, 0.0, 0.0, 0.0, 0.41761953, 0.0, 0.028316557, 0.0, 0.0, 0.0, 0.0, 0.0, 0.0, 0.0, 0.0, 0.0, 0.0, 0.0, 0.0, 0.0, 0.03431712, 0.0, 0.4451644, 1.9441361, 1.5186265, 0.0, 0.0, 0.0, 3.2135806, 0.0, 0.0, 0.0, 0.0, 0.0, 0.0, 0.0, 0.0, 0.0, 0.0, 0.0, 0.0, 0.3834561, 0.0, 0.0, 0.0, 0.0007917881, 0.0, 0.056084365, 0.0, 0.0, 0.0, 0.0, 1.4058721, 0.0, 0.0, 0.0, 0.0, 0.0, 0.0, 0.0, 0.0, 0.0, 0.11134547, 0.24342972, 0.0, 0.0, 0.0, 0.14537224, 0.0, 1.3081876, 0.0, 0.0, 0.0, 0.0, 0.0, 0.0, 0.0, 0.8570221, 0.0, 0.0, 0.0, 0.0, 0.0, 0.0, 0.0, 0.0, 0.0, 0.0, 0.0, 0.0, 0.0, 0.0, 0.0, 0.0, 0.0, 1.3572421, 0.0, 0.0, 0.0, 0.0, 0.0, 0.0, 0.0, 0.0, 0.0, 0.0, 0.0, 0.0, 0.0, 0.0, 0.0, 0.0, 0.0, 0.0, 0.0, 0.0, 0.0, 0.0, 0.0, 0.0, 0.0, 0.0, 0.0, 0.0, 0.0, 0.0, 0.0, 0.8329767, 0.0, 0.0, 0.0, 0.0, 0.0, 0.0, 0.0, 0.0, 0.0, 0.0, 0.0, 0.0, 0.02362217, 0.0, 0.0, 0.0, 0.0, 0.0, 0.0, 0.0, 0.0, 0.0, 0.0, 0.0, 0.0, 0.0, 0.0, 0.0, 0.0, 0.0, 0.0, 0.0, 0.0, 0.0, 0.0, 0.0, 0.0, 0.0, 0.0, 0.0, 0.0, 0.0, 0.0, 0.0, 0.0, 0.0, 0.5206292, 2.0702946, 0.8783701, 0.0, 0.0, 0.0, 0.0, 0.0, 0.0, 0.0, 0.0, 0.0, 0.0, 0.0, 0.0, 0.0, 0.0, 0.0, 0.0, 0.0, 0.0, 0.0, 0.0, 0.0, 0.0, 0.0, 0.0, 0.0, 0.0, 0.0, 0.7269113, 0.0, 0.0, 0.0, 0.0, 0.0, 0.0, 1.2811927, 0.0, 0.0, 0.0, 0.0, 0.0, 0.0, 0.7692637, 0.0, 0.0, 0.0, 0.0, 0.0, 0.0, 0.053889543, 0.0, 0.0, 0.0, 0.0, 0.8717632, 0.0, 0.65017277, 0.0, 1.9109051, 0.0, 0.0, 1.6668892, 2.2785609, 0.0, 0.0, 0.0, 0.45098636, 0.0, 0.0, 0.0, 0.0, 0.0, 0.0, 0.0, 0.0, 0.0, 0.4150399, 0.0, 0.0, 0.0, 0.0, 0.0, 0.0, 0.0, 0.0, 0.0, 0.0, 2.0788033, 0.0, 0.0, 0.0, 0.0, 0.0, 0.0, 0.0, 0.0, 0.0, 0.0, 0.0, 0.51431847, 0.0, 0.0, 0.0, 0.0, 0.0, 0.0, 0.0, 0.0, 0.0, 0.0, 0.0, 0.0, 0.0, 0.0, 0.0, 0.0, 0.0, 0.0, 0.0840451, 0.0, 0.45224044, 0.0, 0.0, 0.0, 0.0, 0.0, 0.0, 0.0, 0.0, 0.0, 0.0, 0.0, 0.0, 0.0, 0.0, 0.0, 0.0, 0.17274705, 0.0, 0.0, 0.0, 0.0, 0.0, 0.14192602, 0.0, 0.0, 0.0, 0.0, 0.0, 0.0, 1.0934935, 0.0, 0.0, 0.0, 0.0, 0.0, 0.0, 0.0, 0.0, 0.0, 0.0, 0.0, 0.0, 0.0, 0.0, 0.0, 0.0, 0.0, 0.0, 0.0, 0.0, 0.0, 0.0, 0.0, 0.0, 0.0, 0.0, 0.0, 0.0, 0.0, 0.0, 2.1025758, 0.0, 0.6221645, 2.2097535, 0.0, 0.0, 0.0, 0.0, 0.0, 0.0, 0.0, 0.0, 0.61358595, 0.43455765, 0.0, 0.0, 0.0, 0.0, 0.0, 0.52664346, 0.0, 0.0, 0.0, 0.0, 0.0, 0.0, 0.0, 0.0, 0.0, 0.0, 0.0, 0.0, 0.0, 0.0, 0.0, 0.0, 0.0, 0.0, 0.0, 0.0, 0.11593368, 0.0, 0.0, 0.0, 0.0, 0.0, 0.0, 0.0, 0.0, 0.0, 0.0, 0.0, 0.7616345, 0.0025214255, 0.0, 0.0, 0.0, 0.0, 0.0, 0.0, 1.0518018, 0.0, 0.0, 0.0, 0.6136888, 0.0, 0.0, 0.0, 0.0, 0.0, 2.5221767, 0.0, 0.0, 0.0, 0.0, 0.0, 0.0, 0.0, 0.19758436, 0.0, 0.0, 0.0, 0.0, 0.0, 0.0, 0.0, 0.0, 0.0, 0.0, 0.0, 0.0, 0.0, 0.0, 0.0, 0.23405707, 0.0, 0.0, 0.0, 0.0, 0.0, 0.0, 0.0, 0.0, 0.0, 0.0, 0.0, 0.0, 0.0, 0.0, 3.0134137, 0.0, 0.0, 1.1858009, 2.3242464, 0.0, 0.0, 0.0, 0.0, 0.051688224, 0.0, 0.0, 0.0, 0.0, 0.0, 0.5484329, 0.0, 0.0, 0.15593974, 0.0, 0.0, 0.0, 0.0, 0.0, 0.0, 0.0, 0.0, 0.0, 0.0, 0.0, 0.0, 0.0, 0.0, 0.0, 0.0, 0.0, 0.0, 0.0, 0.2786162, 0.0, 0.0, 0.0, 0.0, 0.0, 0.0, 0.0, 0.0, 0.0, 0.0, 0.0, 1.7871598, 0.0, 0.0, 0.0, 0.0, 0.5552628, 0.2462154, 0.0, 0.0, 0.0, 0.0, 0.0, 0.0, 0.0, 0.7389636, 0.0, 0.0, 0.0, 0.0, 0.0, 0.0, 0.0, 0.0, 0.0, 0.0, 0.0, 0.0, 0.0, 0.0, 0.6946525, 0.0, 0.0, 0.0, 0.47213668, 0.0, 0.0, 0.0, 0.0, 0.0, 0.0, 0.0, 0.0, 0.0, 0.0, 0.0, 0.0, 0.0, 0.0, 0.0, 0.0, 0.0, 0.0, 0.0, 0.0, 0.0, 0.0, 0.0, 0.0, 0.0, 0.0, 0.0, 1.8107705, 0.0, 0.0, 0.0, 0.0, 0.0, 0.0, 0.0, 0.0, 0.0, 0.0, 1.3865509, 0.0, 0.0, 0.0, 0.0, 0.0, 0.0, 0.0, 0.0, 0.0, 0.0, 0.0, 0.0, 0.018476218, 0.0, 0.0, 0.0, 0.0, 0.0, 0.0, 0.0, 0.0, 0.0, 0.0, 0.0, 0.0, 0.91428477, 0.0, 1.8363872, 0.42669255, 0.05897121, 0.0, 0.0, 0.0, 0.0, 0.0, 0.0, 0.0, 0.0, 0.0, 0.0, 0.0, 0.0, 0.46179742, 0.0, 0.0, 0.0, 0.0, 0.0, 0.0, 0.0, 0.0, 0.0, 0.0, 0.0, 0.0, 0.0, 0.0, 0.0, 0.0, 0.0, 0.0, 0.98476356, 0.0, 0.0, 0.0, 0.3174088, 0.0, 0.0, 0.0, 0.0, 0.0, 0.0, 0.0, 0.0, 0.0, 0.0, 1.7143764, 0.0, 0.0, 0.0, 0.0, 0.0, 0.0, 0.0, 0.0, 0.0, 0.0, 0.0, 0.0, 0.0, 0.0, 0.0, 0.0, 0.0, 0.0, 0.0, 0.2804752, 0.0, 0.0, 0.0, 0.0, 0.0, 0.0, 0.0, 0.0, 0.0, 0.0, 0.0, 0.0, 0.0, 0.0, 0.0, 0.0, 0.0, 0.481223, 0.0, 0.0, 1.1669564, 0.038761824, 0.7072627, 0.0, 0.0, 0.0, 0.0, 0.0, 0.0, 0.0, 0.0, 0.0, 0.0, 1.2732087, 0.0, 0.0, 0.0, 0.0, 0.0, 0.0, 0.0, 0.0, 0.0, 0.0, 0.0, 0.0, 0.0, 0.0, 0.0, 0.6992408, 0.0, 0.0, 0.0, 0.49665356, 0.0, 0.0, 0.0, 0.0, 0.0, 0.9738766, 0.6297991, 0.0, 0.0, 0.0, 0.0, 0.0, 0.0, 0.0, 0.0, 0.0, 0.0, 0.0, 0.0, 1.0136786, 0.0, 0.0, 0.0, 0.27377385, 0.0, 0.0, 0.23353125, 0.0, 0.0, 0.0, 0.79539096, 0.0, 0.0, 0.0, 0.0, 0.0, 0.0, 0.0, 0.0, 0.0, 0.0, 0.0, 0.0, 0.0, 0.083625555, 0.0, 0.0, 0.0, 0.0, 0.0, 0.0, 0.0, 0.2090223, 0.0, 0.0, 0.0, 0.0, 0.0, 0.0, 0.0, 0.0, 0.0, 0.0, 1.6317012, 0.0, 0.0, 0.0, 0.0, 0.0, 0.0, 0.0, 0.0, 0.0, 0.0, 0.0, 0.0, 0.0, 0.0, 0.0, 0.0, 0.0, 0.0, 0.0, 0.0, 0.0, 0.0, 0.0, 0.0, 0.0, 0.0, 0.0, 0.0, 0.0, 0.0, 0.0, 0.0, 0.029152706, 0.0, 0.0, 0.0, 0.0, 0.0, 1.4405903, 0.0, 3.2294302, 0.0, 0.0, 0.0, 0.0, 0.0, 0.0, 0.0, 0.0, 0.0, 0.0, 0.0, 0.0, 0.0, 0.0, 0.045317166, 0.0, 0.0, 0.0, 0.0, 0.0, 0.0, 1.3370148, 0.6035449, 0.0, 0.0, 0.0, 0.0, 0.0, 0.0, 0.0, 0.0, 0.0, 0.0, 0.0, 0.0, 0.0, 0.0, 0.0, 0.0, 0.0, 2.3717315, 1.4798279, 0.0, 0.0, 0.0, 0.0, 0.0, 0.0, 0.0, 0.0, 0.0, 0.0, 0.0, 0.022717461, 0.0, 0.0, 0.0, 0.0, 0.0, 0.0, 0.0, 0.0, 0.0, 0.0, 0.0, 0.18924601, 0.0, 0.0, 0.0, 0.0, 0.0, 0.0, 0.0, 0.0, 0.0, 0.0, 0.0, 0.0, 0.0, 0.0, 0.0, 0.0, 0.0, 0.0, 0.0, 0.0, 0.0, 0.9872272, 0.0, 0.0, 0.0, 0.0, 0.0, 0.0, 0.0, 0.0, 0.06659708, 0.0, 0.0, 0.0, 0.0, 0.0, 0.0, 0.0, 0.0, 0.0, 0.0, 0.55177945, 0.0, 0.0, 0.3010135, 0.0, 0.0, 0.0, 0.0, 0.0, 0.086988114, 1.2193702, 0.36248165, 0.0, 0.0, 0.0, 0.0, 0.0, 0.0, 0.0, 0.0, 0.0, 0.0, 0.0, 0.07855229, 0.0, 0.0, 0.47430134, 0.0, 0.0, 0.0, 0.0, 0.0, 0.0, 0.0, 0.0, 0.0, 0.0, 0.0, 0.0, 0.0, 0.0, 1.5965136, 0.0, 0.0, 0.0, 0.0, 0.0, 0.0, 0.0, 0.0, 0.0, 0.0, 0.0, 0.0, 0.0, 0.0, 0.0, 0.0, 0.0, 0.0, 0.0, 0.0, 0.0, 0.0, 0.0, 0.0, 0.0, 0.0, 0.0, 0.0, 0.0, 0.0, 0.0, 0.0, 0.0, 0.0, 0.0, 1.1501245, 0.5689973, 0.0, 0.0, 0.0, 0.0, 0.0, 0.0, 0.05383177, 0.0, 0.0, 0.0, 0.0, 0.0, 0.0, 0.36787006, 0.0, 0.0, 0.0, 0.0, 0.0, 0.0, 0.0, 0.0, 0.0, 0.0, 0.46473333, 0.0, 0.0, 0.0, 0.0, 0.0, 0.0, 0.36007145, 1.9224154, 0.0, 0.0, 1.5053428, 0.0, 0.0, 0.9267993, 0.0, 0.0, 0.0, 0.0, 0.0, 0.0, 0.0, 0.31127074, 0.0, 0.0, 0.0, 0.0, 0.0, 0.0, 0.0, 0.077459395, 0.0, 0.0, 0.0, 0.27881432, 0.0, 0.0, 0.0, 0.0, 0.0, 0.0, 0.0, 0.0, 0.0, 0.0, 0.0, 0.0, 0.0, 0.0, 0.0, 0.0, 0.0, 0.0, 0.992183, 0.0, 0.0, 0.0, 0.0, 0.0, 1.2342254, 0.0, 0.0, 0.0, 0.0, 0.0, 0.0, 0.0, 0.0, 0.4982798, 0.0, 0.0, 0.0, 0.0, 0.0, 0.0, 0.0, 0.0, 0.3709638, 0.0, 0.0, 0.0, 0.0, 0.0, 0.0, 0.0, 0.0, 0.0, 0.0, 0.0, 0.0, 0.0, 0.0, 0.0, 0.0, 0.0, 0.0, 0.0, 0.001507096, 0.18823707, 0.0, 0.0, 0.0, 0.0, 0.5062725, 0.0, 0.0, 0.2690813, 0.0, 0.0, 0.0, 0.0, 0.0, 0.0, 0.0, 0.0, 0.0, 0.0, 1.5457622, 0.0, 0.0, 0.0, 0.0, 0.0, 0.0, 0.08908748, 0.0, 0.30782375, 0.0, 0.42223758, 0.0, 0.0, 0.0, 0.52028644, 0.0, 0.0, 0.0, 0.0, 0.0, 0.0, 0.0, 0.0, 0.0, 0.0, 0.0, 0.0, 0.0, 0.0, 0.0, 0.0, 0.0, 0.0, 0.0, 0.0, 0.0, 0.0, 0.0, 0.0, 0.0, 0.0, 0.0, 0.0, 0.0, 0.0, 0.0, 0.0, 0.0, 0.0, 0.0, 0.0, 0.0, 0.42278746, 0.0, 0.0, 0.0, 0.0, 0.0, 0.0, 0.0, 0.0, 0.0, 0.0, 0.0, 0.0, 0.0, 0.0, 0.0, 0.48662663, 0.0, 0.0, 0.0, 0.0, 0.0, 0.0, 0.76853347, 0.0, 0.0, 0.0, 0.0, 0.0, 0.0, 0.0, 0.0, 0.0, 0.0, 0.0, 0.0, 1.189809, 0.0, 0.0, 0.0, 0.0, 0.0, 0.0, 0.0, 0.0, 0.0, 0.021882169, 0.0, 0.0, 0.0, 0.0, 0.0, 0.0, 0.17055357, 0.0, 0.0, 0.0, 0.0, 0.0, 0.0, 0.0, 1.2877176, 0.0, 0.0, 0.0, 0.0, 0.0, 0.0, 0.0, 0.0, 0.0, 0.0, 0.0, 0.0, 0.0, 0.0, 0.0, 0.0, 0.0, 0.0, 0.0, 0.0, 0.0, 0.0, 0.0, 0.0, 0.084413335, 1.0281831, 0.0, 0.0, 0.0, 0.0, 0.013416581, 0.0, 0.0, 0.0, 0.0, 0.0, 0.0, 0.0, 0.0, 0.0, 0.0, 0.0, 0.0, 0.7260359, 0.0, 0.0, 0.0, 0.0, 0.14100778, 0.0, 0.0, 0.0, 0.0, 0.0, 0.0, 0.0, 0.0, 0.0, 0.0, 0.23196103, 0.0, 2.5003676, 1.9309723, 0.0, 0.0, 0.0, 0.0, 0.0, 0.0, 0.0, 0.0, 0.0, 0.0, 0.0, 0.0, 0.48160827, 0.0, 0.0, 0.5383976, 0.47426477, 0.0, 0.0, 1.5102127, 0.0, 0.0, 0.0, 0.0, 0.0, 0.0, 0.0, 0.0, 0.0, 0.0, 0.0, 0.0, 0.0, 0.09219687, 0.0, 0.0, 0.0, 0.0, 0.0, 0.0, 0.0, 0.0, 0.0, 0.0, 1.1734113, 0.0, 0.0, 0.0, 0.0, 0.0, 0.0, 0.0, 0.0, 0.0, 0.0, 0.0, 0.0, 0.0, 0.0, 0.99819756, 0.0, 0.0, 0.0, 0.0, 0.0, 0.0, 0.0, 0.0, 0.0, 0.0, 0.0, 0.0, 0.0, 0.0, 0.8927567, 0.0, 0.0, 0.0, 0.0, 0.0, 0.0, 0.0, 1.625666, 0.0, 0.0, 0.0, 0.0, 2.2709675, 0.0, 0.0, 0.0, 0.0, 0.0, 0.41051957, 0.0, 0.0, 0.0, 0.0, 0.0, 0.0, 0.0, 0.0, 0.0, 0.0, 0.0, 1.338951, 0.0, 0.0, 0.0, 0.5992727, 0.0, 0.0, 0.0, 0.0, 0.0, 0.0, 0.0, 0.0, 0.0, 0.0, 0.0, 0.0, 0.0, 0.7012167, 0.0, 0.0, 0.0, 0.0, 0.0, 0.0, 0.0, 0.0, 0.0, 0.0, 0.0, 0.0, 0.0, 0.0, 0.0, 0.0, 0.0, 0.0, 0.0, 0.0, 0.0, 0.0, 0.0, 0.0, 0.26969004, 0.0, 0.0, 0.0, 0.0, 0.0, 0.0, 1.3199427, 0.0, 0.0, 0.0, 0.0, 0.0, 1.154555, 0.0, 0.0, 1.2698897, 0.0, 0.0, 0.0, 0.0, 0.9140518, 0.047611475, 0.0, 0.0, 0.0, 0.0, 0.0, 0.0, 0.0, 0.0, 0.0, 0.0, 0.22096533, 0.0, 0.0, 0.0, 0.0, 0.0, 0.0, 0.20570329, 0.0, 0.0, 0.0, 0.0, 0.0, 0.0, 0.0, 1.3058013, 0.0, 0.0, 0.0, 0.0, 0.0, 0.17685615, 0.0, 0.0, 0.0, 0.0, 0.0, 0.0, 0.0, 0.0, 0.0, 0.54659396, 0.0, 0.0, 0.0, 0.0, 0.0, 0.0, 0.0, 0.0, 0.0, 0.3936911, 0.0, 0.0, 0.0, 1.4759947, 0.0, 0.0, 0.0, 0.0, 0.0, 0.0, 0.0, 0.0, 0.0, 0.0, 0.0, 0.0, 0.0, 0.0, 0.0, 0.0, 0.0, 0.0, 0.0, 0.0, 0.579433, 0.0, 0.0, 0.0, 0.0, 0.0, 0.0, 0.0, 0.0, 1.3465444, 0.0, 2.6886866, 0.15171134, 0.0, 0.0, 0.0, 0.0, 0.0, 1.8256421, 0.0, 0.0, 0.0, 0.0, 0.0, 0.0, 0.0, 0.0, 0.0, 0.0, 0.0, 0.0, 0.0, 0.0, 0.0, 0.0, 0.0, 0.0, 0.0, 0.0, 0.0, 0.0, 0.0, 0.0, 0.0, 0.0, 0.0, 0.0, 0.0, 0.0, 0.8160177, 0.0, 0.0, 0.0, 0.0, 0.0, 0.0, 0.0, 0.0, 0.0, 0.0, 1.1943347, 0.0, 0.0, 0.5107517, 0.0, 0.0, 0.0, 0.0, 0.0, 0.0, 0.0, 0.0, 0.15587914, 0.0, 0.0, 0.0, 0.0, 0.0, 0.5703668, 0.0, 0.0, 0.0, 0.0, 0.0, 0.0, 0.0, 0.0, 0.0, 0.0, 0.0, 0.0, 0.0, 0.0, 0.0, 0.0, 0.0, 0.0, 0.0, 0.0, 0.0, 0.0, 0.0, 0.0, 0.0, 0.0, 0.0, 0.0, 0.0, 0.0, 0.0, 0.0, 0.0, 0.0, 0.0, 0.0, 0.0, 0.0, 0.0, 0.0, 0.0, 0.0, 0.7029119, 0.0, 0.0, 0.0, 0.0, 0.0, 0.0, 0.0, 0.37508702, 0.0, 0.0, 1.0656383, 0.0, 0.0, 0.0, 0.0, 1.380489, 0.0, 0.0, 0.0, 0.0, 0.0, 0.0, 0.0, 0.0, 0.0, 0.0, 0.0, 0.0, 0.0, 0.0, 0.0, 0.0, 0.0, 0.0, 0.0, 0.0, 3.1373703, 0.0, 0.06806573, 0.0, 0.0, 0.0, 0.0, 0.0, 0.56257045, 0.0, 0.0, 0.0, 0.0, 1.3483937, 1.6910306, 0.0, 0.0, 0.0, 0.0, 0.4675656, 0.0, 0.0, 0.0, 0.0, 0.0, 0.0, 0.0, 0.0, 0.0, 0.0, 0.0, 0.0, 0.0, 0.0, 0.7836367, 0.0, 0.0, 0.0, 0.24565917, 0.0, 0.0, 0.0, 0.0, 0.0, 0.0, 0.0, 1.2612587, 0.0, 0.0, 0.0, 0.0, 0.0, 0.0, 2.8780289, 0.0, 0.7145676, 0.0, 0.0, 0.0, 0.0, 0.0, 0.0, 0.43170354, 0.0, 0.0, 2.081236, 0.0, 0.0, 0.0, 0.0, 0.0, 0.0, 0.0, 0.0, 0.0, 0.0, 0.0, 0.0, 0.0, 0.07504838, 0.0, 1.1794478, 0.0, 0.0, 0.0, 0.0, 0.0, 0.0, 0.0, 0.0, 0.0, 0.0, 0.0, 0.0, 0.0, 0.0, 1.0590731, 0.0, 0.25364974, 0.0, 0.14697269, 0.0, 0.0, 0.0, 0.0, 0.0, 0.0, 1.0526779, 0.0, 0.0, 0.0, 0.0, 0.0, 0.0, 0.0, 0.0, 0.0, 0.0, 0.0, 0.0, 0.0, 0.0, 0.0, 0.0, 2.8711674, 0.0, 0.0, 0.0, 0.0, 0.0, 0.0, 0.0, 0.0, 0.0, 0.0, 0.0, 0.0, 0.0, 2.0858207, 0.0, 0.57560015, 0.8978214, 0.0, 0.0, 0.0, 0.0, 0.0, 0.0, 0.0, 0.0, 0.0, 0.0, 0.0, 0.0, 0.0, 0.0, 0.0, 0.0, 0.0, 0.0, 0.0, 0.1586088, 0.9213094, 0.0, 0.0, 0.0, 0.0, 0.0, 0.0, 0.8657223, 0.0, 0.0, 0.0, 0.0, 0.0, 0.0, 0.0, 1.0637158, 0.0, 0.0, 1.3078663, 0.0, 0.0, 0.0, 0.0, 0.0, 2.9348972, 0.0, 0.0, 0.0, 0.0, 0.0, 0.0, 0.0, 1.7011343, 0.0, 0.0, 0.0, 0.25729555, 0.0, 0.0, 0.0007783249, 0.0, 0.0, 0.0, 0.0, 0.63774675, 0.0, 0.0, 0.0, 0.0, 0.0, 0.0, 0.0, 0.0, 0.0, 0.0, 0.0, 0.0, 0.0, 0.0, 0.0, 0.0, 0.0, 0.0, 0.0, 0.15811, 0.0, 0.0, 0.0, 0.104721814, 2.6761243, 0.0, 0.0, 0.0, 0.0, 0.0, 0.0, 0.0, 0.0, 0.0, 0.0, 0.0, 0.0, 0.0, 0.0, 0.0, 0.0, 0.0, 0.0, 0.0, 0.0, 0.0, 0.0, 0.0, 0.0, 0.0, 0.0, 0.0, 0.0, 0.0, 1.104163, 0.0, 0.0, 0.0, 0.0, 0.0, 0.0, 0.0, 0.0, 0.0, 0.0, 0.4516744, 0.0, 0.0, 0.0, 0.6388385, 0.0, 0.0, 0.0, 0.22671293, 0.0, 0.0, 0.0, 0.0, 0.0, 0.0, 0.49401665, 0.0, 0.0, 0.0, 0.0, 0.0, 0.0, 0.0, 0.0, 0.0, 0.0, 0.8003729, 0.0, 0.0, 0.0, 0.0, 0.0, 0.0, 0.0, 0.0, 0.0, 0.0, 0.0, 0.0]'"
      ]
     },
     "execution_count": 108,
     "metadata": {},
     "output_type": "execute_result"
    }
   ],
   "source": [
    "embed"
   ]
  },
  {
   "cell_type": "code",
   "execution_count": 109,
   "metadata": {},
   "outputs": [
    {
     "data": {
      "text/plain": [
       "'[0,0,0,0,0,0,0,0,0,0,0,0,0,0,0,0,0,0,0,0,0,0,0,0,0,0,0,0.26184884,0,0,0,0,0,0,0,0,0,0.97193104,0,0,0,0,0,0,0,0,0,0,0,0,0,0,0,0,2.1229653,0,0,0,0,0,0,0,0,0,0,0,0,0,0,0,0,0,0,0,0,0,0,0,0,0,0,0,0,0,0.59137726,0,0,0.1492258,0,0,0,0,0,2.8818562,0,0,0,0,0,0,0,0,2.043555,0,0,0,0,0,0,0,0,0.28774095,0,0,0,0,0,0,0,0,0,0,0,0,0.20764849,0,0,0,0,0,0,0,0,0.26542744,0,0,0,0,0,0.7904995,0,0,0,0,0,0,0,0,0,0,0,0.11006073,0,0,0,0,0,0,0,0,0,0,0,0,0,0,2.0296192,0,0,0,0,0,0,0,0,0,0,0.8745702,0,0,0,0,0,0,2.9206114,0,0,0,0,0,0.18601906,0,0,1.4687512,0,0,0,0,0,0,0,0,0,0,0,0,0,0,0.36854905,0,0,0,0,0,0,0.24727002,2.4140925,1.3050505,0,0,0,0,0,0,0,0,0,0,0,0,0,0,0.38103148,0,0,0,0,0.72254086,0,0,0,0,0,0,0,0,0,0,0,0,0,0,0,0,0,0,0,0,0,0,0,0,0,0,0,1.0919883,0,0,0,0,0,0,0,0,0,0,0,0,0,0,0,1.9658463,0,0,0,0,0.9579193,0,0,0.010222502,0,0,0,1.4561223,0,0,0,0.8773639,0,0,0,0,0,0,0,0,0,0,0,0,0,0,0,0,0,0,0,0,0,0,0.055804536,0,0,0,0,0,0,0,0,0,0,0,0,0,0,0.21498035,0,0,0,0,0,0,0,0,2.8320274,0,0,0,0,0,0,0,0.14002988,0,0,1.0478684,0.08475862,0,0,0,0,0,0,0,0,0,0,0,0,0,0,0,0,0,0,0,0,0,0,0,0,0,0,0.10456407,0,0,0,0,0,0,0,0,0,0,0,0,0,0,0.8752485,0,0,0,0,0,0,0,0,0,0,0,0,0.6053617,0,0.16586098,0,0,0,0,0,0,0.14626911,0,3.8409286,0,0,0,0,0,0,0,0.40165818,0,0,0,0,0,0,0,0,0,0,0,0,0,0,0,0,0,0,0,0,0,0,0,0,0,0,0,0,0,0,0,0,0,0,0,0,0,0,0,0,0,0,0,0,0,0,0,0,0.93971026,0,0,0,0.64732146,0,0,0,0,0,0,0,0,0,0,0,0,0,1.8279897,0,0,3.075873,0,0,0,0,0,0,0,0,0,0,0,0,0,0,0,0,0,0,0,0,0,1.1389863,0,0,0,0,0,0,0,0,0,0,0.32770368,0.85498667,0,0,0,0,0,0,0,0,0,0,0,0,0,0,0,0,0,0,0,0,0,0,0,0,0,0,0,0,0,0,0.2600571,0,0,0.29467416,0,0,0,0,0,0,0,0.011618543,0,0,0,0,0.40314007,0,0,0,0,0,0,0,1.5776337,0,0,0,0,0,1.1574559,0,0,0,0.15961327,0,0,0,0,0.2750486,0,0,0,0,0,0,0,1.0459796,0,0,0.7321918,0.8032721,0,0,0,0,0,0,0,0.54475236,0,0,0,0,0,0,0,0,0,0,0,0,0,0,0,0,0,0,0.9556641,0,2.030169,0,0,0,0,0,0,0,0,0,0,0,0,0,0,0,0.677389,0,2.9696007,0,0,0,0,0,0,0,0,0,0,0,0,0,0,0,0,0,0,0,0,1.2013596,0,0,0.93814296,0,0,0,0,0,0,0,0,0,0,0,0,0,0,0,0,0,0,0,0.455644,0,0,0,0,0,0,0,0,0,0.851023,0,0,0,0,0,1.4894121,0,0,0,0,0,0,0,0,0,0,0,0,0,0,0,2.137585,0.49238235,0,0,0,0,0,0,0,0,0,0,0,0,0,0,0,0,0,0,0,0,0,0,1.4436463,0,0,0,0.6638118,0,0,0,0,0,0,0,0,0,0,0,0,0,0,0,1.1259956,0,0,0,0,0,0,0,0,0,0,0,0,0,0,0,0,0,0,0,0,0.25071478,0.6462466,0,0.7422448,0,0,0,0,0,0,0,0,0.288192,0.5283489,0,0,0,0.54860055,0,0,0,0,0,0,0,0,0,0,0,0,0,0,0,0,0,0,0,0,0,0.6607139,0,0,0,0,0,0,0,0,0,0,0,0,0,0,0,0,0,0,0,0,0,0,0,0,0,0,0,0,0,0,0,0,0,0,0,0,0,0,0,0,0,0,0,0,0.79581976,0,0,0,0,0,0,0,0,0.45283136,0,0,0,0,0,0,1.2812091,0,0,0,0,0,0,0.17146125,0,0,0,0,0,0,0,0,0,0,0,0,0,0,0,0,0,0,0,0,0,0,0,0,0,0,0,0,0,0.8545992,0,0,0,0,0,0,0,0,0,0,2.655101,0,0,0,0,0,0,0,0,0,0,0,0,0,0,0,0,1.0075053,0,0,0,0,0,0,0,0,0,0,0.24895568,0,0,0.6683256,0,0,0.37353694,0,0,1.5671734,0,0.3287578,0,0,0,0,0,0,0,0,0.91543496,0,0,0,1.2452301,0,0,0,0,2.4549103,0,0,0,0,0,0,0.7132128,0,0,0,0,0,0,1.2316164,0.09695115,0,0,0,0,0.36077124,0,0,0,0,0,0.061333925,0,0,0,0,0,0,0,0,0,0,0,0,0,0,0,0,0,0,0,0,0,0,0,0,0,0,0,0,0,0,0,2.1379354,0,0,0,0,0,0,0,0,0,0,0,0,0,0,0,0,0,0.053611994,0,0,0,0,0,0,0,0,0,0,0,0,0,0.6724342,0,0,0,0.0027003326,0,0,0,0,0,0,0,0,0,0,0,0,0,0,0,0,0,0,0,0,0,0,0,0,0,0,0,0,0,0,0,0,0,0,0,0,0,0,0,0,0,0,0,0,0,0,0,0,0,0,0,0,0,0,0,0,0,0,0,0,0,0,0,0,0,0,0,0,0,0,0,0,0,0,0,0,0,0,0,0,0,0.5792003,0,0,0,0,0,0,0,0,0,0,0,0,0,0,0,2.2987382,0,0,0,0,0,0,0,0,0.29921353,0,0,0,0,1.2788506,0,0,0,0,0,0,0,0,0,0,0,0.7571451,0,0,0,0,0,0,0.74781406,0,0,0,0,0,0,0,0,0,0,0,0,0,0,0,0,0,0.48108277,0,0,0,0,0,0,0,0,0,0,0,0,0,0,0,0,0,0,0,0,0,0,0,0,0,0,0,0,0,0,0,0,0,0,0,0,0,0,0,0,0,0,0,0,0,0.36054415,0,0,0,0,0,0,0,0,0,0,0,0,0,0,0,0,0,0,0,0,0,0,0,0,0,0,1.0846026,0.27089018,0,0,0,0,0,0,0.5553519,0,0,0,0,0,0,0,0.47226357,0,0,0,1.6005616,0,0,0,0,0,0,0.7658668,0,0,0,1.3412999,0,0,0,0,0,0,0,0,0.13778478,0,0,0,0,0,0,0,0,0,0,0,0,0,0,0,0,0,0,0,0,0,0,0,0,0,0,0,0,0,0,0,0,0,0.011465728,0,0,0,0,0,0,0.33836043,0,0,0,0,0,0.192035,0,0.09956147,0,0,0,0,0,0,0.045754492,0.93168384,0,0,0,0,0,0,0,0,0.5738477,0,0,0,0,0.74414444,0,0,0,0,0,0.71670926,0,0,0,0,0,0,0,0,0,0,0,0,0,0,0,0,0,0,0,0,0,0,0,0,0,0,0,0,0,0,0,0,0,0,0,0,0,0,0,0,0,0.33462948,0,0,0,0,0,0,0,0,0,0,0,0,0,0,1.9062389,0,0,0,0.047195606,0,0,0,0,0,0.38254428,0,0,0,0,0,0,0,0,0,0,0,0,0,0,0,0.11516505,0,1.3803284,0,0,0,0,0,0,1.344419,0,0,0,0.44640732,1.9245908,0,0,0,0,0,0,0,0,0,0,0,0,0,0,0,0,0.059068717,0,0,0,0,0,0,0.8911818,0,0,0,0,0,0,0,0,0,0,1.9152625,0.06044686,0,0,0,0.01748239,0,0,0,0,0,0,0,0,0,0,0,0,0,0,0,0,0,0,0,0,0,0,0,1.3622085,0,0,0.230155,0,0,0,0,0,0,0,0,0,0,0,0,0,0.60688686,0,0,0,0,0.34920612,0,0,0,0,0,0,0,0,0,0,0,0,0,0,0,0,0,0,0,0,0,0,0,0,0,0,0,0,0,3.7912354,0,0,0,0,0.38969576,0,0,0,0,0,0,0,0,0,0,0,0,0,0,0,0,0,0,0,0,0,0,0,0,0,0,0,0,0,0,0,0,0,0,0.5697696,0,0,0,0,0,0,0,0,0.3094103,0,0,0,0,0,0,0,0,0,0,0,0,0,0,0,0,0,0,0,0,0,0,1.4786617,0,0,0,0,0,0,0,0,0,0,0,0,0,0,0,0,0,0,0,0,0,0,1.5930414,0,0,0,0,0,0,0,0,0,0,0,1.2536815,0,0,0.50140804,0,0,0,0,0,0,0,0,0,0,0,0,0,0,0.31388825,0,0,0,0,0,0,1.2518853,0,0,0,0,0,0,0,0,0,0,0,0,0,0.18231197,0.08277446,0,0,0,0,0,0,0,0,0,0,0.5560883,0,0,0.44831455,0.016380623,0,0,0,0,0,0,0,0,0,0,0,0,0,0,1.9736638,0,0,0,0,0,0,0,0,0,0,0,0,0,0,0,0,0,0,0,0.06432329,0,0,0.93708944,0,0,0,0,0,0,0,0,0,0,0,0,0,0,0,0,0,0,0,1.3557465,0,0,0,0,0,0,0,0,0,0,0,4.132948,0,0,0,0,0,0,0,0.18297157,0,0,0,0,0,0,0,0,0,0,0,0.31519744,0.041430376,0,0,0,0.49406525,3.6385667,0,0,0,0,0,0,0,0,0,0,0,0,0,0,0,0,0,0,0,0,0,0,0,0,0,0,0,0,0,0,0,0,0,0,0,0,0,0,0,0,0,0.4301455,0,0,0,0,0,0,0,0,0.7800111,0,0,0,0,0,0.0016454831,0,0,0,1.0056113,0,0,0,0,0,0,0,0,0,0,0,0,0.13309877,0,0,0.11499816,0,0,0,0,0,0,0.21240577,0,0,0,0,0,0,0,0,0,0,0,0,0,0,0,0,0,0,0,0,1.4964855,0,0,0,0,0,0,0,0,1.6566678,0.90492296,0,0,0,0,0,0.14309938,0,0,0,0,0.08940913,0,0,0,0,0,0,0,0,0,0,0,0,0,0,1.4982575,0,0,1.2517283,0,0,0,0,0,0,0,0,0,0,0,0,0,0,0.6926264,0.29123026,0,0,0,0,0,0,1.2578844,0,1.3248678,0,0,0,0,0,0,0,0,0,0,0,0,0.74536484,0,0,0,1.3924598,0,0,0,0,0,0.33089367,0,0.92031485,0,0.06734418,0,0,0,0,0,0,0,0,0,0,0,0.19150677,0,0,0,0,0,0,0,0,0,0,0,0,0,0,0,0,0,0,0.104241595,0,0,0.086749814,0,0,0,0,0,0,0,0,0,0,0,0,0,0,0,0,0,0,0,0,0.40886837,0,0,0,0,0,0,0,0,0,0,0,0,0,0,0,0,1.1686295,0,0,0,0,0,1.3418627,0,0,0,0,0,0,0,0,0.43586522,0,0,0,0,0,0,0,0,2.216367,0,0,0,0,0,0,0,0,0,0,0,0,1.0005804,0,0,0,0,0,0,0,0,0,0,0,0,0,0,0,0.61019015,0,0,0,0,0,0,1.7204033,0,0,0,0,0,0,0,1.3021336,0,0,0,0,0,1.8478739,0,0,0,0,0,0,0,0,0.36546183,0,0,1.2432798,1.5937122,0,0,0,0,0,0,0,0,0,0,0,0,0,0,0,0,0,0,0,0.22811091,0,0,0,0,0,0,0,0,1.00872,0,0,0,0,0,0,0,0,0,0,0,0,0,0,0,0,1.5514612,0.268997,0,0,0,0,0,0,0,0,0,0,0.07038474,0,0,0.14211307,0,0,0,0,0,0,0,0,0,0,0,0,0,0,0,0.08168539,1.955283,0,0,0,0,0,0,0,0,0,1.5224895,0,0,0,0.72039765,0,0,0,0,0,0,0,0.002448678,0,0,0,0,0,0.05541022,0,0.1683195,0,0,0.33368367,0,0,0,0,0,0,0,1.3194106,0,0,0,0,0,0,0,0,0,0,0.12625337,0,0.098664254,0,0,0,0,0,0,0,0,0,0,0.28788972,0,0,0,0,0,0,0,0,0,0,0.5596899,0,0,0,0,0,0,0,0,0,0,0,0,0,0,0,0,0.6073631,0.27722085,0,0,0,0,0,0,0,0,0,0,1.5417719,0,0,1.3421807,0,0,0,1.6480298,0,0,0.028774418,0,0.17800692,0,0,0,0,0,0,0,0,0,0,1.2686028,0,0,0,0,0,0,0,0,0,0,0,0,0,0,0.19200563,0,0,0,1.4935697,0,0,3.1202345,0,0,1.92678,1.6369497,0,0,0,0,0,0,0,0,0,0,0,0,0,0.3043548,0,0,0,0,0,0,0,0,0,1.454736,0,0,0.5369657,0,0,0,1.1204118,0,0,0,0,0,0,0,0,0,0,0,0,0,0,0,0,0,0,0.52974725,0,0,0,0,0,0,0,0,0,0,0,0,0,0,0,0,0,0,0,0,0,0,0,0,0,0,0,0,0,0,0,0,0,0,0,0.49373227,0,0,1.6261235,0,0,0,0,0,0,0,0,0.022187285,0,0,0,0,0,0,0,0,0,0.19535272,0,1.049605,0,0,0,0,0,0,0,1.6070021,0.79743314,0,0,0,0.12791847,0.018472932,0,0,0,0,0,0,0.46689788,0,0,0,0,0,0,0,0,0,0,0,0.9673433,0.36036748,0,0,0,0,0,0,0,0,0,0,0,0,0,0,0,0,0.246948,0.92162794,0,0,0,0,0,0,0,0,0,0,0,0,0,0,0,0,0,0,0,0,0,0.250791,0,0.6011701,0,0,0,0,0,0,0,0,0,0,0,0,0,0,0,0,0,0,0,0,0,0,0,0,0,0,0,0,0,0,0,0,0,0,0,0,1.0162413,0,0,0,0,0,0,0,0,0,0,0,0,0,0,0.8912643,0,0,0,0,0,0,0,0,0,0,0,0,0.18658629,0,0,0.62185144,0,0,0,0,0,0,0.046935536,0,0,0,1.3460323,0,0,0,0,0,0,0,0,0,0.07628039,0.5526464,0,0,0,0,0,0,0,0,0,0,0,0,0.9409816,0,0,0,0,0,0,0,0,0,0,0.86263907,0,0,0,0,0,0,0,0,0,0,0,0,0,0,0,0,0,0,0,0,0,0.74657685,0,0,0,0.19552362,0,0,0,0,0,0,0.19823512,0,0,0,0,0,0,0,0,0.09113613,0,0,0,0,0,0.31877822,0,0,0,0,0,0,0,0,0,0,0,0,0,0.47609037,0.84133756,0,0,0,0,0,0,0,0,0,0,0,0,0,0,0,0,0,0,0,0,0,0,0,0,0,0,1.5997847,0,0,0,0,0.28127158,0,1.0116575,0,0,0,0,0,0,0,0,0,0,0,0,0,0,0,0,0.22764656,0,0,0,0,0,0,0,0,0,0,0,0,0,0,0.6536465,0,0,0,0,0,0,0,0,0,0,0,0.8263642,0,0,0.21640061,0,1.211315,0,0,0,0.20561296,0,0,0,1.9033875,0,0,0.060929395,0,0,0,0,0,0,0,0,0.7966145,0,0,0,0,0,0,0,0,0,0,0,0,0,0,0,0.2154184,0,0,0.18462628,0,0,0,0,0,0,2.138915,0,0,0,0,0,0,0,0,0,0,0,0,0,0,0,0,0.17999229,0,0,0,0,0,0,0,0,0,0,0,0,0,0,0,0,0,0,0,0,0,0,0.88920987,0,0,0,0.7369704,0,0,0,0,0,0,0,0,0,0.80391127,0,0,0,0,0,0.18230042,0,0,0,0,0,0,0,0,0,0,0,0,0,0,0,0,0,0,0,0,0,0,0,0,0,0,0,0.79811215,0,0,0,0,0,0,0,0,0,0,0,0.015401222,1.136707,0,0,0,0,0,0,0,0,0,0,0,0,0,0,0,0,0,0,0,0,1.2786925,0,0,0,0.5749098,0.31285867,0,0,0.55167276,0,0,0,0,0,0,0,0,0,0,0,0,0,0,0,0,0,0,0,0,0,0,1.5357429,0,0,0.11710857,0,0,0,0,0,0,0,0,0,0,0,0,0,0,0,0,0,0,0,0,0,0,0,0,0,0,0,0,0,0,0,0,0,0,1.2339453,0,0,0,0,0,0,0,0,0,0,0,0,0,0,0,0,0,0,0,0,0,0,0,0,0,0,0,0,0,1.360661,0,0,0,0,0,0,0,0,0,0,0,0,0,0,0,0,0,0,0,0,0,0,0,0,0,0,1.5327297,0,0,0,0,0,0,0,0,0,0,0,0,0,0,0,0,0,0,0,0.47341213,0,0,0,0,0,0,0,0,0,0,0.7739316,0,0,0,0,0,0,0,0,0,0,0,0,0,0,0,0,0,0,0,0,0,0,0,0,0,0,0,0,0,0,0,0,0,0,0,0,0,0,0,0,0,0,0,0,0,0.48253086,0,0,0,0,0,0,0,0,0,0,0,0,0,0,0,0,0,0,0,0,0,0,0,0,0.5947206,0,0,0.01464276,0,0,0,0,0,0,0,0,0,0,0,0,0,0,0,0.89295477,0,0,0,0.942488,0,0,0,0,0,0,0,0,0,0,0,0,0,2.2931826,0,0,0,0,0,0,0,0,0,0,0,0,0,0,0,1.3092462,0,0,1.5047001,0.9475497,0,0,0,0,0,0,0,0,0,0,0,0,0,0,0,0,0,0,0,0,0,0,0,0,0,0.08124208,0,0,0,0,0,0,0,0,0,0,0.092783324,0,0,0,0,0,0,0,0,0,0,0,0,0.046071544,0,0,0,0,0,0,0,0,0,0,0,0,0.75437605,0,0,0,0,1.2457284,0,0,0,0,0,0,0,0,0,0,0,0,0,0,0,0,0,0,0,0,0,0.62066376,0,0,0,0,0,0,0,1.6036004,0,0,0,0,0,1.4540993,1.1097602,0,0,0,0,0,0,0,0,0,0,0,0,0,0,0,0,1.7808079,0,0,0,0.07575245,0,0,0,0,0,0,0,0,0,0,0.7038691,0,0,0,0,0.060234465,0,0.33927882,0,0,0,0,0,0,0,0,2.306717,0,0,0,0,0,0,0.3203697,0,0,0,0,0,0,0,0.20395847,0,0,0,0,0,0,0,0,0,0,0,0,0,0,0,0,0,0,0,0,0,0,0,0,0,0.26236415,0,0,0,0,0,0,0,0,0,0,0,0,0.1822752,0,0,0,0,0,0,0,0.6349576,0,0,0,0,0,0,0,0,0,0,0,0,0,0,0,0,0,0,0,0,0.22806199,2.189516,0,0,0,0,0,0,0,0,0,0,0,0,0,0,0,0,0,0,0,0,0,0,0,0.22308475,0,0,0,0,0,0,0,0.2837198,0,0,0,0,0,0,0,0,0,0.18297087,1.089122,0,0,0,0,0,0,0,0,0,0,0.9883518,0,0,0,0,0,0,0,0,0,0,0,0,0,0,0,0,0,0,0,0,0,0,0,0,0,0,0,0,0,0,0,0,0,0,0,0,0,0,0,0,0,0,0,0,0,0,0,0,0,0,0,0,0,0,0,0,0,0,0,0,0,0.53145266,0,0,0.947542,0,0,0,0,0,0,0,0,1.0667409,0,0,0,0,0,0.44814837,0,0,0,0,0,0,0,0,0,0,0,0,0,0,2.6697206,0,0.13549545,0,0.35747653,0,0,0,0,0,0,0,0,0.19009183,0,0,0,0,0,0,0,1.3463972,0,0,0,0,0,0,0,0.10546742,0,0,0,0,0,0,0,0,0.36362046,0,0,0,0,0,0,0,0,0,0,0,0,1.3704854,0,1.8813316,0,0,0.8351586,0,0,0,0,0,0,0.62469167,0,0,0,0,0,0,0,0,0,0,0,0,0,0,0,0,0.047194347,0.40389413,0,0,0,0,0,0,0,0,0,0,0,0,0,0,0,0,0,0,0,0,3.4022362,0,0,0,0,0,0,0,0,0,0,0,0,0,0,0,0,0,0,0,0,0.14921886,0,0,0,0,0,0,0,0,0,0,0,0,0,0,0,0,0.83133197,0,0,0,0,0,0,0,0,0,0.07311507,0,0,0,0,0,0,0,0,0,0,0,0,0,0,0,0,0,0,0,0,0,0,0,0,0,0,0,0,0,0.23434807,0,0.1513758,0,0.22690544,0,0,0,0,0,0,0,0,0,1.1915799,0,1.7187927,0,0,0,0,0,0,0,0,0,0,0,0,0,0,0,0,0,0,0,0,0,0,0,0.40139127,0,0,0,0,0,0,0,0,0.25615263,0,2.5488012,0,0,0,0,0,0,0,0,0,0,0,0,0,0,0,0,0,0,0,0,0.18065012,0,0,0,0.2984498,0,0,0,0.5761268,0,0,0,0,0,0,0,0,0,0,0,0,0,0,0,0,0,0,0,0,0,0,0,0,0,0,0.036518678,0,0,0,0,0,0,0,0.68239677,0,0,0.2397735,0,0,0,0,0,0,0,0,0,0,0,0]'"
      ]
     },
     "execution_count": 109,
     "metadata": {},
     "output_type": "execute_result"
    }
   ],
   "source": [
    "single_img[0][1]"
   ]
  },
  {
   "cell_type": "code",
   "execution_count": 102,
   "metadata": {},
   "outputs": [],
   "source": [
    "single_img = cur.fetchall()"
   ]
  },
  {
   "cell_type": "code",
   "execution_count": 98,
   "metadata": {},
   "outputs": [
    {
     "ename": "IndexError",
     "evalue": "list index out of range",
     "output_type": "error",
     "traceback": [
      "\u001b[0;31m---------------------------------------------------------------------------\u001b[0m",
      "\u001b[0;31mIndexError\u001b[0m                                Traceback (most recent call last)",
      "Cell \u001b[0;32mIn[98], line 1\u001b[0m\n\u001b[0;32m----> 1\u001b[0m single_img[\u001b[38;5;241m0\u001b[39m]\n",
      "\u001b[0;31mIndexError\u001b[0m: list index out of range"
     ]
    }
   ],
   "source": [
    "single_img[0]"
   ]
  },
  {
   "cell_type": "code",
   "execution_count": 83,
   "metadata": {},
   "outputs": [
    {
     "data": {
      "text/plain": [
       "'http://assets.myntassets.com/v1/images/style/properties/7a5b82d1372a7a5c6de67ae7a314fd91_images.jpg'"
      ]
     },
     "execution_count": 83,
     "metadata": {},
     "output_type": "execute_result"
    }
   ],
   "source": [
    "topwear.at[0, \"link\"]"
   ]
  },
  {
   "cell_type": "code",
   "execution_count": 82,
   "metadata": {},
   "outputs": [
    {
     "data": {
      "text/plain": [
       "[(27277,\n",
       "  '[0,0,0,0,0,0,0,0,0,0,0,0,0,0,0,0,0,0,0,0,0,0,0,0,0,0,0,0,0,0,0,0,0.1061096,0,0,0,0,0.6530767,0,0,0,0,0,0,0,0,0,0,0,0,0,0,0,0,0,0,0,0,0,0,0,0,0,0,0,0,0,0,0,0,0,0,0,0,0,0,0,0,0,0,0,0,0,0,0,0,0,0,0,0,0,0.5957654,0,0,0,0,0,0,0,0,0,0,0.1027926,0,0,0,0,0,0,0,0,0,0,0,0,0,0,0,0.87426054,0,0,0,0,0,0,0,0,0,0,0,0,0,0,0,0,0,0,0,0,0,0,0,0,0,0,0,0,0,0,0,0,0,0,0,0,0,0,0,0,0,0,0,0,0,0,0,0,0,0,0,0,0,0,0,0,0,0,0,0,0,0,0.4754039,0,0,0,0,0,0,0,0,0,0,0,0,0,0,0,0,0,0,0,0,0,0,0.59382993,0,0,0,0.42933524,0,0,0.38558543,0,0,0,0.3770231,1.520209,0,0,0,0,0,0,0,0,0,0,0,0,0,2.576005,0,0,0,0,0,0,0,0,0,0,0,0,0,0,0,0,0,0,0,0,0,1.9690956,0,0,0,0,0,0,0,0,0,0,0,0,0.653101,0,0,0,0,0,0,0,0,0,0,0,0,0,0,0,1.3744576,0,0,0,0,0,0,0,0,0,0.69771177,0,0.35378635,0,0,0,0,0,0.81032014,0,0,0,0,0,0,0,0.06257534,0,0,0,0,0,0,0,0,0,0,0,0,0,0,0.47159493,0,0,0,0,0,0,0,0,0,0,0,0,0,0,0,0,0,0,0,0,0,0,0,0,0,0,0,0,0,0,0,0,0.012853712,0,0,0,0,0,0,0,0,0,0,0,0,0,0,0,0,0,0,0,0,0,0,0,0,0,0,0,0,0,0,0,0,0,0,1.2515937,0,0,0,0,0,0,0,1.5312722,0.6521973,0,0,0,0,0,0,0,0,0,0.5592368,0,1.9488261,0,0,0,0,0,0,0,0,0,0,3.495355,0,0,0,0,0,0,0,0.817298,3.8800476,0,0,0,0,0,0.33740872,0,1.2680975,0,0,0,0,0,0,0,0,0,0,0,0,0,0,0,0,0,0,0,0.6704851,0,0,0.3750916,1.9574876,0,0,0,0,0,0,0,0,0,1.517799,0,0,0,0,0,0.034375824,0,0,0,0,0,0,0,0,0,0,0,0,0,0,0,0,0,1.1598092,0,0,0,0,0,0,0,0,0,0,0,0,0.13670252,0,0,0,0,0,0,0,0,0,0,0,0,0,0,0,0,0,0,0,0,0,0.77686244,0,0,0,0,0,0,0,0,0,0,0,0,0,0,0,0,0,0,0,0,0,0,0,0,0,0,0,0,0,0,0,0,0,0.5850524,0,0,0,0,0,0,0,0,0,0,0,0,0,0,0,0,0,0,0,0,0,0,0,0,0,0,0,0,0,0,0,0,0,0,0.26289263,0,0,0,0,0,0,0,0,0,0,0,0,0,2.2637012,0,0,0,0,0,0,0,0,0.40912163,0,0,0,0,0,0,0,0,0,0.2875952,0,0,0,0,0,0,0,0,0,0,1.0851371,0,0,0,0,0,0,0,0,0,0,0,0,0,0,1.6963389,0,0,0,0,0.6590332,0,0,0,0,0,0.17093652,0,0,0,0.6387268,0,0,0,0,0,0,0,0,0,0,0,1.7720505,0,0,0,0,0,0,0.49319097,0,0,0,0.24943596,0,0,0,0,0.30076525,0,0,0,0,0,0,0,0,0,0,0,0,0,0.73838156,0,0,0,0,0,0,0,0,0,0,0,0,0,0,0,0,0,0,0,0,0,0,0,0,0,0,0,0,0,0,0,0,0.42139542,0,0,0,0,0,0,0,0,0,0,0,0,0,0,0,0,0.972432,0,0,0,0,0,0,0,0,0,0,0,0,0,0.026841559,0,1.0624014,0,0,0,0,0,0,0,0.9136775,0,0,0,0,0,0,0,0,0,0,0,0,0.17626032,0,0,0,0,0,0.22055808,0,0,0,0,0,0.9091412,0.88948494,0,0,0.16070488,0,0,0,0.5091459,0,0,0,0,0,0,0,0,0,0,0,0,0,0,0,0,0,0,0,0,0,0,0,0,0,0,0,0,0,0,0,0,0,0,0,0,0,0,0,0,0,0,0,0,0.13251661,0,0,0,0,0,0,0,0,0,0,0,0,0,0,0,0,0,0,1.588003,0,0,0,0,0,0,0,0,0,0,0,0,0,0,0,0,0,0,0,0,0,0,0,0,0,0,0,0,0,0,0,0,0,0,0,0,0,0,0,0,0.3002873,0,0,0,0,0,0,0,0,0,0,0,0,0,0,0,0,0,0,0,0.5562932,0,0,2.1327412,0,0,0,0,0,0,0,2.0917923,0,0,0,0,0,0,0,0,0,0,0.15557007,0,0,0,0,0,0,0,2.1848927,0.027063442,0,0,0,1.6396061,0.9832563,0,0,0,2.5039659,0,0,0,0,0,0,0,0,0,0.21166325,0,0,0,0,0.5292641,0,0,0,0,1.140641,0,0,1.0442178,0,0,0,0,0,0,0,0,0,0,1.3022503,0,0,0,0,0,0.11639969,0,0,0,0,0,0,0,0,0,0,0,0,0,0,0,0,0,0,0,0,0,0,0,0,0,0,0,0,0,0.2296295,0,0,0,0,0,0,0,0,0,0,0,0,0,0,0,0,0,0,0,0,0,0,0.7066947,0,0,0.987727,0,0,0,0,0,0,0,0,0,0,0,0,0,0,0,0,0,0.40643314,0.66924393,0,0,0,0,0,0,0,0,0,0,0,0,0,0,0,0,0,0,0,0,0,0,1.1301854,0,0,0,0,0,0,0,0,0,0,0,0,0,0,0,0,0,0,0,0,0,0,0,0,0,0,0,0,0,0,0,0,0,0,0,0,0,0,0,0,0,0,0,0,0,0,0,0,0,0,0,0,0,0,0,0,0,2.9952624,0,0,0.94478256,0,0,0,0.08465099,0,0,0,0,0,0,0,0,0,0,0,0,0,0,0,0,0,0.7790816,0,0,0.75350505,0,0,0,0,0,0,0,0,0,0,0,0,0,0,0,0,0,0,0,0,0,0,0,0,0,0,0,0,0,0,0,0.61672884,0,0,0,0,0,0,0,0,0,0,0,0.38116905,0,0,0,0,0,0,0,0,0,0,0,0,0,0,0,0,0,0,0,0.20660658,0,0,0,0,0,0,0,1.8512406,0,0,0,0.6800357,0,0,0,0,0,0,0,0,0.4413738,0,0,0,0,0,0,0,0,0,0,0,0,0,0,0,0,0.86144745,0,0,0,0,0,0,0,0,0,0,0,0,0,0,0,0,0,1.0247598,0,0,0,0,0,0,0,0,0,0,0,0,0,0,0,0,0,0,0,0,0,0,0.1535371,0,0,0,0,0,0,0,0,0.75493866,0,0,0,0,0.111210935,0.12303737,0,0,0,0,0,0,0,0,0,0,0,0,0,0,0,0,0,0,0,0,0.29605636,0,0,0,0,1.1875522,0,0,0,0,0,0,0,0,0,0,0,0,0,0,0.15203038,0,0,0,0,0,0,0,0,0,0.3491414,0,0,0.7167948,0.357144,0,0,0,0,0.46153772,0,0,0,0,0.3854891,0,0,0,0,0,0,0,0,0,0,0,0.7799543,0,0,0,0,0,0,0,0,0,0,0,0,0,0,0,0,0,0,0,0,0.02303017,0,0,0,0,0,0,0,0,0,0,0,0,0,0,0,0,0,0,0,0,0,0,0,0,0,0,0,0,0.28091788,2.06835,0,0,0.8721,0,0,0,0,0,0,0,0,0,0,0,0,0,0,0,0,0,0,0,0,0,0,0,0,1.5868762,0,0,0,0,0,0,0,0,0,0,0,2.058228,0,0,0,0,0,0,0,0.034110278,0,0,0,0,0,0,0,0,0,0,0,0,0.7036106,0,0,0,0,0,0,0,0,1.1831462,0,0,0,0,1.7484592,0,0,0,0,0,0.32809484,0,0,0,0,0.14412986,0,0,0,0,0,0.67918867,0,0,0,0.20688465,0,0,0,0,0,0,1.3297232,1.5387274,0,0,0,0,0,0,0,0,0,0,0,0,0,0,0,0,0,0,0,0,0,0,0,0,0,0,0,0,0,0.70499945,0.13299808,0,0,0,0,0,0,0,0,0,0,0,0,0,0,0,0,0,0,0,0,0,0,0.028990656,0,0,0,0,0,0,0,0,0,0,0,0,0,0,0,0,0,1.7069892,0,0,0,0,0,0,0,0,0,0,0.17589219,0,0,0,0,0,0,0.24444786,0,0,0,0,0,0,0,0,0,0,1.8236037,0,0.3863351,0,0,0,0,0,1.5987289,0,0,0,0,0,0,0,0,0,0,0,0,0,0,2.5755513,0,0,0,0,0,0.6020992,0,0,0,0,0,0.39796072,0,0,0,0,0,0,0,0,0,0,0,0,1.167201,0,0,0,0,0,0,0,0,0,0,0.47400343,0,0.84244496,0,0,0,0,0,0,0,0,0,0,0,0,0,0,0,0,0,0,0,0,1.3911692,0,0,0,0,0,0,0.0594761,0,0,0,0,0,0,0,0,0,0,0,0,0,0,0,0,0,0,0,0,0,0,0,0,0,0,0,0,0,0,0,0,0,0,1.7109044,0,0,0,0,0,0,0,0,0,0,0,0,0,0,0,0.026321769,0,0,0,0,0,0,0,0,0,0,0,0,0,0,0,0,0,0,0,0,0,0,0,0,0,0.12625551,0,0,0,0,0.6806242,0,0,0,0,0,0,0,0,0,0,0,0,0,0,0,0,0,0,0,0,0,0.88277,0,0,0,0,0,0,0,0,0,0,0,0,0,0,0,2.6248276,0,0,0,0,0,0,0,0,0,0,0,0,0,0,0,0,0,0,0,0.6216714,0,2.2602415,0,0,0,0,0,0,0,0,0,0,0,0,0,0,0,0,0,0,0,0,0,0,0,0,0,0,0,0,0,0,0,0,0,0,0,0,0,0,0,0,0,0,0,0,0,0,0,0,0,0.3254275,0,0,0,0,0,0,0.14223798,0,0,0,0,0,0,0,0,0,0,0,0,0,1.7242975,0,0,0,0,0,0,0,0,0,0,0,0.9906414,0,0,0,0.6996037,0,0,1.5140626,0,0,0,0,0,0,0.3150459,0,0.5814324,0,0,0,0,1.3089143,0,0,0.04322079,0,0,0,0,0,0.19354069,0,0.6685462,0,0,0,0,0,0,0,0,0,0,0,0,0,0,0,0,0,0,0,0,0,0.26438376,0,0,0,0,0,0,0.01593335,0,0,1.1691984,0,0,0,0,0.6535695,0,0,0,0,0,0,0,0,0,0,0,1.2046978,0,0,0,0,0.20482853,0,0,0.95562273,0,0,0,0,0,0,0,0,0,0,0,0,0,0.66165936,0,0,0,0.27813268,0,0,0,0,0.6019053,0,0,0,0,0,0,0,0.8346534,0,0,0,0,0,0.46648526,0,0,0,0,0,0,0,0,0,0,0,0,0,0,0,0,0,0,0,0,0,0,0,0,0,0,0,0,0,0,0,0,0,0,0,0,0.15190952,0,0,0,0,0,0,0,0,0,0,0,0,0,0,0,0,0,0,0,0,0,0,0.5568458,0,0.096570045,0,0,0,0,0,0,0,0,0,0,0,0.99660397,0,0,0,0,0,0,0,0,0.3368786,0,0,0,0,0,0,0,0,0,0,0,0.40370214,1.6974548,0.45823297,0,0,0,0,0,0,0.3567864,0,0,0,0,0,0,0,0,0,0,0,0.64343077,0,0,0,0.87770796,0,0,1.2757252,1.9863116,0,0,0,0,0,0,0,0,0,0,0,0,0,0,0,0,0,0,0,0,0,0,0,0,1.2565101,0,0,0,0,0,0,0,0,0,0,0,0,0,0,0,0,0,0,0,0,2.1863468,0,0.95727694,0.21616457,0,0,0,0,0,0,0,0,0,0,0,0,0,0,0,0,0,0,0,0,0,0,0,0,0,0,0,0,0,0,0,0,0,0,0,0,0.23350126,0,1.3584905,0,0,0,0,0,0,0,0,0,0,0,0,0,0,0,0,0,0,0,0,0,0,0,0,0,0,0,0,0,0,0,0,0,0,0,0,0,0,0,0,0,0,0,0,0,0,0,0,0,0.4764002,0,0,0,0,0,1.068561,0,0,0,0,0,0,0,0,0,0,0,0,0,0,0,0,0,0,0,0,0,0.48287886,0,0,0,0,0,0,0,0,1.259723,0,0,0,0,0,0.015780717,0,0,0,0,0,0,0,1.8306658,0,0,0,0,0,0,0,0.6988756,0,0.5210703,0,0,0,0,0,0,0,0,0,0,0,0,0,0,0,0,0,0,0,0,0,0,0,0.83825845,0,0,0,0,2.7533658,0,0,0.4038058,2.5244021,0,0.46321142,0,0,0,0,0,0,0,0,0,0,0,0,0,0,0,0,0,0,0,0,0,0,1.6701963,0,0.73699754,0,0,0,0,0,0,0.58491904,0,0,0,0,0,0,0,0,0,0,0.21073163,1.5236875,0,0,0,0.9464315,0,0,0,0,0,0,0,0,0,0,0,0,0,0,0,0,0,0,0,0,0,0,0,0,0,0.46506113,0,0,0.90325063,0,0.29253292,0,0,0,0,0,0,0,0,0,0,0,0,0,0.8428749,0,0,0.22083527,0,0,0,0,0,0,0,0,2.1629057,0,0.107564986,0,0,0,0,0,0,0,0,0,0,0,0,0,0,0,0,0,0,0,0,0,0,0,0,0,0,0,3.0109208,0,0,0,0,0,0,0,0,0.94058394,0.7269944,0,0,0,0.79192424,0,0,0.09379589,0,0,0,0,0,0,0,0,0,0,0,0,0,0,0,0,0,0,0,0,0,0,2.219351,0,0,0.49756432,0,0,0,0.33788425,0,0,0,0,0,0,0,0,0,0,0.3900739,0,0,0,0,0,0,0,0,0,0,0,0,0,0,0,0,0,0,0,0,0,0,0,0,0,0,0,0,0,0.18663406,0,0,0.3523459,0,0,0,0,0,0,0,0.18067458,0,0.32834724,0,0,0,0,0,0,0,0,0,0,0.6345202,0,0,0,0,0,0,0,0,0,0.07031864,0,0.26944908,0,0,0,0,0,0,0,0,0,0,0,0,0,0.9761985,0,0,0,0,0,0,0,0,0,0,0,0,0,0,0,0,0,0,0,0,0.39000344,0,0,0,0,0,0,0,0,0,0,0,0,0,0,0,0,0,0,0,0,0,0,0,0,0,0,0,0,0,0,0.17282084,0,0,0,0,0,0,0,0,0,0,0,0,0,0,0,0,0,0,0,0,0,0,0,0,0,0,0,0,0,0,0,0,0,0,0,0,0,0,0,0,0,0,0,0,0,0,1.0630131,0,0,0,0,0,0,0,0,0,0,0,0,0,0,0,0,0,0.70534116,0,0,0,0.11455201,0,0,0,0,0,0,0,0,0,0,0.90961015,0,0,0,0,0,0,0,2.9690034,0,0,1.2918421,0,0,0,0,0,0,0,0.66629183,0,0,0,0,0,0,0,0,0,0,0,0,0.89295626,0,0.5069487,0,0,0.6517529,0,0.16443563,0,0.14488271,0,0,0,0,0,1.3704271,0,0,0,0,0,0,0,0,0,0,0,0,0,0,0,0,0,0,0,0,0,0,0,0,0,0,0,0,0,0,0.20027293,0,0,0,0,0,0,0,0,0,0,0,0,0,0,0,0,0,0,0,0,0,0,0,0,0,0,0,0,0,0,0,0,0,0,0,0,0,0,0,0,0,0,0,0,0,0,0,0,0,0,0,0,0,0,0,0,0,0,0,0,0,0,0,0,0,0,0.026241705,0,0,0,0,0,0,0,0.033769853,0,0,0,0,0,0,0,0,0,0,0.35195082,0,0,0,0,0,0,0,0,0,0,0,1.0001016,0,0,0,0,0,0.050740898,0,0,0,1.9978681,0,0,1.2703452,0,0,0,0,0,0,0,0.8206488,0,0,0,0,0,0,0,0,0,0,0.43080318,0,0,0,0.1939182,0,0,0.003778033,0,0,0,0,0,0,0,0,0,0,0,0,0,0,0,0,0,0,0,0,0,0,0,0,0,0.7171753,0,0,0,0,0,0,0,0,0,0,0,0,0,0,0,0,0,0,0,0,0,0,0,0,0,0,0,0,0,0,0,0,0,0,0.170376,0,0,0,0,0,0,0,0,0,0,0.30625647,0,0,0,0,0,0,0,0,0,0,0,0,0,0,0,0,0,0,1.0319829,0,0,0,0,0,0,0,0,0,0,0,0,0,0,0,0,0,0,0,0,0,0.10296193,0,0,0,0,0,0,0,0,0,0,0,0,0,0,0,0,0,0,0,0,0,0,0,0,0,0,0,0,0,0,0,0,0,0,0,0.09651072,0,0,0,0,0,0,0,0,0,0,0,0,0,0,0,0,0,0,0,0,0,0,0,0,0,0,0,0,0,0,0,0,0,0,0,0,0,0,0,0,0,0,0,0,0.19747749,0,0,0,0,0,0,0,0,0,0,0,0,0,0,0,0.016970217,0,0,0,0,0,0,0,0,0,0,0,0,0,0,0,0,0,0,0.7477835,0,0,0,0,0,0,0,0,0,0,0,0,0,0,0,0,0,0,0,0,0.15274683,0,0,0,0,0,1.3500261,0,0,0,0,0.089760646,0,0,0,0,0,0,0,0,0,0,0,0,0.30569392,0,0,0,0,0,0,0,0,0,0,0,0,0,0,0,0,0.21740629,0,0,0,0,0,0.66335225,0.22601737,0,0,0,0,0,0,0,0,0,0,0,0,0,0,0,0,0,0,0.21979082,0,0,0,0,0,0,0,0,0,0,0,0,0,0,0,0,0,0,0,0,0,0,0,0,0,0,0,0,0,0.39351252,0,0,0.5040144,0,0,0,0,0,0,0,0,0.12347321,0,0.0031583235,0,0,0,0,0,0,0,0,0,0,0,0,0,0,0,0,0,0,0,0,0.6617064,0,0,0,0,0,0,0,0,0,0,0,0,0,0,0,0,0,0.071584314,0,0,0.3664069,0,0,0,0,0,0,0,0,0,0.32784325,0,0,0,0,0,0.5080813,0,0.63816667,0,0,0,0,0,0.3578776,0.7633136,0,0,0,0,0,0,0,0,0,0,0,0,0,0,0,0,0.29520762,0,0,0,0.7746383,0,0,0,0,0,0,0,0,0,0,0,0,0,0,0,0,0,0,0,0,0,0,0,0,0,0,0,0,1.3328059,0,0.45060307,0,0,0,0,0,0,0,0,0,0,0,1.2140288,0,0,0,0,0,0,0,0,0,0,0,0,1.8494787,0,0,0,0,0,0,0,0,2.0911314,0,0,0,0,0,0,0,0.93962973,0,0,0,0,0,0,0,0,0,0,0,0,0,0,0,0.62344414,0,0,0,0.27029562,0,0,0,0.7081191,0,0,0,0,0,0,0,0,0,0,0,0,0,0,0,0,0,0,1.3380424,0,0,0,0,0,0,0.30540305,0,0,0,0,0,0,0,0,0,0,0,0,0,0,0,0,0,0,0,0,0,0,0,0,0,0,0,0,0,0,0,0,0,0,0,0,0,0,0,0,0,0,0,0,0,0,0,0,0,0,0,0,0,0,0,0,0,0.8708355,0,0,0,0,0,0,0,0,0,0,0,0,0,0,0,0,0,0,0,0,0,0,0,0,0,0,0,0,0,0,0,0.34280485,4.141573,0,0,0,0,0,0,0,0,0,0,0,0,0.35558665,1.6420218,0,0,0,0,0,0,0.5464582,1.2600803,0,0,0,0,0,0,0,0,0,0,0,0.041912764,0,0,0,0.3756274,0,0,0,0,0,0,0.19615763,0.4839972,0,0,0,0,0.73965234,0,1.8987261,0,0,0,0,0,0,1.2017841,0,0,0,0,2.4723034,0,0,0.89313734,0,0,0,0,0,0,0,0,0,0,0.39769003,0,1.2497389,0,0,0,0,0,0,0,0,0,0,0,0,0,0,0.91264594,0,0,0,0,0,3.6904175,0,0,0,0,1.2744322,0,0,0,0,0,0,0,0,0,0,0,0,0,0,0,0,2.7678106,0,0,0,0,0,0,0,0,0,0,0,0,0,0,0,0.88089585,0,0,0,0,0,0,0,0,0,0,0,0,0,0,0,0.9794579,0,0,0,0,0,0,0,0,0,0,0,0,0,0,0,0,0,0,0,1.1861001,0,0,0,0.6023155,0,0,0,0,0,1.9997828,0,0.11132773,0,0,0,0,0,0,0,0,0,0.9212646,0,0,0,0,0,0,0,0,0,0.50928503,0,0,0,0,0,0,0,0,0,0,0,0.7423508,0,0,0,0,0,0,0,0,0,0,1.9340874,0,0,0,0,0,0,0,0,0,0,0,0,1.9330747,0,0,0,0,0,0,0,0,0,0,0,0,0,0,0,0.18165323,0,0,0,0,0,0,0,0,0,0,0,0,1.2739441,0,0,0,0,0,0,0,0,0,0,0,0,0,0,0.6709789,0,0,0,0,0,0,0,0,0,0,0,0.13723576,0,0,0,0,0,0,0,0,0,0]',\n",
       "  'http://assets.myntassets.com/v1/images/style/properties/a576a21253c4cc6b7c04426389c1c58f_images.jpg',\n",
       "  'Mother Earth Women Blue Kurta',\n",
       "  110.04483,\n",
       "  'Kurtas'),\n",
       " (54588,\n",
       "  '[0,0,0,0,0,0,0,0,0,0,0,0,0,0,0,0,0,0,0,0,0,0,0,0,0.0686513,0,0,0,0,0,0,0,0,0,0,0,0,0,0,0,0,0,0,0,0,0,0,0,0,0,0,0,0,0,0,0,0,0,0,0,0,0,0,0,0,0.5527553,0,0,0,0,0,0,0,0.31814185,0,0,0,0,0,0,0,0,0,0,0.14794892,0,0,0.5963002,0,0,0,0,0,0,0,0,0,0,0,0,0.87713134,0,0,0,0,0,0,0,0,0,0,1.4769573,0,0,0,0,0,0,0,0,0,0,0,0,0,0,0,0,0,0,0,0,0,0,0,0,0,0,0,1.1689357,0,0,0,0.1095534,0,0,0,0,0,0,0,0.60489213,0,0,0,0,0,0,0,0,0,0,0,0,0,0,1.8677524,0,0,0,0,0,0,0,0,0,0,0.4481326,0,0,0,0,0,0,0,0,0,0,0,0.17409422,0,0,0,0,0,0,0,0,0,0,0,0,0,0,0,0,0,0,0.17189886,0,0,0,0,0,0,0,0,0.95389664,0,0,0,0,0,0,0,0,0,0,0,0,0,0,0.055925064,0,0,0,0,2.2539814,0,0,0,0,0,0,0.033919506,0,0.7996037,0,0,0,0,0,1.2681895,0,0,0.3109643,0,0,0,0,0,0,0,0,0,0.17467433,0,0,0,0,0,0,0,0,0,0,0,0,0,0,0,0,0,0,0,0,0.7487051,0,0,0,0,0,0,0,0,0,0,0.50191,0,0,0,0,0,0,0,0,0.025650904,0.7327982,0,0,0,0,0,0,0,0,0,0.18033935,0,0,0,0,0,0,0,0,0,0,0,0,0,0,0,0,0,0,0,0,0,0,0,0,0,0,0,2.6647768,0,0,0,0,0,0,0,0.15674713,0.15687667,0.875913,0,0,0,0,0.08289519,0,0,0,0,0,0,0,0,1.6060166,0,0,0,0,1.0163528,0,0,0,0,0,0,0,1.2271051,0,0,0,0,0,0,0,0,0,0,0,0,0,0.35334098,0,1.6334096,0,0,0,0,0,0,0,0,0,0,0,0,0.5098896,0,0.21175006,0,0,0,0,0,0,0,0,0,0,0,0,0,0,0,0,0.4420306,0,0,0,0,0,0,0,0,0,0,0,0,0,0,0,0,0,0,0,0,0,0,0,0,0,0,0,0,0,0,0,0,0,0.0013357252,0,0,0,0,0,0,0,0,0.9997387,0,0,0,0,0,0,0,0,0,0,0,0,0,0,0,0,0,0,0,0,0,0,0,1.2323775,0,0,2.6181078,0,0,0,0,0,0,0,0,0,0.58133703,0.11785916,0,0,0,0,0,0,0,0,0,0,0.36641175,0,0,0,0,0,0,0,0,0,0,0,0,0,0,0,0,0,0,0,0,0,0,0,0,0,0,0,0,0,0,0,0,0,0,0,0,0,0,0,0,0,0,0,1.4921916,0,0.0024758503,0,0,0,0,0,0,0,0,0,0,0,0,0,0,0,0,0.57859147,0.22232106,0,0,2.1919198,0,0,0,0,0,0.7321077,0,0,0,0,0.8373443,0,0,0,0,0,0,0,0,0,0,0,0,0,0,0.78832895,0,0,0,0,0,0,0,0,0,0,0,0,0,0,0,0.8053199,0,0,0.20932703,0,0,0,0,0,0,0,0,0.26932102,0,1.7674388,0,0,0,0,0,0,0,0,0,0,0,0,0,0,0,0,0,0,0,0,0,0,0,0,0,0.8330618,0,0,0,0,0,0,0,0,0,0,0,0,0.36054927,0,0,0.16260998,0,0,0,0,0,0,0,0,0,0,0,0,0,0,0,0.14790392,0,0,0,0.25938737,0,0,0,0,0,0,0,0,0,0,0,0,0,0,0,0,0.9128585,0,0,0,0,0,0,0,0,0,0.37962806,0,0.25819787,0,0,1.6317873,0,0,0,0,0,0,0,0,0,0,0,0,0,0,0,0.6905563,0,0,0,0,0,0,0,1.0837958,0,0,0.039919943,0,0,0,0,0,0,0,0,0,0,0,0,0,0,0.70900023,0,1.3119086,0,0,0,0,0,0,0,1.9831234,0,0,0,0,0,0,0,0,0,0,0,0,0,0,0,0.15192479,0,1.3988024,0,0,0,0,0,0,0,0.22544183,0,0,0.13022417,0,0,0,2.4079037,0,0,0,0,0,0,0,0,0,0,0,0,0,0,0,0,0,0,0,0,0,0,0,0,0,0,0,0,0,0,0,0,0,0,0,0,0,0,0.658027,0,0,0,0,0,0,0,0,0,0,0,0,0,0,0,0,0,0,0,0,0.2543221,0,0,3.1209378,0,0,0,0,0,0,0,0,0,0,0,0,0,0,0,0,1.1830578,0,0,0,0,0,0,0,0,0,0,0,0,0,0,0,0,0,0,0,0,0,0,0,0,0,0,0,0,0,0,0,0,1.4681659,0,0.10589378,0.37268206,0,0,0,0,0,0,0,0,0,0,0,2.3248234,0,0,0,0,0,0,0,0,0,0,0,0,0,0,0,0,0.6787569,0,0,0.60548466,0,0,0,0,0,0,2.3066318,0.0126191,0,0,0,0,0,0,0.29169706,0,0,0,0,0,0,0.7774294,0,0,0,0,0,0,0,0,0,0.18298838,1.7324154,0.8786689,0,0,0,0,0.28903982,0,0,0,0,0,0,0,0,0,0,0,0,0,0,0,0,0,0,0,0,0,0,0,0.053810477,0,0,0,0,0,0,0,0,0,0,0,0,0,0,0,0,0,0,0,0,0,0,0,0,0,0.79080176,0,0,0,0,0,0,0,0,0,0.0077554286,0,0,0,0.21899827,0,0,0,0,0,0,0,0,1.0140841,0,0,0,0,0,0,0,0,0,0,0,0,0,0,0.59652007,0,0,0,0,0,0,0,0,0,0,0,0,0,0,0,0,0,0,0,0,0,0,0,0,0,0,0,0,0,0,0,0,0,0,0,0,0,0,0,0,0,0,0,0,0,0,0,0,0,0,0,0,0,0,0,0,0,0,0,0,0,0.27761164,0,0,0,0,0,0,0,0,0,0,0,0,0,0,0,0.33821654,0,0,0,0,0,0,0,0.84087634,0,0,0,0,0,0,0,0.1050219,0,0,0,0,0,0,0,0,0,0,0,0,0,0,0,0,0.10069136,0,0,0,0,0,0.9009859,0,0,0,0,0,0,0,0,0,0,0.91220134,0,0,0,0,0,0.069625676,0,0,0,0,1.2275757,0,0,0,0,0,0,0,0,0,0,0,1.1550351,0,0,0,0,0,0,0,0,0,0,0,0,0,0,0,0,0,0,0,0,0.145511,0,0,0,0,0,0.1552088,0,0,0,0,0,0,0,0,0,0,0,0,0,0,0,0,0,0,0,0,0.9922924,0,0,0,0,0,0,0,0,0,0,0,0,0,0,0,0,0,0,0,0,0,0,0,0,0,0,0,0,0,0,0,0,0.45716882,0,1.9584371,0,0,0,0,0,0,0,0.47386724,0,0,0,0,0,0,0,0,0,0,0,0,0,0,0,0,0,0,0,0,0,0,0,0,0,0,0,0,0,0.10468575,0,0,0,0,0,0,0,0,0,0,0.021260157,0,0,0.10195296,0,0,0,0,0,0,0,0,0,0,0,1.0117244,0,0,0,0,0,0.49410966,0,0,0,0,0,0,0,0,0,0,0,0,0,0,0.42839926,0,0,0,0.72891194,0,0,0,0,0,0,0,0,0,0,0,0,0,0,0,0,0,0,0,0,0,0,0,0,0,0,0,0,0,0,0,0.0563043,0,0,0,0,0,0,0,0.57698315,0,0,0,0,0,0,0,0,0,0.044099495,0,0,0,0,0.27546585,0,0,0,0,0,0,0,0,0,0,0,0,0,0,0,0,0,0,0,0,0.3608828,2.1418605,0,0,0,0.7574387,0,0,0,0,0,0,0,0,0,0,0,0,0,0,0,0,0,0,0,0,0,0,0,0.7062905,0,0,0,0,0,0,0,0,0,0,0,0,0,0,0,0,0,0,0,0.50153136,0,0,0,0,0,0,0,0,0,0,0,0,0.64710736,0,0,0,0,0,0,0,0,1.4901704,0,0,0,0,0,0,0,0,0,0,0,0,0,0,0,0,0,0,0,0.6930062,0,0,0,0,0,0,0,0,0,0,0,0,0.90220594,0,0,0,0,0,0,0,0,1.0665299,0,0,0.5621568,0,0,0,0,0,0.5365465,0,0,0,0,0,0,0.18761306,0,0,0,0,0,0,0,0,0,0,0,0,0,0,0,0,1.311956,0,0.39398837,0,0,0,0,0,0,0,0,0,0,0,0,0,0,0,0,0,0,0,0,0,0,0,0,0,0,0,0,0,0,0,0,0,0,0.10111229,0,0,0,0,0,0,0.9177144,0,0,0,0,0,0,0.6099086,0,0.13325405,0,0,0,0,0,0,0,0,0,0,0.79270077,0,0,0,0.41190475,0.24136646,0,0,0,0,0,0,0,0,0,0,0,0,0,2.856727,0,0,0.41854542,0,0,0,0,0,0,0,0,0,0,0,0,0,0,0,0,0,0,0,0,0,0,0,0.2864359,0,0,0,0,0,0,0,0.44775623,0,0,0,0,0,0,0,0,0,0,0,0,0,0,0,0,0,0,0,0,0,0,0,1.178476,0,0,0,0,0,0,0.49314782,0,0,0,0,0,0,0,0,0,0,0,0,0,0,0,0,0.3222109,0,1.271135,0,0,0.008757867,0,0,0,0,0,0,0,0,0,0,0,0,0,0,0,0,0,0,0,0,0,0,0,0,0,0,0,0,0,0,0,0,0,0,0,0,0,0,0,0,0,0,0,0,0,0,0,0,0,0,0,0,0,0,0,0,0,0,1.3134851,0,0,0,0,0,0,0.2535464,0,0,0,0,0,3.1244318,0,0,0,0,0,0,0,1.9892087,0,0,0,0,1.3707497,0,0,0,0,0,0,0.17722937,0,0,0,0,0,1.6402527,0,0.99108076,0,0,0,0,0,0,0,0,0,0,0,0,0,0,0,0,0,0,0,2.05274,0,0,0,0,0,0,0,0,0,0,0,0,0,0,0.64059204,0,0,0,0,0,0,0,0,0,0,0,0,0,0.66449845,0,0.005665198,0,0,0,0,0,0,0,0.70255154,0,0,0,0.64858824,0,0,0,0,0,0,0,0,0,0,0,0,0,0,0,0,0,0,0,0,0,0,0,0,0,0,0,2.590028,0,0,0,0,0,0.2166459,0.07546221,0,0,0,0,1.3481692,0,0,0,1.1666964,0,0,2.1103568,0,0,0,0,0,0,0,0,0.61072326,0,0,0,0,0.7069523,0,0,0,0,0,0.7183977,0,0,0,0,0,0,0.5075891,0,1.0687501,0,0,0,0.72519445,0,0,0,0,0,0,0,0,0,0,0,0,0,0.006161645,0,0,0,0,0,0,0,0.87694466,0,0,0,0,0.18876222,0,0,0,0,0,0,0,0.16879249,0,0,0,0,0,0,0,0,0,0,0,0,0,0,0,0,0,0,0,0,0,0,0,0,0,0,0,0.6477732,0,0,0,0,0,0,0,0,0,0,0,0,0,0,0,0,0.80636144,0,0.77889556,0,0,0,0,0,0,0,0,0,0,0,0,0,0,0,0,0,0,0,0,0,0,0,0,0,0,0,0,0,0.5915965,0,0,0.14193618,1.011539,0,0,0,0,0,0,0,0,0,0,0,0.20845975,0,0,0,0,0,0,0,0.60764694,0,0,0,0,0,0,0,0,0,0.69419324,0.6361536,0.31515646,0,0,0.2727512,0,0,0,0,0,0,0,0,0.7943313,0,0,0,0,0,0,0,0,0,0,0,0,0,0,0,0,0,0,0.51228946,0,0,0,0,0,0,0,0,0,0,0.35662007,0.12511377,0,0.4269375,0,0.32278335,0,1.0557351,0,0,0,0,1.1888558,0.9862711,0,0,0.40857747,0,0,0.6675785,0,0,0,0,0.9031139,0,0,0,0,0,0,0,0,0,0,0,0,0,0,0,0.31245792,0,0,0,0,0,0,0,0,0,0,0,0,0,0,0,0,0,0,0,0,0,0,0,0,0,0,0,0,0.24141495,0,0,0,0,0,0,0,0,0.22841665,0,0,0,0,0,0,0,0,0,0,0,0.5838323,0,0,0,0,0,0,0,0,0,0,0,0,0,0,0,1.3799379,0.19057608,0,0,0,0,0,0,0,0,0,0,0,0,0,0,0,0,0,0,0,0,0.21226075,0,0.09466015,0,0,0,0,0,0,0,0,1.7433364,0,0,0,0,0,0,0,0,0,0,0,0,0.5225848,0,0,0,0,0,0.58258146,0,0,0,0,0,0,0,0,0,0,0,0,0,0,0,0,0,0,0,0,0,1.372887,0,0,0,0,0,0.5738807,0,0,0,0,0,0,0,0,0,0,0,0,0,0,0.5693333,0,0,0,0,1.7580867,0.08978711,0,0.74201167,0,0,0,0,0,0.7362233,0,0.040262826,0,0,0,0,0,0,0.34905404,0,0.8646043,0,0,0,0,0,0,0,0,0,0,0,0,0,0,0,0,0.68431,0,0,0,0,2.194927,0,0,0,0,0,0,0,0,0,0,0,0,0,0,0,0,0,0.27925575,0,0,0,0,0.0076205283,0,0,0,0.26824662,0,0,0,0,0,0,0,0,0,0,0,0,0,0,0,0,0,0,0,0,0,0,2.1971939,0.52730393,1.3013604,0,0.5394838,0,0,0.021703988,0,0,0,0,0,0,0.0004892424,0,0,0,0,0,0,0,0,0,0,0,0,0,0,0,0,0,0,0,0,0,0,0,0,0,0,0,0,2.4148293,0,0,0,0,0,0,1.8434012,0,0,0,0,0,0,0,0,0,0,0,0,0,0.64225453,0,0,0,0,0,0,0,0,0,0.3655701,0,0,0,0,0,0,0,0,0,0,0,0.10189319,0,0.27608573,0,0,0,0,0,0,0,0,0,0,0,0,0,0,0,0,0,0,0,0.42998084,0,0,0,0,0,0,0,0,0,0.66765535,0,0.13004681,0,0,0,0,0,0,0,0,0,0,0,0,0,0.50245017,0,0,0,0.6492297,0,0,0,0,0,0,0,0,0,0,0.04479073,0,0,0,0,0,0,0.048310596,0,0,2.8928092,0,0,0,0,0,0,0,0,0,0.33124566,0,0,0,0,0,0,0,0,0,0.16990334,0,0,0,0,0,0,0,0,0,0,0.9903377,0,1.4100586,0.106131755,0,0,0,0,0,0,0,0,0.22981243,0,0,0,0,0.09817836,0,0,0,0,0.83584267,0,0,0,0.71551114,0,0,0,0,0,0,0,0,0,0,0,0,0,0,0,0,0,0,0,0,0,0,0,0,0,0,0,0.20381244,0,0,0,0.10363351,0,0,0,0,0,0.4765457,0,0,0,0,0,0,0,0.147133,0,0.18728343,0,0,0,0,0,0,0,0,0,0,0,0,0,0,0,0,0,0,0,0,0,0,0,0,0,0,0,0,0,0,0,0,0,0,0,0,0,0.86083597,0,0,0,0,0,0,0,0.10310394,0,0,0,0,0,0,0.14807099,0,0,0,0,0,0.5434417,0,0,0,0,0.8245375,0,0,0,0,0,0,0,0,0,0,0,0,0,0.091043815,0,0,0,0,0,0,0,0,0,0,0,0,0,0,0,0,0,0,0.62677145,0,0,0,0,0,0,0,2.1990762,0.88885367,0,0.4464955,0,0,0,0,0,0,0,1.1457494,0,0.30572924,0,0,0,0,0,0,0,0,0,0,0,0,0.27362096,0,0,0.00013288856,0,0.8071436,0,0,0,0,0,0,0,0.5397813,0,0,0,0,0,0,0,0,0,0,0,0,0,0,0,0,0,0,0,0,0,0,0,0,0,0,0,0,0,0,0.34061882,0,0,0,0,0,0,1.3954943,0,0,0,0,0,0,0,0,0,0,0,0,0,0,0,0,0,0.027657282,0.4388225,0,0,0,0.8243885,0,0,0,0,0,0,0,0,0,0,0,0,0,0,0,0,0.14319868,0,0,0,0.2312385,0,0,0,0,0,0.48700765,0,0,0,0,0,0,0,0,0,0,0,0,0,0,0.29882124,0,0,0,0,0,0,0,0,0,0,0,0,0,0,0,0,0,0,0,0,0,0,0,0,0,0.065681614,0,0,0,0,0,0.6382216,0,0,0,0,0,0,0.5782144,0,0,0,0,0,0,0,0.7296409,0,0,0.84715664,1.1147093,0,0,0,0,0.41325003,0.35219288,0.43816978,0,0,0.38983986,0,0,0,0,0,0,0,0,0,0,0,0,0,0,0,0,0,0,0,0.5971587,0,0,0,0,0,0.09042688,0,0,0,0.19915925,0,0,0,0,0,0,0,0,0,0,0,0,0,0.43410727,0,0,0,0,0,0,0,0,0,0,0,0,0,0,0,0,0,0.6170233,0,0,0,0,0,0.0633212,0,0,0,0,0,0,0,0,0,0,0,0,0,0,0,0.10263879,0,0,0,0.2557282,0,0,0,0.4453899,0,0,0.75716513,0,0,0,0,0,0.106528156,0,0,0,0,0,0,0,0,0.60072386,0,0,0,0,0,0,0,0,0,0.46101934,0,0,0,0,0,1.0944873,0,0,0.74918234,0,0,0,0,0,0,0,0,0,0,0,0,0,0,0,0,0,0,0,0,0,0,0,0,0,0,0,0,0,0,0,0,0,0,0,0,0,0,0,0,0,0,0.18370767,0,0,0,0,0,0,0,0,0,0,0,0,0.5741874,0,1.4761589,0.24244314,0,0,0,0,0,0,0,0,0,0,0.30680326,0,0,0,0,0,0,0,0.7579383,0,0,0,0,0,0,0,0.09981355,0,0,0,0,0,0,0,0,0,0,0,0,0,0,0,0.3702188,0,0,0,0,0,0,0,0,0,0,0,0,0,0,0,0,0,0,0,0,0,0,0,0,0,0,0,0,0,2.4343376,0,0,0,0,0,0,0,0,0,0,0,0,0,0,0,0,0,0,0,1.2801465,0,0,0,0,0,0,0,0,0,0,0,0.16389857,0,0,0,0,0,0,0.013397634,0,0,0,0,0,0,0,0,0,0,0.031612452,0,0,0,0,0,0,0,0,0,0,0,0,0,0,0,0,0,0,0,0,0,0.15472877,0,0,0,0,0,0.3965662,0,0,0,0,0,0,0,0,0,0,0,0,0,0,0,0,0,0,0,0,1.1533651,0,0,0,0,0,0,0,0,0,0,0,0,0,0,0,0,0,0,0,0,0,0,0,0,0,0.93358535,0,0,0,0,0,0,0,0,0,0,0,0,0,0,0,0,0.30711067,0,0,0,0,0,0,0,0,0,0,0,0,0,0.12920016,0.000120289624,0,0,0,0,1.05217,0,0.46141315,1.0444955,0,0,0,0,0,0,0,0,0,0,0,0,0,0,0.15121013,0,0.0645988,0,0,0,0,0,0.32270807,0,0,0,1.1511043,0,0.35077634,0,0,0,0,0,0,0,0,0,0,0,0,0,0,0,0,0.33141506,0,0,0,0,0,0,0,0,0,1.3906424,0,0,0,0,0,0,0,0,0,0,0,0,0,0,0,0,0,0,0,0,0,0,0,0.33127457,0,0,0,0,0,0,0,0,0,0,1.147549,0,0,0.60565156,0,0,0,0,0,0.018422954,0.9624105,0,0,0,0,0,0,0,0,0,0,0,0,0,0,0,0,0,0,0,0,0,0,0.6051554,0,0,0,0,0,0,0,0,0,0,0,0,0.62927634,0,0,0,0,0,0,0,0,0,0,0,0,0,0,0,0,0,0,0,0,0,0,0,0,0,0,0,0,0,0,0,0,0,0,0,0,0,0,0,0,0,0,0,0,0,0,0,0,0,0,0,0,0,0,0,0,0,0,0,0,0,0,0,0,0,0,0,0,0,0,0.09378566,0,0,0,0,0,0,0,0,0,0,0,0,0,0,0,0,0,0,0,0,0,0,0,0,0,0,0,0,0,0,0,0.1830085,2.3978112,0,0,0,0.4939983,0,0,0,0,0,0,0,0,0,0,0,0,0,0,0,0,0,0,0,0,0,0,0,0.016532257,0,0,0,0,0,1.0539485,0,0,0,0.5279539,0,0,0,0,0,0,0,0,0,0,0,0,0,0,0,0,0,1.0309131,0,0,0,0.26297995,0,0,0.9860883,0,2.0089593,0,0,0,0,0,0,0,0,0,0,0,0,0,0,0,0.54712117,0,0,0,0,0,0,0,0,0,0,0,0,0,0,0.80929154,0,0,0,0,0,2.816154,0,0,0,0,0,0,0,0,0,0,0,0,0,0,0,0,0,0,0,0,0.6249242,0,0,0,0,0,0,0,0,0.1437804,0,0,0,0,0,0.5313345,0,0,0,0,0,0,0,0,0,0,0,0,0,0,0,0,0,0,0,0,0,1.4239545,0,0,0,0,0,0,0,0,0.39082152,0,0,0,0,0,0,1.0442734,0,0,0,0,0,0,0,0,0,2.2260923,0,0,0,0,0,0,0.74037945,1.3656932,0,2.0772305,0,0.7334534,0,0,0,0,0,0,0,0,0,1.4662206,0.05475977,0,0,0,0,0,0,1.6701703,0,0,0,0,0,0,0,0,0,0,0,0,0,0,0,0,0,0,0,0,0,0,0,0,0.23474595,0,0,0,0,0,0,0,0,0.7969314,0,0,0,0,0,0,0,0,0,0,0,0,0,0,0,0,0,0,0,0,1.3765552,0,0,0,0,0,0,0,0,0.53337383,0,0,0.53758556,0,0,0,0,0.5627287,0.22279721,0,0,0,0,0,0.11089739,0,1.9036257,0,0,0,0,0,0,0,0,0,0,0,0,0]',\n",
       "  'http://assets.myntassets.com/v1/images/style/properties/Sushilas-Women-Printed-Green-Kurta_c9347616597dbcbe6eca805e1677c269_images.jpg',\n",
       "  'Sushilas Women Printed Green Kurta',\n",
       "  22.291607,\n",
       "  'Kurtas'),\n",
       " (15187,\n",
       "  '[0,0,0,0,0,0,0,0,0,0,0,0,0,0,0,0,0,0,0,0,0,0,0,0,0,0,0,1.4808246,0,0,0,0.28760898,0,0,0,0.11382589,0.030045554,0,0,0,0,0,0,0,0,0,0,0,0,0,0,0,0,0,0,0,0,0,0.45107567,0,0,0,0,0,0,0,0,0,0,0,0.0080640875,0,0,0,0,0,0,0,0,0,0,0,0,0,0,0,0,0,0,0,0,0,0,0.7697261,0,0,0,0,0,0,0,0,0,0,0,0,0,0,0,0,0,0.04255625,0.655963,0,0,0,0,0,0,0,0.0069228485,0,0,0,0,0,0,0,0,0,0,0,0,0,0,0,0,0,0,0,0,0,0,0.1343967,0,0,0,0,0,0,0,0.6575787,0,0,0,0.6653361,0,0,0,0,0.21956883,0,0,0,0,0,0,0,0,0,0,0,0,0,0,0,0,0.28263968,0,0,0,0,0,0,0.9243047,0,0,0,0,0,0.19719139,0,0,1.3331367,0,0,0,0,0,0,0,0,0,0,0,0,0,0,0,0,0,0,0,0,0,0.68934697,0,0,0,0,0,0,0,1.7548888,0,0,0,0,0,0,0,0,0,0,0,0,0,0,0,0,0,0,0.14271507,0,0,0,0,0,0,0,0,0,0,0,0,0,0,0,0,0,0,0,0,0,0,0,0,0,0,0,0,0,0,0,0,0,0,0,0,0,0,0,0,0,0,0,0,0,0,0,0,0.25713384,0,1.1830922,0,0,0,0,0,0,0,0,0,0,0,0,0,0,0,0,0,0,0,0,0,0,0.19962797,0,0,0,0.5052361,0,0.52214235,0,0,0,0,0,0,0,0,0,0,0,0,0,0,0,0,0,0,0,0,0,0,2.9060092,0,0,0,0,0,0,0,0,0,0,0,0,0,0,1.0503864,0,0,0,0,0,0,0,0,0.29236573,0,0,0,0,0,0,0,0,0,0,0,0,1.2004901,0,0,0,0,0,0,0,0,0,0,0,0,0,0,0,0,0,0,0,0,0,0,0,0,0,0,0.12931143,0,0,0,0.41751647,1.9088985,0,0,0,0,0,0,0,2.4222677,0,0,0,0,0,0.709722,0,0.5345936,2.6036909,0,0,0,0,0,0,0,0.76890993,0,0,0,0,0,0,0,0,0,0,0,0,0,0,1.4994056,0,0,0,0,0,0,0,0,1.2874719,0.16064002,0,0,0,0,0,0,0,0,2.553675,0,0,0,0,0,1.0352077,0,0,0,0,0,0,0,0,0,0,0,0,0,0,0,0,0,0,0,0,0,0,0,0,0,0,0,0,0,0,0.38637716,0,0.043784566,0,0,0,0,0,0,0,0,0,0,0,0,0,0,0,2.3002758,0,1.4505547,0,1.0518731,0.507697,0.14599806,0,0,0,0,0,0,0,0,0,0,0,0,0,0,0,0,0,0,0,0.033179827,0,0,0,0,0,0,0,0,0,0,0,0,0,0.49894112,0.12572937,0,0,0,0,0,0,0,0,0,0,0,0.3915205,0,0,0,0,0,0,0,0,0,0,0,0,0,0,0,0,0,0.11976954,0,0,0,0,0.9365432,0,0,0,0,0,0,0,0,0.0071175024,0,0,0.35424682,0,0,0,0,0,0,0,1.3156787,0,0,0,0,0,0,0,0,0,0,0,0,1.3926404,0,0,0,0,0,0,0,0,0,0,0,0,0,0,0,0,0,0,0,0,0,0,0,0,0,1.497305,0,1.2488402,0,0,0,0,0,0,0,0,0,0,0,0,0,0,0,0,0,0,0,0,0,1.7366285,0,0,0,0,0,0,0,0,0,0,0,0,0,0,0,0,0,0,0,0,0,0,0,0,0,0,0,0,0,0,0,0,0,0,0,0.9261137,0,0,0,0,0,0,0,0,0,0.68623924,0.02124568,0,0,0,0,1.5382525,0.26991123,0,0,0,0,0,0,0,0,0,0,0,0.1788247,0,0,0.25036374,0,0,0,0,0.9313661,0,0,0.9161484,0,0,0,0,0,0,0,0,0,1.4668542,0,0,0,0,0,0.882607,0,0.6844535,0,1.5956616,0,0,0,0,0,0,0,1.2515742,0.0068700016,0.061494876,0,0,0,0,0.6900859,0,0,0,0,0,0,0,0,0.3212282,0,1.1650989,0,0,0,0,0,0,0,0,0,0,0,0.55661386,0,0,1.5186014,0,0,0,0,0,0,0,0,0,0,0,0,0,0,0,0,0,0,0,0,0,0,0,0,0,0,0,0,0,0,0,0,0,0,0,0,0,0,0,0.6149491,0,0,0,0,0,0,0,0,0,0,0,0,0,0,0,0,0,0,0,0,0,0,0,0,0,0,0,0,0,0,0,0,0,0,0,0,0,0,0,1.2260666,0,0,0,0,0,0,0,0,0,0,0,0,0,0,0,0,0,0,0,0,0,0,0,0,0,0,0,0,0,0,0,0,1.7252275,0,0.4887938,0,0.71006924,0,0,0,0,0,0,0,0,0,0,0,0,0,0,0,0,0,0,0,0,0,0,0,0,0,0,0,0.42486003,0,0,0,0,0,0,0,0,0,2.7774355,0,0,0,0,0.7848724,0,0,0,0,0,0,0.43563476,0,0,0,0,0,0,0,0.92706347,0,0,0,0,0.6401661,2.5959327,0,0.7053373,0,0.656343,0,0.6321993,0,0,0,0,0,0,0,0,0,0,0,0,0,0,0,0,0,0,0,0,0,0,0,0,0,0.7978898,0,0,0,0,0,0,0,0,0,0,0,0,0,0,0,0,0,0,0,0,0,0,0,0.8352195,0,0,0,0,0,0,0,0,0,0,0,0,0,0,0,0,0,0,0,0,0,0,0.8574418,0.82312936,0,1.1207688,0,0,0,0,0,0,0,0,0,0,0,0,0,0,0,0,0,0,0,0,0,0,2.5760713,0,0,0,0,0,0,0,0,0,0,0,0,0,0,0,0,0,0,0,0,0,0,0,0,0,0,0,0,0,0,0,0,0,0,0,0,0,0,1.1315445,0,0,0,0,0,0,0,0,0,0,0,0,0,0,0,0,0,0,0,0,0,0,0,0,0,0,0,0,0,0,0,0,0,0,0.5266754,1.9625785,0,0,0.70499176,0,0,0,0,0,0,0,0,0,0,0,0,0,0,0,0,0,0,0,0,0,0,0.13146119,0,0,0,1.6426066,0,0,0,0,0,0,0,0,0,0,0,0.13411972,0,0,0,0,0,0.33663082,0,0,0,0,1.4463929,0.28456226,0,0.59535354,1.0538824,0,0,0,0,0,0.09921952,0.68937993,0,0,0.6963755,0,0,0,0,0,0,0,0,0,0.06333619,0,0,0,0,0,0,0,0,0,0,0,0,0,0,0,0,0,0,0,0,0,0,0,0,0,0,0,0,0,0,0,0,0,0,0,0.8696966,0,0,0.12818241,0,0,0,0,0,0,0,0,0,0,0,0,0,0,0,0,0,0,0,0,0,0,0,0.8400247,0,0,0,0,0,0,0,1.0051316,0,0,0,0,0.34760857,0,0,0,0,0,0,0,0,0,0,0,0,0,0.61016756,0,0,0,0,0,0,0,0,0,0,0,0,0,0,0,0,0,0,0,0,0,0,0,0,0.6731085,0,0,0,0,1.6507638,0,0.7308418,0,0,0,0,0,0,0,0.9859154,0.34799984,0,0,0,0.9296315,0,0,0,0,0,0,0,0,0,0,0,0,0,0,0.17132384,0,0,0,0,0,0.13835949,0,0,0,0,0,0,0,0,0,0,0,0,0,0,0,0,0,0,0,0,0,0,0,0,0,0,0,0,0,0.7223991,0,0,0,0,0,0,0,0,0,0,0,0,0,0,0,0,0,0,0,0.026867278,0,0,0,0,0,0,0,0,0,0,0,0,0,0,0,0,0,0,0,0,0,0,0,0,0,0,0,0.5542577,0,0,2.9163349,0,0,1.0347542,0,0,0,0,0,0,0,0,0,0,0,0,0,0,0.09942215,0,0,0,0,0,0,0,0,0,0,0,0,0,0,0,0,0.6355318,0,0,0,0,1.4693509,0,0,0,0,0.5495879,0,0,0.098966554,0,0,0.31731784,0,0.100021005,0,0,0,0.024457425,0,0,0,0,0,0,0,0,0,0,0,0,2.3714108,0,0,0,0,0,0,0,0,0,0.43816984,0,0,0,0,0,0,0,0,0,0,0,0,0,0,0,0,0,0,0,0,0,0,0,0.32008153,0,0,1.2018411,0,0,0,0,0,0,0,0,0,0,0,0,0,0,0,0,0,0,0,0,0,0,0,0,0,0,0,0.26604214,0,0,0,0,0,0,0,0,0,0,0,0,0,0,0,0,0,0,0,0,2.3268752,0,0,0,0,0.6727822,0,0,0,0,0,0,0,0,0,0,0,0,0,0,1.2252562,0,0,0,0,0,0,0,0,0,0,0,0,0.7261001,0,0,0,0.32696903,0,0,0,0,0,0.36663073,0,0,0,0,0,0,0,0.26107937,0,0,0,0.76262355,0,0.40143794,0,0,0,0,0,1.0457361,0,0,0,0,0,0,0,0,0,0,0,0,0,0,0,0,0,0,0,0,0,0,0,0,0,0,0,0,0,0,0,1.1061358,0,0.4786954,0,0,0,0,0,0,0,0,0,0,0,0,0.13171084,0,0,0,0,0,0,0,0,0,0,0,0.34344932,0,0,0,0,0,0,0,0,0,0,0.05255326,0,0,0,0,0,0,0,0,0,0,0,0,0,0,0,0,0,0,0,0,0,0,0,0,0,0,0,0,0,0,0,0.03926693,0,0,0,0,0,0,0,0,0,0,0,0,0,0,0,0,0,0,0,0,0,0,0,0,0,0,0,0,0,0,0,0,0,2.3191667,0,0,0,0,0,0,0,0,0,0,0,0,0,0,0,0,0,0,0,0,0,0,0,0,0,0,0,0,0,0,0,0,0,0,0,0,0,0,0,0,0,0,0,0,0,0.86544555,0,0,0,0,0,0,1.3028262,0.22506815,0,0,0,0,0,0,0,0,0,0,0,0,0,0,0,0,0,0,0,0,0,0.19002146,0,0,0,0,1.7691302,0,0,0,0,0,0,0,0,0,0,0,0,0,0,0,0,0,0,0,0,0,0,0,0,0,0,0,0,0,0,0,0,0,0,0,0,0,0,0,0,0,0,0,0,0,0,0,0,0,0,0,0,0,0,0,0,0,0,0.06339569,0,0,0,0,0,0,0,0,0,0,0,2.4460347,0,0,0,0,0,0,0,0,0,0,0,1.8290333,0,0,0,1.1754867,0,0,1.615212,0,0,0,0,0,0,0,0,0,0,0,0,0,1.5761074,0,0,0,0,0,0,0,0,0,0,0.17386872,0,0.31570593,0,0.81826824,0,0,0.66702366,1.3464562,0,0,0,0,0,0,0,0,0,0,0,0,0,0,0.0123028755,0,0,0,0,0,0,0.24738128,0,0,0,0,0,0.5970599,1.1088946,0,0,0,0,0,0,0,0,0,0,0,0.36789066,0,0,0,0,0,0,0,0,0,0,0,0,0,0,0,0,0,0,0,0,0,0,0,0,0,0.6091879,0,0,0,0,0,0,0,0,0,0,0,0,1.0010127,0,0,0,0,0,0,0,0,0,0,0,0,0,0,0,0,0,0,0,0,0,0,0,0,0,0,0,0,0,0,0,0,0,0,0,1.6505136,0.034146205,0,0,0,0,0,0.9150996,0,0,0,0,0,0.20899114,0,0,0,0,0,0,1.3466586,0,0,0,0,0,0,0,0,0,0,0,0,0,0,0,0,0,0,0,0,0,0,0,0.3935666,0,0,0,0,0,0,0,0,0,0,0,0,0,0,0,0,0,0,0,0,0,0,0,0,0,0,0,0,0,0,0.8303323,0,1.2359711,0,0.2746049,0,0,0,0,0,0,0,1.1418388,0,0,1.4248719,0,0,0,0,0,0,0,0,0,0,0,0.03363405,0,0,0,0,0,0,0,0,0,0,0,0,0,0,0,0,0,0,0,0,0.59919727,0,0,0,0,0,0,0,0,0,0,0,0,0,0,0,0,1.7730138,0,0,0,0,0,0,0,0,0,0,0,0.38130364,0,0,0,0,0,0,0,0,0,0,0,0,0,0,0,0,0,0,0,0,0,0,0,0,0,0,0,0,0,1.0241928,0,0,0,0,0,0,0,0,0,0,0,0,0,0,0,0,0,0,0,0,0,0,0,0,0,0,0,0,0,0,1.7459486,0,0,0.36807463,0,0,0,0,0,0,0,0.21721077,0,0,0,0,0,0,0.5175099,0.7794062,0,0,0,0,0,0,0,0,0,0,0,0,0,0,0,0.87927234,0,0,0,0,0,0,0,0,0,0,0,0.5741433,0,0,0,0,0.41400823,0,0,0,1.8307521,0,0,0,0,0,0,0,2.3054724,0,0,0,0,0,0,1.3507005,0,0,0,0,1.7450867,0,0,0,0,0,0,0,0,0,0,0,0,0,0,0,0,0,0,0,0,0,0,0,0,0,0,0,0,0,0,0,0,2.9670455,0,0,0,1.9109961,0,0,0,0,0,0,0,0,0,0,0,0,0,0,0,0,0,0,0,0,0,0,0.55680156,0,2.415053,0,0.72695357,0,0,0,0.43345207,0,0,0,0,0,0,0,0,0,0,0,0,0,0,1.3503951,0,1.0740047,0,0,0,0.96686345,0,0,0,0,0,0,0,0.7350767,0,0,0,0,0,0,0,0,0,0,0,0,0,0,0,0,0.57015395,0,0.0019580126,0,0,0,0,0,0,0,0,0,0,0,0,0,0.124818064,0,0,0.2491714,0,0,0,0,0,0,0,0,0,0,0,0,0,0,0,0,0,0,0,0,0,1.0308797,0,0,0,0,0.23555993,0,0,0,0,0,0,0,0,0,0,0,0,0,0,0,0,0,0,0,0.2222265,0,0,1.2206337,0,0,0,0,0,0,0,0.52405965,0,0,0,0,0,0.53775,0.7673864,0.4163079,0,0.44376403,0,0,0,0,0,0,0,0,0,0,0,0,1.9515365,0,0,0.9138602,0,0,0,0,0,0.6688961,0,0,0,0,0,0,0,0,0,0,0,0,0,0,0,0,0,0,0,0,0,0,0,0,0,0,0,0,0,0,0,0,0,0,0,0,0,0,0,0,0,0,0,0,0,0,0.43169242,0,0,0.9244038,0,0.36462864,0,0,0,0,0,0,0,0,0,0,1.1438001,0,0,0,0,1.4583571,0,0,0,0,0,0,0,0,0,0,0,0,0,0,0,0,0,0,0,0,0,0,0,0,0,0,0,0,0,0,0,0,0,0,0,0,0,0,0.12876211,0,0,0.80268323,0,0,0,1.6362493,0,0,0,0,0,0,0,0,0,0,0,0,0,0,0,0,0,0,0,0,0,0,0.114925295,0,0,0,0,0,0,0,0,0,0,0,0,0,0,0,0,0,0,0.05010003,0,0,0,0,0,0,0,0.52822226,0,0,0,0,0,0,0,0,0,0.1863583,0,0,0.56770384,0,0,0,0,0,0,0,0,0,0,0,0,0,0,0,0,0,0,0,0,0,0,0,0,0,0,0,0,0,0,0,0,0,0.86390215,0,0,0,0,0,0,0,0,0,1.500742,0,0,0,0,0,0,0,2.2533498,1.0411493,0,0,0,0,0,0,0,0,0,0,0,0,1.4349353,0,0,0,0,0,0,0,0,0,0.2922463,0,0,0,0,0,0,0.099681176,0,0,0,0,0,0,0,0,0,0,0,0,0,0,0,0,0,0,0,0,1.2053962,0,0,0,0,0,0,0,0,0,0,0,0,0,0,0,0,0,0.09857612,0,0,0,0,0,0,0,0.2953964,0,0,0,0,0,0,0,0,0,0,0,0,0,0,0,0,0,0,0,0,0,0,0,0,0,0,0,0,0,1.7253473,0,0,0,0,0,0,0,0,0,0,0,0,0,0,0,0,0,0,0,0,0,0,0,0,0,0,0,0,0,0,0,0,0.94818664,0,0,0,0,0,0,0,0,0,0,0,0,0,0,0,0,0,0,0,0,0,0,0,0,0,0,0,0,0,0,0,0,0,0,0,0.08637624,0,0.65612864,0,0.5705139,0,0,0,0,0,0,0,1.0887713,0,0,0.46099475,0,0,0,0,0,0,0,0,0,0,0,0.8485508,0,0,0,0,0,0,0,0,0,0,0,0,0,0,0,0,0,0,0.46604267,0,0,0,0,0,0,0,0,0,0,0,0,0,0,0.010113791,0,0,0,0,0,0,0,0,0,0,0,0,0,0,0,0,0,0,0,0,0,0,0,0,0,0,0,0,0,0,0,0,0,0,0,0,0.36781695,0,0,0,0,0,0,0,0,0,0,0,0.8930033,0,0,0,0,0,0,0,0.26556644,0,0,0.17231224,0,0,0,0,0,0,0,0,0,0,0,0,0,0,0,0,0,0,0,0,0,0,0,0,0,0,0.7593634,0.4008339,0,0,0,0,0,0,0,0,0,0,0,0,0,0,0,0,0,0,0,0,0,0,0,0,0,0,0,0,0,0,0,0,0,0,0,0,0,0,0,0,0,0,0,0,0,0,0,0,0,1.2168796,0,0,0,0,0,0,0,0,0,0,0,0,0,1.0517501,0.0005808808,0,0,0,0,0,0,0,0,0,0,0.4720781,0,0,0,0,0,0.14143136,0,0,0,0,0,0,0,0,0,0,0,0,0,0,0,0,0,0,0,0,0,0,0,0,0,0.046999022,0,0,0,0,0,0,0,0,0,0,0,0,0,0,0,0,0,0,0,0,0,0,0,0,0,0,0,0,1.2337247,0,0,0,0,0,0,0,0,0,0,0,0,0,0.7204818,0,0,0,0.47061542,0,0.9555519,0,0,0,0,0,0,0,0,0,0,0,0,0,0,0,0,0,0,0,0,0,0,0,1.0158236,0,0.5552792,0,0,0,0,0,0,0,0,0,0,0,0,0,0,0.22185141,0,0,0,0,0,0,0,0,0,0,0,0.18937056,0,0,0,0,0,0,0,0,0,0,1.2179691,0,0,0,0,0,0,0,0,0,0,0,0,0,0,0,0,0,0,0,0,0,0,1.389901,0,0,0,0,0,0,0,0,0,0,0,0.26694593,0,0,0,0,0,1.7789046,0.37753212,0,0,0,0,0,0,0,0,0,0,0,0,0,0,0,0,1.6059179,0,0,0,0,0,0,0,0,0,0,0,0,0,1.0414984,0.9997987,0,0,0,0.7436364,0,0,1.0516015,0.877695,0,0,0,0,0,0,0,0,0,0,0,0,0,0,0,0,0,0,0.031084359,0,0,0,0,0.076119065,0,0,0,0,0,0,0,0,0,0,0,0,0.15616801,0,0,0,0,0,0,0,0,0,0,0,0,0,0,0,0,0,0,0,0,0,0,0,0,0.25086623,0,0,0,0,0,0,0,0,0,0,0,0,0,0,0,0,0,0.71450645,0,0,0,0,0,0,0,0,0,0,0.61358345,0,0,1.8418102,0,0,0,0,0,0.41244337,0,0,0,0,0,0,0,0,0,0,0,0,0,0,0,0,0,0,0,0,0,0,0,1.3350663,0.08055785,0,0.7863009,0,0,0,0,0,0,0,0,0,0,0,0,0,0,0,0,0,0,0,0,0,0,0.73112667,0,0,0,0,0,0,0,0,0,0,0,0,0,0,0,0,0,0,0,0,0,0,0,0,0,0,0,0,0,0,0,0,0,0,0,0,0,0,0,0,0,0,0,0,0,1.5300304,0,0,0,0,0,0,0,0,0,0,0,0.062299263,0,0,0,0,0,0,1.9094455,0,0,0,0,0,0,0,0,0,0,0,0,0,0,0,0,0,0,0,0,0,0,0,0,0,2.8588927,0,0,0,0.15136164,0,0,0,0,0,0,0,0,1.0177063,1.0560164,0,0,0,0,0,0,0,0,0,0,0,0,0,0.9675187,0,0,0,0,0,0,0,0,0,0.17304759,0,0,0,0,0,0,0,0.7668785,0,0,0,0,0,0,1.3734002,0,0,1.1303421,0,0,0,0,0,0,0,0,2.7310212,0,0,0,0,0,0,0,0,0,0,0,0,0,0,0,0,0,0,0,0,0,0,0,0,0,0,0,0,0,0,0.40206113,0,0,0,0,0,3.5985737,0,0,0,0,1.4392626,0,0,0,0,0,0,0,0,0.15194978,0,0,0,0,0,0,0,0,0,0,0,0,0,0,0,0,0,0,0,0,0,0,0,0.6017875,0,0,0,0.08542077,0,0,0,0,0,0,0,0,0,0,0,0.98370415,0,0,0,1.5578451,0,0,0,0,0,0,0,0,0,0,0,0,0,0,0,0,0.33884993,0,0,0,0,0,0,0,0,2.2334483,0,0,0,0,0,0,0,0,0,1.6544282,0,0,0,0,0,0,0,0,0,0.28801587,0,0,0.7841954,0,0,0,0,0,0,0,0,0,0,1.3315444,0,0,0,0,0,0,0,0,0,0,2.4859798,0,0,0,0,0,0,0,0,0,0,0,0,0,0,0,0,0,0,0.071144804,0.57275444,0,0,0,0,0,0,0,0,0.34285337,0,0,0,0,0,0,0,0,0,0,0,0,1.2268227,0,0,2.045612,0,0,0,0,0,0,0,0,0,0,0,0,0,0,0,0,0,0,0,0,2.2372894,0,1.0856067,0,0,0,0,0,0,0,0,0,0,0]',\n",
       "  'http://assets.myntassets.com/v1/images/style/properties/10d750eb60726aff0c78cd599a20e0ab_images.jpg',\n",
       "  'Arrow Sport Men Solid White Polo Tshirts',\n",
       "  187.0435,\n",
       "  'Tshirts'),\n",
       " (3533,\n",
       "  '[0.11855788,0,0,0,0,0,0,0,0,0,0,0,0,0,0,0,0,0,0,0,0,0,0,0.14714967,0,0,0,0,0,0,0,0,0,0,0,0,0,2.029572,0,0,0,0,0,0,0,0,0,0,0,0,0,0,0,0,2.5674841,0,0,0,0.44274643,0,0,0,0,0,0,0,0,0,0,0,0,0,0,0,0,0,0,0,0,0,0,0,0,0,0,0,0,0.5115435,0,0,0,0.33429325,0,1.5583285,0,0,0,0.29041237,0,0,0,0,0,0,0,0,0,0,0,0,0,1.0195258,0,0,0,0,0,0,0,0,0,0,0,0,0,0,0,0,0,0,0,0,0,0,0,0,0,0,0,0,0,0.07843861,0,0,0,0,0,0,0,0,0,0.04437066,0,0,0,0.3111052,0,0,0,0,0.23986787,0,0,0,0,0,0,0,0,0,0,0,0,0,0,0,0,0,0,0,0,0,0,0,0.608458,0,0,0,0,0,0.9640915,0,0,0,0,0,0,0,0,0,0,0,0,0,0,0,0,0,0,0,0,0,0,0,0,0,2.5148401,0,0,0,0,0,0,0.7545715,0,0,0,0,0,0,1.0777688,0,0,0,0,0,0,0,0,0,0.64719045,0,0,0,0,0,0.018695451,0,0,0,0,0,0,0,0,0,0,0,0,0.20544414,0,0,0,0,0,0,0,0,0,0,0,0,0,0,0,0,0,0,0,0,0.7026452,2.1266813,0,0,0,0,0,0,0,0,0,0,0,0,0,0,0,0.24708891,0,0,0,0,0,0,0,0,0,0,0,0,0,0,0,0,0,0,0.15886238,0,0,0,0,0,0,0,0,0,0,0,0,0,0,0,0,0,0,0,0,0,0,0,0,0,0,0,0,2.2224844,0,0,0,0,0,0,0,0,0,0,1.6165001,0,0,0,0,0,0,0,0,0,0,0,0,0,0,0,0,0,0,0,0,0,0,0,0,0,0,0,0,0,0,0,0,0,0,0,0,0,0,0,0,0,0.2652074,0,0,0,0,0,0,0,0,0,0,0,0,0,0,0.51544106,0,0,0,0,0,0,0,0,0,0,0,0,0,0,0.5545874,0,0,2.0212045,0,0,0,0,0,0,0,0,0,0,0,0,0,0,0,0,0,0,0,0,0,0,0,0,0,0,0,0,0,0,0,0.8743089,0,0,0,0,0,0,0,0,0,0,0,0,0,0,0,0.6812659,0,0,0,0,0,0,0,0.41066068,0,0,0,0,0,0,0,0,0,1.6349547,0,0,0,0,0,0,0,1.0170639,0,0,0,0,0,0,0,0,0,0,0,0,0,0,0,0,0,0,0,0,0,0,1.5732825,0,1.5606142,0,0.2325335,0.46794796,0,0.059177704,0,0,0,0,0,0,0,0,0,0,0,0,0,0,0,0,0,0,0,0,0,0,0,0.38209218,0,0,0,0,0,0,0.6903795,0,0.033235066,0,0,0,0,0,0,0,0,0,0,0,0,0,0,0,0,0,0,0,0,1.8581715,0,0,0,0,0,0,0,0,0,1.0936341,0,0,0,0,0,0,0,0,0,0,0,0,0,0,0,0.724227,0,0,0,0,0,0,0,0,0.16261235,0,0,0,0,0.10429068,0,0,0,0,0,0,0,0,0,0,0,0,0,0.51139694,0,0,0,0,0,0,2.1264389,0,0,0,0,0,0,0,0,0,0,0.07434041,0,0.6694455,0,0,0,0,0,0,0,0,0,0,0,0,0,0,0,0,0,0,0,0,0,0,0,0,0,0,0,0,0,0,0,0,0,0,0.21910286,0,0,0,0,0,0,0,0,0,0,0,0.9455012,0,0,0,0,0,0,0,0,0,0,0,0,0,0,0,0,0,0,0,0,0,0,0,0,0,0,0,0,1.6278844,0,0,0,0,0.8380901,0,0,0,0,0,0,0,0,0.31852627,0,0,0,0,0,0,0,0,0,0.17750803,0,0,0,1.2482224,0,0,0,0,0,0,0,0,0,0,0,0,0,0.24801844,0,0,0,0,0,0,0,0,0,1.2772542,0,0,0,0,0,0,0,0,0,0,0,0,0.22598842,0,0,0,0,0,0,0,0,0,0,0,0,0,0,0,0,0,0,0,0.6232,0,0,0,0,0,0,0,0,0,0,0,0,0,0,0,0,0,0,0,0,0,0,0,0,0,0,0,0,0,0,0,0,0,0,0,0,0,0,0,0,0,0,0,0,0,0,0,0,0,0,0,0,0.29543716,0,0,0,0,0,0,0,0,0,0.66697997,0,0,0,0,0,0,0,0,0,0,0,0,0,0,0,0,0,0,0,0,0,0,0,0,0,0,0,0,0,0,0,0,0,0,0,0,0,0,0,0,0,0,0,0,0,0,0,0,0,2.2039785,0,0,0,0,0,0,0,0,0.66165,0,0,1.3058014,0,0,2.8854089,0,0,0,0,0,0,0,0,0,0,0,0,0,0,0,0,0,0,0,0.39835614,0,0,0,0,0,0,2.6658075,0,0,0,0,0.80541646,0,0,0,0,1.3854262,0,0.8004626,0,0,0.843493,0.08924897,0,0,0,0.8776982,0,0,0,0,2.9567852,0,1.7116207,0,0,0,0,0,0,0,0,0.14521277,0.47455582,0,0,0,0,0,0,1.1015353,0.24203059,0,0,0,0,0,0,0,0,0,0,0.17512351,0,0,0.74866897,0,0,0,0,0,0,0,0,0,0,0,0,0,0,0,0,0,0,0,0,0,0,0,0,0,0,0,0,1.4822941,0,0,0,0,0,0.3781491,0,0,0,0,0,0,0,0,0.23606104,0,0,0.16133416,0,0,0,0,0,0,0,0,0,0,0,0,0,1.2077296,0,0,0,0,0.112347394,0,0,0,0,0,2.293579,0,0,0,0,0,0,0,0,0,0,0,0,0,0,0,0.04800412,0,0,0,0,0,0,0,0,0,0,0,0,0,0,0,0.89071465,0.22246097,0,0,0,0,0,0,0,0,0,0,0.039198227,0.18659264,0,0,0,0,0,0.3655501,0,0,0,0,0,0,0,0.19144966,0,0,0,0,0,0,0,0,0,0,0,0,0,0,0.358248,0,0,0,0,0,0.11685267,0,0,0,0,0,0,0,0,0,0,0.96063805,0,0,0,0,0,0.04286831,0,0,0.43001068,0,0,0,0,2.1381185,0,0,0,0,0,0,0,0,0,0,0,0,0,0,0,0,0.647186,0.3486639,0,0,0,0,0.9689643,0,0,0.4362033,0,0,0,0,0,0,0,0,0.7016643,0,0,0,0,0,0,0.7368479,0,0,0,0,0,0,0,0,0,0,0,0,0,0,0,0,0,0,0,0,0,0,0,0,0,0,0,1.7730594,0,0,0,0,0,1.0889698,0,0,0,0,0,0,0,0,0,0,0,0,0,0,0,0,0,0,0,0,0,0,0,0,0,0,0,0,0,0,0,0,0.06525547,0.15664414,0,0,0,0,0,0,0,0.10921163,0,0.42193758,0,0,1.671894,0,0,0,0,0,0,0,0,0,0,0,0,0,0,0,0,0,0,0,0,0,0,0,0,0,0,0.14520763,0,0,0,0,0,0,0,0,0.82242507,0,0,0,0,0,0,0,2.2383425,0,0,0,0,0,0,0,0,0,0,0,0,0,0,0,0,0,0.26823926,0,0,0,0,0,0,0,0,0,0,0,0,0,1.2798082,0,0.17263806,0,0,0,0,0,0.08765656,0,0,0,0.34695607,0,0,0,0,0,0,0,0,0,0,0,0,0,0,0,0,0,0,0,0,0,0,0,0,0,0,0,0,0,0,0,0,0,0,0,0,0,0,0,0,0,0,0,0,0,0,0,0,0,0,0,0,0,0,0,0,0,0.0791648,0,0,0,0,0,0,0,0,0,0,0.36455473,0,0,0.79290354,0,0,0,0.59994113,0,0,0,0,0,0,0.07725103,0,0,0,0,0,0,0,0,0,0,0,0,0,0,0,0.7500744,0,2.2648158,0,1.1118745,0,0,0,0,0,0,0,0,0,1.7397488,0,0,0,0,0,0,0,0,0,0.10515299,0,0,0.11381477,0,0,0.09472369,0,0,0,0.7456526,0,0,0,0,0,0.25860345,0,0,0,0,0,0,0,0,0,0,0,0,0,0,0,0,0,0,0,0,0,0,0,0,0,0,0,0,0,0.6953584,0,0,0,0,0,0,0,0.56697506,0,0,0,0,0,0,0,0,0,0,0,0,0,0,0,0,0,0,0,0,0,0,0,0.20118888,0,0,0,0,0,0,0,0,0,0,0,0,0,0,0,0,0,0,0,0,0,0,0,0,0,0,0,2.4642384,0,0,0,0,0.5157766,0,0,0,0,0,0,0,0,0,0,0,0,0,0,0,0,0,0,0,0,0,0,0,0,0,0,0,0,0,0,0,0,0,0,0.1684146,0,0,0,0,0,0,0,0,0,0,1.4197291,0,0,0,0.8152158,0,0.8262409,0,0,0,0,0,0,0,0,0,0,0,0,0,0,1.8636913,0,0.6684405,0.14302547,0,0,0,0,0,0,0,0,0,0,0,0,0,0,0,0,0,0,0,1.0815866,0,0,0,0.38698274,0,0,0,0,0,0,0,0,0,0,0,0,0,0,0,0,0,0,0,0,0,0,0,0,0,0,0,0,0,0,0,0,0.31670117,0,0,0,0,0,0,0,0,0,0,0,0,0,0,0,0,0,0,0,0,0,0,0,0,1.2144619,0,0,0,0,0,0,0,0,0,0,0,0,0,0,0,1.655988,0,0,0,0.89790595,0,0,0,0.66039133,0,0,0,0,0,0,0,0,0,0,0,0,0,0,0,0,0,0,1.2655431,0,0,0,0,0,0,0,0.0031057745,0,0,0,0,0,0,0,0,0,0,1.0220106,0.8741262,0,0,0,0,0,0,0,0,0,0,0,2.997711,0,0,0,0,0,0,0,1.0670286,0,0.34719953,0,0,1.1097178,0,0,0,0,0,0,0.6440139,0,0,0,0,0,0,0,0,0,0,0,0,0,0,0,0,0,0,0,0,0,0,0,0,0,0,0,0,0,0.6707896,0,0,0,0,0,0,0,0,0,0,0,0,0,0,0,0,0,0,0,0,0,0,0,0,0,0.43324512,0.34834856,0,0,0,0,0,0.77053916,0,0,0,0.27780867,0,0,0,0,0,0,0,0,0,0,0,0,0,0,0,0.10831241,0,0,0.80310667,0,0,0,0,0,0,0,0,0,0,0,0,0.7076655,0,0,0,0,0,0,0,0,0,1.9774724,0.20485678,1.9644401,0,0,0,0,0,0,2.2360919,0.22782663,0,0,0,0,0,0,0,0,0,0,0,0,0,0,0,0,0,0,0.86010605,0,0,0,0,0,0,0,0,1.3353704,0,0,0,0,0,0,0,0,0,0,0,0,0,0,0,0,0,0,0.07985756,0,0,0,0,0,0.26708132,0,0,0,0,0,0,0,1.7253742,0,0,0,0,0.0282318,0,0,0.18194793,0.43634948,0.10788807,0,1.020397,0,0,0,0,0,0,0,0.53488606,0,0,0,0,0,0,0,0,0,0,0,0,0,0.1924029,0,0,0,1.3983552,0,0,0,0,0,0,0,0,0,0,0,0,0,0,0,0,0,0,0,0,0,0,0,0,0,0,0,0,0,0,0,0,0,0,0,0,0,0,0,0,0,0,0,0,0,0,0,0,0.8300857,0,0,0,0,0,0,0,0,0,0,0,1.0063136,0.2629792,0,0,0,0,0,0,0,0,0,0,0,0,0,0,0,0,0,2.2550786,0,0,0,0,0,0,0,0,0,0,0,0,0,0,0,0,0,0,0,0,0,0,0,0,0,0,0,0,0,0,0,0,0,0,0,0,0,0.5151424,0,0,0,0,1.6034667,0,0,0,0,0,0,0,0,0,0,1.0656378,0.3461041,0,0.17332636,0,0,0.13334003,0,1.311831,0,0,0,0,0,0,0,0,0,0,0,0,0,0,0,0,0,0,0,0,0,0,0,0,0,1.797396,0,1.5873655,0,0,0.10964683,0,0,0,0,0,0,0,0,0,0,0,0,0,0,0,1.9867057,0,0,0.31796917,0,0,0,0,0,0,0.495129,0,0,0,0,0,0,0,0,0,0,0,0,0,0,0,0,0,0,0,0,0,0,0,0,0.5104044,0,0,0,0,0,0,0.88211256,0,0,0,0,0,0,0,0,0,0,0,0,0,0,0,0,0,0,0,0,0,0,0,0,0,0,0,0,0,0,0.8981346,0,0,0.7381644,0,0,0.28919137,0,0,0,0,0.63278913,0,0.7860906,0,0,0,0,0,0,0,0,0,0,0,0,0,0,0,0,0,0,0,0,0.16700429,0,0,0,0,0,0,0,0,0,0,0,0,0,0,0,0,0,0.47914955,0,0,0,0,0,0,0,0,0,0,0,0.1800102,0,0,1.7558794,0,0,2.078088,0,0,0,0,0,0,0,0,0,0,0,0,0,0,0,0.32689267,2.1036847,0,0,0,0,0,0,0,0,0,0,0,0,0,0,0.7045301,0,0.11228309,0,0,0,0,0,0,0,1.3237011,0,0,0,0,0,0,0,0,0,0,0,0,0,0,0,0,0,0,0,0,0,0,0,0,0,1.8476946,0,0,0,0,0,0,0,0,0,0,0,0,0,0,0,0,0,0,0,0,0.9062867,0,0,0,0,0,0,0,0,0,0,0,0,0,0,0,0,0,0,0,1.0916504,0,0,0,0.19827826,0,0,0,0,0.2883317,0,0,0,0,0,0,0,0,0,0,0,0,0,0,0,0,0,0.18032306,0,0,1.5027928,0,0,0,0,0,0,0,0,0,0,0,0,0,0,0,0,0,0,0,0,0,0,0,0,0,0,0,0,0,0,0,0,0,0,0,0,0,0,0,0,1.5830312,0,0,0,0,0,0,0,0,0,0,0,0,0,0.4209288,0,0,0.061050206,0,0,0,0,0,0,0,0,0,0,0,0.07864782,0,0,0,0,0,0,0,0,0,0,0,0,0,0,0,0,0,0,0,0,0,0,0,0,0,0,0,0,0,0,0,0,0,0,0,0,0,0,0,0,0,0,0,0,0,0,0,0,0,0,0,0,0,0,0,0,0.5706227,0,0,0,0,0,0,0,0,0,0,0,0,1.2240272,0,0.01549574,0,0,0,0,0,0,0,0,0,0.8411745,0,0,0,0,0,0.92660713,0,0,0,0,0,0,0,0,0,0,0,0,0,0,0,0,0,0,0,0,0,0,0,0,0,0,0,0,0,0,0,0,0,0,0,0.74473673,0,0,0,0,0,1.0828866,0,0,0,0,0,0,0,0,0,0.14586079,0,0,0,0,0,0,0,0,0,0,0,0,0,0,0,0,0,0,0,0.41424453,0,0,0,0,0,0,0,0,0,0,0,0,0,0,0,0,0,0,0,0,0,0,0,0.2285515,0,0,0,0,0,0,0,0,0,0,0,0,0.80454004,0,0,0,0,0,0,0,0,0,0,1.6541846,0,0,0,0,0,0,0,0,0,0,0,0,0,0,0,1.9091998,0,0,0,0,0,0,1.1616389,0,0,0,0,0,0,0,0,0,1.4753339,0,0,0,0,0,0,0,2.0687337,2.1697497,0,0,0,0,0,0,0,0,0,0.37325105,0.5300479,0,0.36770007,0,0,0,0,0,0,0,0,0,0,0,0,0,0,0,0,0,0,0,0,0,0,0,0.11825856,0,0,0,0,0,0,0,0,0.79626626,0,0,0,0,1.4894284,0,0,0,0,0,0,0,0,0,1.3112688,0,0,0,0,0,0,0,0,0,0,0,0,0,0,0,0,0,0,0,0,0,0,0,0,0,0,0,0.740994,0,0,0,0.93107027,0.764368,0,0,0,0,0,0,0,0,0,0,0,0,0,0,0,0,0,0,0,0,0,0,0,0,0,0,0,0,0,0,0,0,0,0,0,0.09789922,0,0,0,0,0,0.028041944,0,0,0,0.5345943,1.0236835,0,0,0,0,0,0,0,0,0,0,0,0,0,0,0,0,0,0,0,0,0,0,0,0,0,0,0,0,0,0,0,0,0,0,0.3195801,0,0,0,0,0,0,1.0210032,0,0,0,0,0,0,0,0,0,0,0,0,0,0,0,0,0,0,0,0,0,0,0,0,0,0,0,0,0,0,0,0,0,0,0,0,0,0,0.71218586,0,0,0,0,0,0.56496614,0.06508693,0,0,0,0,0,0,0,0.06969586,0,0,0,0,0,0,0,0,0.2754352,0,0,0,0,0,0,0,0,0,0,0,0,0,0,0,0,0,0,0,0,0,0,0,0,0,0,0,0,0,0,0,0,0,0,0,0,0,0,0,0.4580824,0,0,0,0,0,0,0,0.010336183,0,0,0,0,0,0,0,0,0.35352167,0,0,0,0,0,0,0,0,0,0,0,0,0,0,0,0.43275923,0,0,0,0,0,0,0,0,1.6020879,0,0,0.91534173,0,0,0,0,0,0,0,0,0,0,0,0,0,0,0.26287493,0,0,0,0,0,0,0,0,0.3693201,0,0,0.7083308,0,0,0,0.7605221,0,0,0,0,0,0,0,0,0,0,0,0,2.4408967,0,0,0.06932972,0,0,0,0,0,0,0.52917737,0,0.19119638,0,0,0,0,0,0,0,0,0,0,0.38855663,0,0,0,0,0,0,0,0,0,0,0,0,0,0,0,0,0,0,0,0,0,0,0,0,0,0,0,0,0,0,0,0,0,0,0,0,0,0,0,0,0,0,0,0,0,0,0,0,0,0,0,0,0,0,0,0,0,0,0,0,0,0.28191823,0,0,0,0,0,0,0,0,0,0,0,0,0,0,0,0,0.13818833,0,0,0,0,0.008297734,0,0.515542,0,0,0,0,0,0,0,0,0,0.052193586,0.1348046,0,0,0,0,0,0,0,0,1.3303092,0,0,0,0.3709006,0.9534918,0,0,0,0,0,0,0,0,0,0.41002697,0,0,0,0,0,0,0,0,0,0,0,0,0,0,0,0,0,0,0,0,0,0,0,0,0,0,0.946053,0,0,0,0,1.7460083,0,0,0,0,0.536721,0,0,0,0,0,0,0,0,0,0,0,0,0.80436814,0,0,0,0.24140814,0,0,0,0,0.301275,0,0,0,0,0,0,0,0,0,0,0,0,0,0,0,0,0,0,0,0.6944311,0,0,0,0,0,0,0,0,0,0,0.46278653,0,0,0,0,0,0,0,0,0,0,0,0,0,0,0,0.5568895,0,0,1.6347953,0,0.38638192,0,0,0.21733588,0,0,0,0,0,0,0,0,0,0.256028,0,0,0,0,0,0,0,0,0,0,0,1.3971914,0,2.0461082,0,0,0,0,0,0,0,0,0,0,0,0,0,0,0,0,0,0,0,0,0,0,0,0,0,0,1.5429677,0,0,0,0,0,0,0,0,0,0,0,0,0,0,0,0,0,0,0,0,0,0,0,0,0,0,0,0,0,0,0,0,0,0,0,1.4537357,0,0,0.13906255,0,0,0,0,0,1.5957655,0,0,0,0,0,0,0,0,0,0,0,0,0,0,0.10682719,0,0,0,0,0,0,0,0.6051262,0,0,0,0,0,0,0,0,0,0,0,0,0,0,0,0,0,0,0,0,0,0,0,0,0,0,0,0,0,0,0.3495192,0,0,0,0,0,0.7971455,0,0,0,0,0,0,0,0,1.5889399,0,0,0,0,0,0,0,0,0,0,0,0,0,0,0,0,0,0,0,0,0,0,0,0.2184868,0,0,0,0,0,0,0,0,0,0,0,0,0,0.18017147,0,0,0,0,0,0,0,0,0,0,0,0.73319584,0,0,0,0.7121208,0,0,0,0,0,0,0,0,0,0,0,0,0,0,0,0.8364606,2.9566877,0,0,0,0.19046524,0,0,0,0,0,0,0.38889164,0,0.21676841,1.5613449,0,0,0,0,0,3.4497907,0.98147136,0,0,0,0,0,0,0.72568417,0,0,0,0,0,0,0,0,0,0,0,0,0,0,0.1841347,0,0,0.1919364,0,0,0,0,1.0499387,0,1.5612302,0,0,1.5436358,0,0,0,1.5322311,0,0.6183356,0,0,2.2572293,0,0,0,0,0,0,0,0,0,0,0,0,0,0,0,1.8114572,0,0,0,0,0,0,0,0,0,0,0,0,0,0,0,0,0,0,0,0,0,0,0,0,0,1.4830315,0,0,0,0,0,0,0,0,0,0,0,0,0,0,0,0,2.5661213,0,0,0,0,0,0,0,0,0,0,0,0,0,0,0,0.06634283,0.18436801,0,0,0,0,0,0,0,0,0.38238454,0,0,0,0,0,0,0,0,0,0,0,0,0,0,0,0,0,0,0,0,0,0,0,0,0,1.6735263,0,0,0,0,0,0,0,0.055327646,0,0,0,0,0,0,0.07370885,0,0,0,0,0,0,1.1372566,0,0,0,0,0,0,0,0,0,1.0665388,0,1.4229474,0,0,0.29112154,0,0,0.71331835,0,0,0,0,0,0,0,0,0,0,0,0,0,0.40473324,0,0,0,0,0,0,0,0,0,0,0,0,0,0,0,0,0,0,0.30260152,0,0,0,0.382166,0,0,0,0,0,0,1.3602681,0,0,0,0,0,0,0,0,0,0.0635191,0,0,0,0.48178762,0,0,0,0,0,0,0,0,0,0,0,0.06561457,0,0,0,0,0,0,0,0,0,0,0,0,0.10566655,0,0,0,0,0,0,0,0,0,0,0]',\n",
       "  'http://assets.myntassets.com/v1/images/style/properties/c6a6fbe4d75e40529b7be5427d095142_images.jpg',\n",
       "  'Myntra Mens If You Dont Like Navy Blue T-shirt',\n",
       "  257.81653,\n",
       "  'Tshirts'),\n",
       " (29584,\n",
       "  '[0.1901514,0,0,0,0,0,0,0,0,0,0,0,0,0,0,0,0,0,0,0,0,0,0,0.28527817,0,0,0,0,0,0,0,0,0,0,0,0,0,0,0,0,0,0,0,0,0,0,0,0,0,0,0,0,0,0,0,0,0,0,0,0,0,0,0,0,0,0,0,0,0,0,0,0,0,0,0,0,0,0,0,0,0,0,0,0,0,0,0,0,0,0,0,0.8763435,0,0,0.3698707,0,0,0,0,0,1.1464453,0,0,0,0,0,0,0,0,0,0,0.68916875,0.0029690117,0,0,0.79184794,0,0,0,0,0,0,0,0,0,0,0,0,0,0,0,0,0,0.9593841,0,0,0,0,0,0.6031263,0,0,0,0,0,0,0,0,0,0,0,0,0,0,0,1.3030369,0,0,0,0,0,0,0,0,0,0,2.0472984,0,0,0,0,0,0,0,0,1.0054606,0,0,0,0,0,0,0,0,1.4251094,0,0,0,0,0,0,0,0,1.6255028,0,0,0,0,0,0,0,0,0,0,0,0,0,0,0,0,0,0,0,0,0,0,2.1183598,1.4478819,0,0,0,0,0,1.1599691,0,0,0,0,0,0,0,0,0,0,0,0,0,0.5943345,0,0,0,0,0.45024103,0,0.40205994,0,0,0,0,0,0,0.17018004,0,0,0,0,0,0,0,0,0,0,0,0,0,0,0,0,0,0,0,0,0,0,0,0,0,0,0,0,0,0,0,0,0,0,0,0,0,0,0,0,0,0,0,0,0,0.85567707,0,0.3162639,0,0,0,0,0,0,0,0.6672997,0,0,0,0,0.38368857,0,0,0,0.49296284,0,0,0,0,0,0.5311165,0,0,0,0,0,0,0,0,0,0,0,0,0.42972746,0,0,0,0,0,0,0,0,0,0,0,0,0,0,0,0,0.94437003,0,0,0.81326747,0,0,0,0,0.40726587,0,0,0,0,0,0,0,0,0,0,0,0,0,0.12576441,0,0,0,0,0,0,0,0,0,0,0,0,0,0,0,1.2226242,0,0,0,0,0,0,0,0,0,0,0,0,0,0,0,0,0,0,0.5197422,0,0,0,0,1.6553257,0,0,0,0,0,0,0,0,0,0,0,0,0,0.9697855,0,0,0,0,0,0,0,0,0,0,0.6751894,0,0,0,0,0,0,0,0,0,0,0,0,0,0,0,0,0,0,0,0,0,0,0,0,0,0,0,0,0,0,0,0,0,0,0,0,0,0,0,0,0,0,0,0,0,0,0,0.85358614,0,0,0,0,0,0.9341512,0,0,0,0.8429252,0,0,1.8174825,0.30620092,0,0,0,0,0,0,0,0,0,0,0,0,0,0,0,0,0,0,0,0,0,0,0,0,0,0,1.715326,0,0,0,0,0.23119909,0,0,0,0,0,0,0,0,0,0,0,0,0,0,0,0,0,0,0,0,0,0,0,0,0,0.07269542,0,0,0,0,0,0.46163023,0.64078534,0.5704452,0,0,0,0,0,0,0,0,0,0,0,0,0,0,0,0,0,0,0,0,0,0,0,0,0,0,0,0,0,0,0,0,0,0,0,0,0.004533753,0,0,0,0,0,0,0,0,0,0,0,0,0,0,0.50325406,0,0,0,0,0,0,0,0,0,0,0,0,0.5443057,0,0,0,0,0,0,0,0,0,0,0,0,0.37102532,0,0,0,0,1.5620284,0,0,0,0.5783602,0,0,0,0,0,1.4046996,0,0,1.7580774,0,0,0,0.109065086,0,0,0,0.6816682,0,0,0,0,0,0,0,0,0,0.32257107,0,0,0,0,0,0,0,0,0.6387834,0,0,0,0.8089043,0,0,0,0,0,0,0,0,0.3116567,0,0.22715911,0,0.29166532,0,0,0,0,0,0,0,0.37393647,0,0,0,0,0,0,0,0,0.23676577,0,0,0,0,0,0,0,0,0,0,0,0,0,0,0,0.22299916,0,0,0,0.61524963,0,0,0,0,0,0.16489385,0,0,0,0,0,0,0,0,0,0.9959489,0,0,1.3917339,0,0,0,1.6010278,0,0,0,0,0,0,0,0,0,0,0,0.21149933,0,0,0,1.3398292,0,0,0,0,0,0,0,1.2831606,0,0,0,0.6025955,0,0,0,0,0.6897097,0,0,0.093288094,0,0,0,0.43874943,0,0.28856838,0,0,0,0,0,0,0,0.3901406,0,0,0,0.43937072,0,0,0,0,0,0,0,0,0,0,0,0,0,0,0,0,0,0,0,0,0,0.6796074,0,0,0.8191123,0,0,0,0,0,0,0,0,0,0,0,0,0,0,0,0,0,0,0,0,0,0,0,0,0,0,0.060129553,0,0,0,0,0,0,0,0,0,0,0,0,0,0,0,0,0,0,0,0,0,0,0,0,0,0,0,0,0,0,0,0,0,0.09009319,0,0,0,0,0,0,0,0,0,0,0,0,0,0,0,0,0,0,0,0,0,0.24261935,0,0,0,0.8242235,0,0.03425762,0,0,0,0,0,0,0,0,0,0,0,0,0,0,0,0,1.8251259,0,0,0.19860485,0,0,0,0,1.7091252,0,0,0,0,0,0,0,0,0,0,0,0,0,0,0,0,0,0,1.598084,0.09570007,0,0,0.9483224,2.3121855,1.1293631,0,0,0,0,0,0,0,0,0.81849265,0,0,0,0,0.2007282,0,0,0,0,0,1.9166135,0,0,0,1.1432683,0,0,0.884166,0,0,0,0.26745856,0,0,0,0,0,0,0,0,0,0,0.085844964,0,0.5195128,0,0,0,0,0,0,0,1.4155878,0.1379102,0,0,0,0,0,0,0,0,0.20608817,0,0,0,0,0,0,0,0,0,0,0,0,0,0,0,0,0,0,0,0,0,0,0,0.40946364,0,0,0,0,0,0,0,0,0,0,0,0,0.12136048,0,0,0,0,0,0,0,0,0,0,0,0,0,0,1.0637534,0,0,0,0.49978128,0,0,0,0,0,0,1.6779487,0,0,0,0,0,0,0,0,0,0,0,0,0,0,0,0,0,0,0,0,0,0,0,0,0,0,0,0,0,0,0,0,0.26681834,0,0,0,0,0,0.6173019,0,0,0,0,0.9490278,0,0,0,0,0,0,0,0,0,0,0,0,0,0,0,0.81220335,0,0,0,0,0,0,0,0,0,0,0,0,0,0,1.4251249,0,0,0,0,0,0,0,0,0,0,0,0,0,0,0,0,0,0,0,0.04803443,0,0,0,0,0,0.04132025,0,0,0,0,0,0,0,0,0,0,0,0,0,0,0,0.107069515,0,0,0,0,0,0,0,0,0,0,0,0,0.042641908,0,0.046659254,0.020500433,0,0,0,0,0,0,0,0,0.40365848,0,0,0,0,0,0,0,0,0,0,0,0,0,0,0,0,0,0,0,0,0,0,0,0,0.6852518,0,0,0,0,0,0,0,1.4077392,0,0,0,0,0,0,0.16934451,0,0,0,0,0,0,0,0,0,0,0,0,0,0,0,0,0,0,0,0,0,0,0,0,0,0.030674867,0,0,0,0,0,0,0,0,0,0,0,0,0.31068838,0,1.2945391,0,0,0,0,0,0,0,0,0,0,0,0.856418,0,0,0,0.26286504,0,0,0,0,0,0,1.7901635,0,0,0,0,0,0,0,0,0,1.3958893,0,0,0,0,1.0589194,0,0,0.25856793,0,0,0,0,0,0,0,0.6139815,0,0,0,0,0,0,0,0,0,0,0,0,0,0,0,0,0.17178299,0,0,0,0,0,0,0,0,0.2675819,0,0,0,0.020120403,0,0,0,0,0,0,0,0,0.3249391,0,0,0,0,0,0,0,0.44549516,0,1.113452,0,0,0,0,0,0,0,0,0,0,0,0,0,0,0,0,0,0,0,0,0,0,0,0,0,0,0,0,0,0,0,0,0,0,0,0,0.3800066,0,0,0,0,0,0,0,0,0.5012008,0,0,0,0,0,0,0,0,0,0,0,0,0,0,0,0,0,0,0,0,0.21347868,0,0,0,0.25900772,0,0,0,0,0.6032402,0,0,0,0,0,0,0,0,0,1.1302196,0,0,0,0,0,0,0,0,0,1.3516124,0,0,0,0,0,0,1.4761381,0,0,0,0,1.5150666,0,0,0,0,1.2312438,0,0.71582717,0,0,0.40294734,0.08193201,0,0,0,0,0.7656122,0.3438156,0,0,0,0,0.300002,0,0,0,0,0,0,0,2.0031724,0,0,0,0,2.4941912,0,0,1.1310182,0,0.036339458,0,0,0,0,0,0.7581765,0,0,0,0,0,0,0,0,0,0,0,0,0,0,0,0,0,0,0,0,2.377524,0,0,0,0,0,0,0,0,0,0,0,0,0,0,0,0,0,0,0,0,0,0,0,0,0,0,0,0.026364118,0,0,0,0,0,0,0,0,0,0.18211427,0,0,0,0,0,0,0,0,0,0,1.3025434,0,0,0,0,0.09487678,0.30388805,0,0,0,0,0,0,0,0,0,0,0,0,0,0,0,0,0,0,0,0.4815179,0,0,0,0,0.4102131,0,0.57313955,0,0,0,0,0.59261346,0,0,0,0,0,0,0,0,0,0,0,0,0.8854429,0,0,0,0,0,0,0.5414654,0,0,0,0,0,0,0,0,0,0,0,0,0,0,0,0,0,0,0,1.2417685,0,0,0,0,0,0,0,0,0,0,0,0,0,0,0,0,0.689445,0,0,0,0,0,0,0,0,0,0,0,1.0143459,0,0,0,0,0,0,0,0,0,0,0,0,0,0,0.30895448,0,0,0,0,0,0,0,0.28124017,0,1.703348,0,0,0,0,0,0,0,0,0,0,0,0,0,0,0,0,0,0,0,0,0,0,0,0,0.8275557,0,0,0,0,0.058213174,0,0,0,0,0,0,0,0,0,0,0,0,0,0,0,0,0,0,0.6174394,0,0,0,0,0,0,0,0,0,0,0,0,0,0,0,0,0,2.2598488,2.0603268,0,0,0,0,0,0,0,0.47819376,0,0,0,0,0,0,0,0,0,0,1.6502824,0,0,0.008894011,0,0,0,0,0,0,0,0,0,3.3291411,0,0,0,0,0,0,0,0.30948156,0,1.374779,0,0,0.9200882,0,0,0,0,0,0,0,0,0,0,0,0,1.8075966,0,0,0,0,0,0,0,0,0,0,0,0,0,0.61969435,0,0,0,0,0,0,0,0,0,0,0,0,0,0,0,0,0,0,0,0,0,0,0.47251874,0,0,0,0,0.04970576,0,0,0,0,0,0,0,0,0,0,0,0,0,0,0,0,0,0,0,0,0,0,0,0,0,0,0,0,0,0,0,0,0,0,0,0,0,0.12271443,0,0,0,0,0,0,0,0,0,0,0,0,0.54572666,1.3960396,0,0,0,0,0,0,0,0,0,0,1.3678623,0,0,0,0,0,0,0,0,0,1.4274384,0,0,0,0.23098578,0,0,0,0.21688786,0,0,0,0,0,0,0,0.69079626,0,0,0,0,0,0,0,0,0,0.9810548,0,0,1.7638433,1.0573701,0,0,0,0,0,0,0,0,0,0,0,0,0,0,0.105073854,0,0,0,0,0,0,0,0,1.5549974,0,0,0,0,0.33627212,0,0,0,0,0,0.4698343,0,0,0,0,0,0,0,0,0,0,0,0,0,0,0,0,0,0,0,0,0,0,0,0,0,0,0,0,0,0,0,0,0,0,0,0,0,0,0,0,0,0,0,0,0,0,0,0,0,0,0,0,0,0.5942635,0,0,0,0,0,0,0,0,0,0.06280929,0,0,0.2709369,0,0,0,0,0,0,0,0,0,0,0,0,0,0,0,0,0,0,0,0,0,0,0,0,0,0,0,0,0,0,0,0,0,0,0,0,0,0,0,0,0,0,0,1.0634496,0,0,0,0,0,0,0,0,0,0,0,0,0,0.63910806,0,0,0,1.6871239,0,0,0,0,0,0,0,0,0,0,0,1.2911947,0,0,0.49988806,0,1.0774753,0,0,0,0,0,0,0,0,0,0,0,1.2449281,0,0,0,0,0,0,0,1.2752312,0,0,0.840525,0,0,0,0,0,2.651223,0,0,0,0.40129724,0,0,0,0,0,0,0,0,0,0,0,0,0,0,0,0.76528054,0,0,0,0,0.8954874,0,0,0,0.17938182,0,0,0,0,0,0,0,0,0,0,0,0,0,0.5424179,0,0,3.366956,0,0,0.22592063,0,0,0,0,0,0,0,0,0.39926803,0,0,0.5752398,0,0,0,0,0,0,0,0,0,0,0.0659102,0,0,0,0,0,2.334652,0,0,0.029715508,0,0,0,0,1.2598664,0,2.051171,0,0,0,0,0,0,0,0,0,0,0,0,0,0,0,0,0,0,0,0,0,0,0,0,0,0,0,0,0,0,0,0,0,0,0,0,0,0,0,0,0,0,0,2.213118,0,0,0,0,0,0.53132683,0,0,0.44138378,0,0,0,0,0,0,0,0,0,0,0,0,0,0,0,0,0,0,0,0,0,0,0,0,0.59087354,0,0,0,0,0,0,0,0,1.412506,0,0,0,0,0,0,0,1.4475473,0,0,0,0,0,0,0,0,0,0,0,0,0,0,0,0,0,0,0,0,0,0,0,0,0,0,0,0,0,0,1.0304016,0,0,0,0,0,0,0,0,0,0,0,0,0,0,0,0,0,2.3331103,0,0,0,0,0,0,0,0,0,0,0,0,0,0,0,0,0,0,0,0,0,0,0.90122145,0.66641647,1.7570318,0,1.437696,0,0,0,1.3978368,0,0,0,0,0,0,0,0,0,0,0,0,0,0,1.1078892,0,0,0,0,0,0,0,0,0,0,0,0,0,0,0,0,0,0,0,0,0,0,0.37941062,0,0,0,0,0,0,0,0.0070969164,0,0,0,0.8774594,0,0,0,0,0.017262727,0,0,0,0,0,0,0,0,0,1.5494052,0,0,0,0,0,0,0,0,0,0,0,0,0,0,0,0,0,0,0,0,0,1.1367127,0,0,0,0,0,0,0,0,0,0,0,0,0,0,0,0,0,0,1.2820342,0,0,0,0,0,0,0,0,0,0,0,0,0,0,0,0,0.61291564,0,0,0,0,0,0.12602203,0,0.019646995,0,0,0,0,0,0,0,0,0,0,0,0,0,0,0,0,0,0.7290841,0,0,0,0,0,1.1210299,0,0,0,0,0,0,0,0,0.5536134,0,0,0,0.39424667,0,0,0,0,0,3.2680266,0.49538875,0,0,0,0,0.24570583,0,0,0,0,0,0,0,0,0,0.19641721,0,0,0,0.711139,0,0,0,0,0,0,0,0,0,0,0.1798073,0,0,0,0,0,0,0,0,0,0,0,0,0,0,0,0,0,0,0,0,0,0,0,0,0,0.26969302,0,0,0,0,0,0,0.6535384,0,0,0,0,0,1.3842065,0,0,0,0,0,0,0,0,0,0,0,0,0,0,1.1815717,0,0,0,0,0,0.37424934,0,0,0,0,0,0,0,0,0,0,0,0,0,0,0,0,0,0,0,0,0,0,0,0,0,0,0,0,0,0,0,0,0,0,0,0,0.17139772,0.26755202,0,0,0,0,0,0,0,0,0,0,0,0,0,0,0,0,0,0,0,0,0,0.38457832,0,0,0,0,0,0,0,0,0,0.16141178,0,0,0.17371887,0,0,0,0,0,0,0,0,0,0,0,0,0,0,0,0,0,0,0.4349907,0,2.069185,0,0,1.3241329,0,0,0.1736396,0,0,0,0,0.8816408,0,0,0,0,0,1.6891555,0,0,0,0,0,0,0,2.5482287,1.284688,0,0.30531055,0,0,0,0,0,0,0,0,0,0.9173508,0,0,0,0,0,0,0,0,0,0,0,0,0,0,0,0.77706873,0,1.6095387,0,0,0,0.23568583,0,0,0,0,0,0,0,0,0,0,0,1.1790044,0,0,0,0,0,0,0,0,0,0,0,0,0,0,0,0,0,0,0,0,0,0,0,0,0,0,0,0,0.08326377,0,0.3073675,0.25294995,0,0,0,0,0,0,0,0,0,0,0.4893722,0,0,0,0,0.7692993,0,0,0,0,0,0,0,0,0,0,0,0,1.9219068,0,0,0,0,0,0,2.4892383,0,0,0,0,0,0,0,0,0,0,0,0,0,0,0,0,0,0,0,0,0,0,0,0,0,0,0,0,0,0,0,0,0,0,0.30386585,0,0.21353687,0,0,0,0.47636598,0,0,0,0,0,0,0,0,0,0,0,0,0,0,0,0,0,0,0,0,0,1.6873719,0,0,0,0,0.14591326,0,0,0,0,0,1.2172282,0,0.5247774,0,0,0,0,0,0,0,1.3419449,0.15002403,0,0,0,0,0,0,0,0,0,0,0,0,0,0,0,0,0,0,0,0,0,0,0,0,0,0,0,0,0,0,0,0,0,0,0,0,0,0,0,0,0,0,0,0,0.07124673,0,0.43112046,0,0,0,0,0,0,0,0,0,0,0,0,0,0,0,0,0,0,0,0,0,0,0,0,0,0,0,0,0,0,0,0,0,0,0,0.29521385,0,0,0,0,0,0.057293743,0,0,0,0,0,0,0,0,0,0,0,0,0.20495518,0,0,0,0,0,0,0,0,0,0,0.5139332,0,0,0,0,0,0,0,0,0,0,0,0.2864295,0.13029526,0,0,0,0,0,0.26866558,0,0.41860867,0,0,0,0,0,0,0,0,0,0,0.29334834,0,0,0,0,0,0,0,0,0,0,0,0,0,0,0,0,0,0,0,0,0,0,0,0,0,0,0,0,0,0,0,0,0,0,0,0,0,0,0,0,0,0,0,0,1.0739478,0,0,0,0,0,0,0,0,0,0,0,0.10634998,0,0,0,0,0,0,0,1.6124325,0,0,0,0,0,0,0,0,0,0,0,0,0,0,0,0,0,0,0,0.021199018,0,0.2297248,0,0,0,0,0,0,0,0,0,0,0,1.0293012,0.6387802,0,0,0,0,0,0,0,0,0,0,0,0,0,0,0,0,0,0,1.2826514,0,0,0,0,0,0,0,0,0,0,0,0,0.9172154,0.578788,0,0,1.0332568,0,0,0,0.5649147,0,0,0,0,0,0,0,0,0,0,0,0,0,0,0,0,0,0,0,1.2578146,0,0.22553964,0,0.49193928,0,0,0,0,0,0,0,0,0,0,0,0,0,0,0,0,0,0,0,0,0,0,0,0,0,0,0.3904614,0,0,0,0,0,0.202634,0,0,0,0,0,0,0,0,0,1.6524409,0,0,0,0,0.37916765,0,0,0,0,0,2.0650427,0,0,0,0,0,0,0,0,0,0,0,0,0,0,0,0,0,0,0,0,0,0,0,0,1.5781208,0,0,0,0,0,0,0,0,0,0,0,0,0,0,0,0,0.3942133,0,0,0,0,0,0,0,0,0,0,0,0,0,0,0,0,0,0,0,0,0.9021993,0,0.52163804,0,0,0,0,0,0,0,0,2.3006604,0,0,0,0,0,0,0,0,0,0,0,0,0,0,0.42427894,0,0,0,0,0,0,0,0,0,0,0,0,0,0,0,0.23825297,0,0,0,0,0,0,0,0,0,0,0,0,0,0,0,0,0.80917144,0,0,0,0,0,0,0,0,0,0,0,0,0,0,0,0,0,0,0,0,0,0,0,0,0,0,0.51919925,0,0,0,0,0,0,0,0,0,0,0,0.2446949,0,0,0,0,0,2.1197026,0,0,0,0,0,0,0,0,0,0,0,0,0,0,0,0,0,0,0.81246966,0,0.528492,0,0.47423473,0,0,0,0,0,0,0,0,0,0.08096199,0,0,0,0,0,0,0,0,0.30922952,0,0,0,0,0,0,0.15529351,0,0,0,0,0.94152534,0,0,0,0,0,0,0,0,0,0,0,0,0,0,1.8948071,0,0,0,0,0,0.9615526,0,0,0,0,0,0,0,0,0,0,0,0,0,0,0,0,0,0,0,0.03388305,0,0,0,0,0,0,0,0.5300154,0,0,0,0,0,0,0,0.49147642,0.04506007,0,0,0,0,0,0,0.6609016,0,0,0,0,0,0,0,0.9568572,0,0,0,0,0,0,0,0.17521204,0,0,0,0,0,0,0,0,1.2456357,0,0,0,0,0,0,0.27780828,0,0,0,0,0,0,0,1.1278903,0,0,0,0,0,0,0,0,0,0,0,0,0,0,0,0,0,0,0,0,0,0,0,0,0,0,2.4281497,0,0,0,0,0,0,1.8250351,2.0340738,0,1.3083174,0,0,0.122945614,0,0,0,0.9672394,0,2.7224686,0,0,0.13778096,0,0,0,0,0,0,0,0,0,0,0,0,0.36774045,0,0,0,0,0,0,0,0,0,0,0,0,0,0,0,0.68780565,0.3239262,0,0,0,0,0,0,0,0,0,0,0,0,0,0,0,0,0,0,0,0,0,0,0,0,0,0,0,0,0,0,0,0,0,0,0,0,0,0,0,1.0184431,0,0.2497806,0,0,0,0,0,0,0,0.06491164,0,0,0,0,0,0,0,0.15582728,0,0,0,0,0,0,0,0,0,0,0,0,0,0,0,0,0,0,0,0,0,0,0,0.44840348,0,0,0,0,0,0,0,0,0,0,0,0,0,0,0,2.436557,0,0,0,0,0,0,0,0,0,0.52946883,0,0,0.98465693,0,0,0,0,0,0,0,0,0,0,0,0,0,0,0,0,0,0,0,0,0,0,0,0,0,0,0,0,0,0,0,0,0,0.0703464,0,0,0,0,0,0,0,0,0,0,0,0,0,0,0,0,0,0,0,0,0,0,0,0,0,0,0,0,0,0.83772445,0,0,0,0,0,0,0,0,0,0,0,0,0,0,0,0.67147696,0.4990526,0,0,0,0,0,0,0,0,0,0,0,0,0,0,0,0,0,0,0,0]',\n",
       "  'http://assets.myntassets.com/v1/images/style/properties/7a1bc7d255671c7f4b85f1b1b35e945b_images.jpg',\n",
       "  'Indigo Nation Men Printed Black T-shirt',\n",
       "  140.76332,\n",
       "  'Tshirts')]"
      ]
     },
     "execution_count": 82,
     "metadata": {},
     "output_type": "execute_result"
    }
   ],
   "source": [
    "cur.fetchall()"
   ]
  },
  {
   "cell_type": "code",
   "execution_count": null,
   "metadata": {},
   "outputs": [],
   "source": []
  }
 ],
 "metadata": {
  "kernelspec": {
   "display_name": "matchmylook_env",
   "language": "python",
   "name": "python3"
  },
  "language_info": {
   "codemirror_mode": {
    "name": "ipython",
    "version": 3
   },
   "file_extension": ".py",
   "mimetype": "text/x-python",
   "name": "python",
   "nbconvert_exporter": "python",
   "pygments_lexer": "ipython3",
   "version": "3.11.3"
  }
 },
 "nbformat": 4,
 "nbformat_minor": 2
}
